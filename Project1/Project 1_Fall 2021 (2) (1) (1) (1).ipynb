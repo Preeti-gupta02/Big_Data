{
 "cells": [
  {
   "cell_type": "markdown",
   "metadata": {},
   "source": [
    "# <p style=\"text-align: center;\">MIS 285N: Big Data and Distributed Programming</p>\n",
    "# <p style=\"text-align: center;\">Project - 1 : Apache Spark</p>\n",
    "## <p style=\"text-align: center;\">Instructor: Dr. Ramesh Yerraballi</p>\n",
    "## <p style=\"text-align: center;\">Due: Tuesday, September 14th submitted via Canvas by 11:59 pm</p>\n",
    "\n",
    "Your work should be written in a **Jupyter notebook**.   \n",
    "\n",
    "Also, please make sure your code runs in your notebook before submitting.\n",
    "\n",
    "**Note:**\n",
    "\n",
    "This project is based on Map-Reduce Framework. In these you will get to work with Spark and will get to know how \n",
    "does spark work, what functionalities does spark provide, what does map-reduce framework do and why is it useful. \n",
    "\n",
    "In this project you will be implementing a basic song recommender system. You will be given a dataset where there are multiple csv files. These csv files have data corresponding to song play count and song information.\n",
    "\n",
    "The data you would be using will be provided in a zip file along with this notebook. The __msd.zip__ archive contains:\n",
    "1. **'kaggle_visible_evaluation_triplets.txt'**. We will be using the visible part of the testing data to understand the working on Apache Spark.  The user's listening history is provided as: (user, song, play count).  \n",
    "2. In **'kaggle_songs.txt'** file, each song is marked using an index for easier representation of songs.  \n",
    "3. And **'kaggle_users.txt'** file is the canonical list of user identifiers.\n",
    "4. Take **'MSDChallengeGettingstarted.pdf'** as your reference.\n",
    "\n",
    "\n",
    "\n",
    "### **What to turn in?**  \n",
    "\n",
    "A zip folder which will have:\n",
    "1. Jupyter Notebook\n",
    "2. A brief report in PDF format on what features you used for recommendation. And a brief explanation of flow of your code. For example,  what RDD does what or, why it was created.\n",
    "3. datasets folder with the csv files you are using in your notebook.\n",
    "4. Notebook should use relative path to the csv files in datasets folder.\n",
    "5. Name of the zip folder - `<your_name>_<your_partner_name>.zip`"
   ]
  },
  {
   "cell_type": "markdown",
   "metadata": {},
   "source": [
    "This project consists of 4 questions:  \n",
    "\n",
    "1. Create an RDD with _kaggle_visible_evaluation_triplets.txt_ and replace the song name with the song index from _kaggle_songs.txt_. Identify the number of songs that do not have any rating. \n",
    "2. Generate song ratings based on the song play count as a normalized score between 0 and 1. \n",
    "3. Identify the popular song based on this rating and recommend songs to user, given user id based on the algorithm used in Movie recommender system from class. \n",
    "4. Using Cosine similarity function, identify pair-wise similarity between each pair of users and generate the top 5 most similar users without an overlap in users. \n",
    "\n",
    "The above list is the higer level idea about the questions. "
   ]
  },
  {
   "cell_type": "code",
   "execution_count": 13,
   "metadata": {
    "scrolled": true
   },
   "outputs": [],
   "source": [
    "### Starter code ####\n",
    "import findspark\n",
    "import pandas as pd\n",
    "findspark.init('C:\\\\apachestark')\n",
    "from pyspark import SparkConf, SparkContext\n",
    "#from pyspark.sql import SparkSession\n",
    "conf = SparkConf().setMaster(\"local[*]\").setAppName(\"Songs\")\n",
    "sc = SparkContext(conf = conf)\n",
    "#### These lines are to tell jupyter where to find Apache Spark ####"
   ]
  },
  {
   "cell_type": "code",
   "execution_count": 12,
   "metadata": {},
   "outputs": [],
   "source": [
    "#sc.stop()"
   ]
  },
  {
   "cell_type": "code",
   "execution_count": 15,
   "metadata": {},
   "outputs": [
    {
     "data": {
      "text/plain": [
       "[['SOAAADD12AB018A9DD', '1'],\n",
       " ['SOAAADE12A6D4F80CC', '2'],\n",
       " ['SOAAADF12A8C13DF62', '3'],\n",
       " ['SOAAADZ12A8C1334FB', '4'],\n",
       " ['SOAAAFI12A6D4F9C66', '5']]"
      ]
     },
     "execution_count": 15,
     "metadata": {},
     "output_type": "execute_result"
    }
   ],
   "source": [
    "## Read triplet file into RDD\n",
    "triplet_rdd = sc.textFile(r\"kaggle_visible_evaluation_triplets.txt\") \\\n",
    "    .map(lambda line: line.split(\"\\t\")) \n",
    "\n",
    "triplet_rdd1 = triplet_rdd\n",
    "kaggle_songs_rdd = sc.textFile(r\"kaggle_songs.txt\") \\\n",
    "    .map(lambda line: line.split(\" \")) \n",
    "kaggle_songs_rdd.take(5)\n"
   ]
  },
  {
   "cell_type": "markdown",
   "metadata": {},
   "source": [
    "## Step 1: \n",
    "Replace song name with song index and identify the number of songs without user history"
   ]
  },
  {
   "cell_type": "code",
   "execution_count": 16,
   "metadata": {
    "scrolled": false
   },
   "outputs": [
    {
     "name": "stdout",
     "output_type": "stream",
     "text": [
      "[('SOBONKR12A58A7A7E0', ('fd50c4007b68a3737fe052d5a4f78ce8aa117f3d', '1')), ('SOEGIYH12A6D4FC0E3', ('fd50c4007b68a3737fe052d5a4f78ce8aa117f3d', '1')), ('SOFLJQZ12A6D4FADA6', ('fd50c4007b68a3737fe052d5a4f78ce8aa117f3d', '1')), ('SOHTKMO12AB01843B0', ('fd50c4007b68a3737fe052d5a4f78ce8aa117f3d', '1')), ('SODQZCY12A6D4F9D11', ('fd50c4007b68a3737fe052d5a4f78ce8aa117f3d', '1'))]\n",
      "[('SOBONKR12A58A7A7E0', (('fd50c4007b68a3737fe052d5a4f78ce8aa117f3d', '1'), '25150')), ('SOBONKR12A58A7A7E0', (('c34670d9c1718361feb93068a853cead3c95b76a', '1'), '25150')), ('SOBONKR12A58A7A7E0', (('c5006d9f41f68ccccbf5ee29212b6af494110c5e', '1'), '25150')), ('SOBONKR12A58A7A7E0', (('e4332e11f4df6dd26673bb6b085e9a2bbdc9b8a5', '2'), '25150')), ('SOBONKR12A58A7A7E0', (('baf2fe5885ab93fbbdb7fecc6691788e70afb6c8', '4'), '25150'))]\n"
     ]
    },
    {
     "data": {
      "text/plain": [
       "[('fd50c4007b68a3737fe052d5a4f78ce8aa117f3d', '25150', '1'),\n",
       " ('c34670d9c1718361feb93068a853cead3c95b76a', '25150', '1'),\n",
       " ('c5006d9f41f68ccccbf5ee29212b6af494110c5e', '25150', '1'),\n",
       " ('e4332e11f4df6dd26673bb6b085e9a2bbdc9b8a5', '25150', '2'),\n",
       " ('baf2fe5885ab93fbbdb7fecc6691788e70afb6c8', '25150', '4')]"
      ]
     },
     "execution_count": 16,
     "metadata": {},
     "output_type": "execute_result"
    }
   ],
   "source": [
    "rdd1=triplet_rdd.map(lambda x:(x[1],(x[0],x[2])))\n",
    "print(rdd1.take(5))\n",
    "rdd3 = rdd1.join(kaggle_songs_rdd)\n",
    "print(rdd3.take(5))\n",
    "rdd4 = rdd3.map(lambda x: (x[1][0][0], x[1][1], x[1][0][1]))\n",
    "rdd4.take(5)"
   ]
  },
  {
   "cell_type": "code",
   "execution_count": 17,
   "metadata": {},
   "outputs": [
    {
     "name": "stdout",
     "output_type": "stream",
     "text": [
      "223007\n",
      "[('fd50c4007b68a3737fe052d5a4f78ce8aa117f3d', '25150', '1'), ('c34670d9c1718361feb93068a853cead3c95b76a', '25150', '1'), ('c5006d9f41f68ccccbf5ee29212b6af494110c5e', '25150', '1'), ('e4332e11f4df6dd26673bb6b085e9a2bbdc9b8a5', '25150', '2'), ('baf2fe5885ab93fbbdb7fecc6691788e70afb6c8', '25150', '4')]\n"
     ]
    }
   ],
   "source": [
    "countt = rdd4.groupBy(lambda x: (x[1])).count()\n",
    "print(kaggle_songs_rdd.count() - countt )\n",
    "print(rdd4.take(5))"
   ]
  },
  {
   "cell_type": "markdown",
   "metadata": {},
   "source": []
  },
  {
   "cell_type": "markdown",
   "metadata": {},
   "source": [
    "## Step 2:\n",
    "Generate song ratings based on the play_count. For example, if (song_1, 5; song_2, 10; song_3, 5) i.e., song_1 is played 5 times, song_2 is played 10 times and song_3 is played 5 times, the normalized rating score should be 0.25, 0.5 and 0.25 respectively. \n",
    "Similarly, generate the rating for all the songs. You may notice that based on all songs, the rating is almost always very low. So, think of the best way to convert song count to ratings. (Hint: Try generating ratings based on each user's song play history)"
   ]
  },
  {
   "cell_type": "code",
   "execution_count": 18,
   "metadata": {},
   "outputs": [
    {
     "data": {
      "text/plain": [
       "[('SOBONKR12A58A7A7E0', ['fd50c4007b68a3737fe052d5a4f78ce8aa117f3d', '1']),\n",
       " ('SOEGIYH12A6D4FC0E3', ['fd50c4007b68a3737fe052d5a4f78ce8aa117f3d', '1']),\n",
       " ('SOFLJQZ12A6D4FADA6', ['fd50c4007b68a3737fe052d5a4f78ce8aa117f3d', '1']),\n",
       " ('SOHTKMO12AB01843B0', ['fd50c4007b68a3737fe052d5a4f78ce8aa117f3d', '1']),\n",
       " ('SODQZCY12A6D4F9D11', ['fd50c4007b68a3737fe052d5a4f78ce8aa117f3d', '1'])]"
      ]
     },
     "execution_count": 18,
     "metadata": {},
     "output_type": "execute_result"
    }
   ],
   "source": [
    "# Make song name the key \n",
    "triplet_map = triplet_rdd.map(lambda x : (x[1], [x[0], x[2]]))\n",
    "triplet_map.take(5)"
   ]
  },
  {
   "cell_type": "code",
   "execution_count": 19,
   "metadata": {},
   "outputs": [
    {
     "name": "stdout",
     "output_type": "stream",
     "text": [
      "[('SOBONKR12A58A7A7E0', '11'), ('SOFLJQZ12A6D4FADA6', '11'), ('SOHTKMO12AB01843B0', '51'), ('SOXLOQG12AF72A2D55', '15')]\n",
      "[('SOBONKR12A58A7A7E0', '11'), ('SOFLJQZ12A6D4FADA6', '11'), ('SOHTKMO12AB01843B0', '51'), ('SOXLOQG12AF72A2D55', '15')]\n",
      "[('SOBONKR12A58A7A7E0', 2.1624707525830714e-07), ('SOFLJQZ12A6D4FADA6', 2.1624707525830714e-07), ('SOHTKMO12AB01843B0', 2.1624707525830714e-07), ('SOXLOQG12AF72A2D55', 1.0812353762915357e-06)]\n"
     ]
    }
   ],
   "source": [
    "total_play_count = triplet_map.map(lambda x:int(x[1][1])).sum()\n",
    "play_count_overall = triplet_map.reduceByKey(lambda x, y: x[1]+y[1])\n",
    "print(play_count_overall.take(4))\n",
    "play_count_overall_1 = play_count_overall.mapValues(lambda x: int(x[1])/total_play_count)\n",
    "print(play_count_overall.take(4))\n",
    "print(play_count_overall_1.take(4))"
   ]
  },
  {
   "cell_type": "code",
   "execution_count": 20,
   "metadata": {
    "scrolled": false
   },
   "outputs": [
    {
     "name": "stdout",
     "output_type": "stream",
     "text": [
      " t5 [('fd50c4007b68a3737fe052d5a4f78ce8aa117f3d', ('25150', 1)), ('c34670d9c1718361feb93068a853cead3c95b76a', ('25150', 1)), ('c5006d9f41f68ccccbf5ee29212b6af494110c5e', ('25150', 1)), ('e4332e11f4df6dd26673bb6b085e9a2bbdc9b8a5', ('25150', 2)), ('baf2fe5885ab93fbbdb7fecc6691788e70afb6c8', ('25150', 4))]\n",
      " t6 [('fd50c4007b68a3737fe052d5a4f78ce8aa117f3d', 1), ('c34670d9c1718361feb93068a853cead3c95b76a', 1), ('c5006d9f41f68ccccbf5ee29212b6af494110c5e', 1), ('e4332e11f4df6dd26673bb6b085e9a2bbdc9b8a5', 2), ('baf2fe5885ab93fbbdb7fecc6691788e70afb6c8', 4)]\n",
      " t7 [('e4332e11f4df6dd26673bb6b085e9a2bbdc9b8a5', 54), ('f6e34f0a68d5ea1344511e33486f956de361db78', 219), ('bcb1e6d620cf522390d5c92bae26936928e0b588', 56), ('ed199f27a41066e37414c3fe9eefb2ae372b8819', 24), ('c1d24ce8cd80e40aa8d803d5ddfceb91a6b5d75d', 15)]\n",
      " t8 [('bcb1e6d620cf522390d5c92bae26936928e0b588', (56, ('25150', 26))), ('bcb1e6d620cf522390d5c92bae26936928e0b588', (56, ('177172', 1))), ('bcb1e6d620cf522390d5c92bae26936928e0b588', (56, ('212753', 8))), ('bcb1e6d620cf522390d5c92bae26936928e0b588', (56, ('25890', 1))), ('bcb1e6d620cf522390d5c92bae26936928e0b588', (56, ('259912', 1)))]\n",
      " t9 [('bcb1e6d620cf522390d5c92bae26936928e0b588', '25150', 0.4642857142857143), ('bcb1e6d620cf522390d5c92bae26936928e0b588', '177172', 0.017857142857142856), ('bcb1e6d620cf522390d5c92bae26936928e0b588', '212753', 0.14285714285714285), ('bcb1e6d620cf522390d5c92bae26936928e0b588', '25890', 0.017857142857142856), ('bcb1e6d620cf522390d5c92bae26936928e0b588', '259912', 0.017857142857142856)]\n",
      " t10 [('25150', 0.4642857142857143), ('177172', 0.017857142857142856), ('212753', 0.14285714285714285), ('25890', 0.017857142857142856), ('259912', 0.017857142857142856)]\n",
      " t11 [('98924', 0.09733013669292478), ('302369', 0.07242217163496932), ('170536', 0.18490677612062836), ('183796', 0.06976218180987774), ('257058', 0.05231647594438291)]\n"
     ]
    },
    {
     "data": {
      "text/plain": [
       "[('98924', 0.09733013669292478),\n",
       " ('302369', 0.07242217163496932),\n",
       " ('170536', 0.18490677612062836),\n",
       " ('183796', 0.06976218180987774),\n",
       " ('257058', 0.05231647594438291)]"
      ]
     },
     "execution_count": 20,
     "metadata": {},
     "output_type": "execute_result"
    }
   ],
   "source": [
    "rdd5 = rdd4.map(lambda x:(x[0],(x[1],int(x[2])))) # username, song id, int(count)\n",
    "print(f' t5 {rdd5.take(5)}')\n",
    "rdd6 = rdd5.map(lambda x: (x[0], x[1][1])) # usernae, count\n",
    "print(f' t6 {rdd6.take(5)}')\n",
    "#print(t6.take(5))\n",
    "rdd7 =rdd6.groupByKey().map(lambda x: (x[0],sum(list(x[1])))) # username , sum(total count)\n",
    "print(f' t7 {rdd7.take(5)}')\n",
    "#print(t7.take(5))\n",
    "rdd8 = rdd7.join(rdd5) # username , total count , song id , songid_count\n",
    "print(f' t8 {rdd8.take(5)}')\n",
    "#print(t8.take(5))\n",
    "rdd9 = rdd8.map(lambda x:( x[0] , x[1][1][0], x[1][1][1]/x[1][0])) # user info, song id, user's rating for the song\n",
    "print(f' t9 {rdd9.take(5)}')\n",
    "#print(t9.take(5))\n",
    "rdd10 = rdd9.map(lambda x: (x[1], x[2])) # to get song id, rating\n",
    "print(f' t10 {rdd10.take(5)}')\n",
    "#print(t10.take(5))\n",
    "rdd11 = rdd10.groupByKey().map(lambda x:(x[0], sum(list(x[1]))/len(list(x[1]))))\n",
    "print(f' t11 {rdd11.take(5)}')\n",
    "rdd11.take(5)"
   ]
  },
  {
   "cell_type": "markdown",
   "metadata": {},
   "source": [
    "## Step 3: \n",
    "For a given user_id (choose one by yourselves), rating, recommend 5 other songs from the list. One way to do this is based on another user who liked the same song liked by this user with rating more than the given rating and recommend the 5 songs based on the matched user's rating. "
   ]
  },
  {
   "cell_type": "code",
   "execution_count": 22,
   "metadata": {},
   "outputs": [
    {
     "name": "stdout",
     "output_type": "stream",
     "text": [
      "d7083f5e1d50c264277d624340edaaf3dc16095b\n",
      "[('bcb1e6d620cf522390d5c92bae26936928e0b588', '25150', 0.4642857142857143), ('bcb1e6d620cf522390d5c92bae26936928e0b588', '177172', 0.017857142857142856), ('bcb1e6d620cf522390d5c92bae26936928e0b588', '212753', 0.14285714285714285), ('bcb1e6d620cf522390d5c92bae26936928e0b588', '25890', 0.017857142857142856), ('bcb1e6d620cf522390d5c92bae26936928e0b588', '259912', 0.017857142857142856)]\n",
      "[('25150', 0.4642857142857143), ('177172', 0.017857142857142856), ('212753', 0.14285714285714285), ('25890', 0.017857142857142856), ('259912', 0.017857142857142856)]\n",
      "[('25150', 0.4642857142857143), ('314086', 0.21428571428571427), ('212753', 0.14285714285714285), ('225548', 0.08928571428571429), ('177172', 0.017857142857142856)]\n",
      "fav song\n",
      "25150\n",
      "main_user_liked_songs\n",
      "['25150', '177172', '212753', '25890', '259912', '314086', '334240', '105694', '225548']\n",
      "fav_song_rating\n",
      "0.4642857142857143\n",
      "similar users \n",
      "['bcb1e6d620cf522390d5c92bae26936928e0b588', '03be4cbe2d71991995cf45d49bf60e9dc30c86b6', '52a49ae1f6d300c4249e8b7e8ce86cc5fda8e938']\n",
      "recommended_users\n",
      "sorted recommended_users_sorted\n",
      "[('13ba9fd6444551abe906855db94131e484aab273', '25150', 0.9565217391304348), ('ba649874fe72ecb593f1d14f9d6f516d094d01de', '25150', 0.9367816091954023), ('9de141884b71e24913597b3124994f5c85011157', '25150', 0.9325842696629213), ('86886a70e26345a9acfcb3afc0aa2dccb77530fb', '25150', 0.9010989010989011), ('de8039a2e951e3a64bd8d04bc13755cc37d17b26', '25150', 0.8928571428571429), ('2bc6db65cd72e291dd89a8b40d44956fdfb89f41', '25150', 0.8813559322033898), ('01b7f41dad582528cad4f31a366da948a8670703', '25150', 0.8709677419354839), ('e4cc0f932e5163b5b82cc482c3672780bf736af8', '25150', 0.847682119205298), ('8f269599b97a4f0fe7b06b85d28c398d7097a20f', '25150', 0.8333333333333334), ('1ed562c41e8ec089613b6966f20a54bca71b79bb', '25150', 0.831858407079646)]\n",
      "new similar users data without the already liked songs data \n",
      "[('2a415e936d3051f3c751cfba05542ea2300a6dc4', '251101', 0.4406779661016949), ('2e3d8d664349dd1b78855afe817aa81d5b73d641', '288653', 0.3333333333333333), ('622e60357bfc891e1a9d011a5f81c9f9a6b014bd', '319911', 0.3333333333333333), ('98ea48f04f82d8e7823dbc2b5d90e533042dc5cc', '75399', 0.325), ('4e9b55cd4f90a3d837cd8027c7793eaa733edea1', '183790', 0.3235294117647059), ('71850286d598d04028c9fa4694f18c9bba9d99be', '25876', 0.3125), ('ce316d2c549f6e8fcac13d60665a61e54e76ee88', '33438', 0.2962962962962963), ('8837b7d54bbcb58868d91a43bb13818b3c6ca589', '319911', 0.29508196721311475), ('3a55516936d96d4abb5d09d9c21c5b403fa9d876', '154501', 0.29411764705882354), ('6a4aa1bc8bd02cb91b99ecae9446aab2d5645478', '82011', 0.2903225806451613)]\n",
      "final recommended songs\n",
      "['251101', '288653', '319911', '75399', '183790']\n",
      "-----\n",
      "[('bcb1e6d620cf522390d5c92bae26936928e0b588', '25150', 0.4642857142857143), ('bcb1e6d620cf522390d5c92bae26936928e0b588', '177172', 0.017857142857142856)]\n"
     ]
    }
   ],
   "source": [
    "def recommendation(user_id): \n",
    "    ### get user liked data\n",
    "    \n",
    "    \n",
    "    \n",
    "    user_liked_data = rdd9.filter(lambda x :x[0]==user_id )\n",
    "    print(user_liked_data.take(5))\n",
    "    ## get user liked songs and ratings\n",
    "    \n",
    "    user_liked_songs =user_liked_data.map(lambda x : (x[1], x[2]))\n",
    "    print(user_liked_songs.take(5))\n",
    "    # Sort this data\n",
    "    \n",
    "    user_liked_songs_sorted = user_liked_songs.sortBy(lambda x : -x[1])\n",
    "    print(user_liked_songs_sorted.take(5))\n",
    "    # User favourite song\n",
    "    \n",
    "    fav_song = user_liked_songs_sorted.take(1)[0][0]\n",
    "    #print(user_liked_songs_sorted.collect())\n",
    "    print(\"fav song\")\n",
    "    print(fav_song)\n",
    "    \n",
    "    # Get users liked songs\n",
    "    \n",
    "    main_user_liked_songs = user_liked_data.map(lambda x: x[1]).collect()\n",
    "    print(\"main_user_liked_songs\")\n",
    "    print(main_user_liked_songs)\n",
    "    \n",
    "    # Get users favourite song's rating\n",
    "    fav_song_rating = user_liked_songs_sorted.take(1)[0][1]\n",
    "    print(\"fav_song_rating\")\n",
    "    print(fav_song_rating)\n",
    "    \n",
    "    # Get similar users data who liked the main users fav song with a rating higher than the user gave\n",
    "    similar_users = rdd9.filter(lambda x: x[1] == fav_song and x[2]>= fav_song_rating).map(lambda x : x[0])\n",
    "    print(\"similar users \")\n",
    "    #print(similar_users.collect())\n",
    "    print(similar_users.take(3))\n",
    "    similar_users_list = similar_users.collect()\n",
    "    \n",
    "    ## Get the similar users full data\n",
    "    recommended_users_full_data = rdd9.filter(lambda x: x[0] in similar_users_list)\n",
    "    print(\"recommended_users\")\n",
    "    #print(recommended_users.collect())\n",
    "  \n",
    "    recommended_users_full_data_sorted = recommended_users_full_data.sortBy(lambda x : -x[2])\n",
    "    print(\"sorted recommended_users_sorted\")\n",
    "    print(recommended_users_full_data_sorted.take(10))\n",
    "    \n",
    "    recommended_users_new_songs = recommended_users_full_data_sorted.filter(lambda x : x[1] not in main_user_liked_songs)\n",
    "    print(\"new similar users data without the already liked songs data \")\n",
    "    print(recommended_users_new_songs.take(10))\n",
    "\n",
    "    print(\"final recommended songs\")\n",
    "    recommendations = recommended_users_new_songs.map(lambda x : x[1]).take(5)\n",
    "    \n",
    "   \n",
    "    print(recommendations)\n",
    "    #user_liked_songs_sorted = sorted(user_liked_songs,key=lambda x: -x[1], reverse=True)\n",
    "    #print(user_liked_songs.collect())\n",
    "    #print(user_liked_songs_sorted.collect())\n",
    "    #similar_users = \n",
    "\n",
    "    \n",
    "users_rdd = sc.textFile(r\"kaggle_users.txt\").map(lambda line: line.split(\"\\t\"))\n",
    "user_id = users_rdd.take(2)[1][0]\n",
    "\n",
    "print(user_id)\n",
    "recommendation('bcb1e6d620cf522390d5c92bae26936928e0b588')\n",
    "print(\"-----\")\n",
    "print(rdd9.take(2))"
   ]
  },
  {
   "cell_type": "markdown",
   "metadata": {},
   "source": [
    "## Step 4: \n",
    "1. Compute cosine similarity between all pairs of users. \n",
    "2. Sort the similarity score and print the top-5 similar users. \n",
    "3. If the top-5 user set has an user appearing more than once, ignore that pair and take the next best pair from the sorted list. \n",
    "4. For a given user_id, identify the top-5 similar users and hence song recommendations from other user's list. "
   ]
  },
  {
   "cell_type": "code",
   "execution_count": 27,
   "metadata": {},
   "outputs": [
    {
     "name": "stdout",
     "output_type": "stream",
     "text": [
      "[['fd50c4007b68a3737fe052d5a4f78ce8aa117f3d', 'SOBONKR12A58A7A7E0', '1'], ['fd50c4007b68a3737fe052d5a4f78ce8aa117f3d', 'SOEGIYH12A6D4FC0E3', '1'], ['fd50c4007b68a3737fe052d5a4f78ce8aa117f3d', 'SOFLJQZ12A6D4FADA6', '1'], ['fd50c4007b68a3737fe052d5a4f78ce8aa117f3d', 'SOHTKMO12AB01843B0', '1'], ['fd50c4007b68a3737fe052d5a4f78ce8aa117f3d', 'SODQZCY12A6D4F9D11', '1']]\n",
      "['SOAAGFH12A8C13D072' 'SOAAVUV12AB0186646' 'SOACRJG12A8C137A8D'\n",
      " 'SOACXGP12A8C1323AF' 'SOADVUP12AB0185246' 'SOAFQQP12A58A7B709'\n",
      " 'SOAIBYI12AB0185C5B' 'SOAIIKF12A58A7DD58' 'SOALUPO12A8C131951'\n",
      " 'SOARIXF12A8AE487CA' 'SOATBYQ12AB0188962' 'SOATCSU12A8C13393A'\n",
      " 'SOAUWYT12A81C206F1' 'SOAXGDH12A8C13F8A1' 'SOAYETG12A67ADA751'\n",
      " 'SOAYFQF12AF729E879' 'SOAYGQW12AB017D6FA' 'SOAZRJG12A6D4F8A30'\n",
      " 'SOBADEB12AB018275F' 'SOBADWO12A8C13D83A' 'SOBBABK12A8C13FFBC'\n",
      " 'SOBCDFC12A58A7B4B3' 'SOBEHXG12A8C138D22' 'SOBENFI12AB018B09A'\n",
      " 'SOBEVGM12A67ADBCA7' 'SOBKRVG12A8C133269' 'SOBKZLH12A8C13B7D3'\n",
      " 'SOBOAFP12A8C131F36' 'SOBONKR12A58A7A7E0' 'SOBPFUQ12A6D4FCDD2'\n",
      " 'SOBPZXL12A8AE470E9' 'SOBWSGV12AB018B5E0' 'SOBXACU12AB01870CE'\n",
      " 'SOBXHDL12A81C204C0' 'SOBXMJC12AB018293E' 'SOBXVPA12A6701D146'\n",
      " 'SOBYSSP12AAF3B32CA' 'SOBYYYE12AB01807CE' 'SOCBKTK12AB018C4C3'\n",
      " 'SOCGIHM12AB017DE4E' 'SOCHADN12A6310ED94' 'SOCHIZU12AB017F47D'\n",
      " 'SOCHPTV12A6BD53113' 'SOCHTHF12AB017E206' 'SOCJPWM12AF72A781A'\n",
      " 'SOCKSGZ12A58A7CA4B' 'SOCLMAD12AB017FC09' 'SOCMHES12AB0186FCF'\n",
      " 'SOCOXGP12A81C21F2F' 'SOCQSZB12A58A7B71D' 'SOCUJVS12A6D4F791A'\n",
      " 'SOCXEKQ12AAF3B5490' 'SOCXFFB12AF729CAC0' 'SODBDBO12A6D4FCDAA'\n",
      " 'SODBDBV12A6310E14A' 'SODBXDO12A6D4FCD4F' 'SODCNJX12A6D4F93CB'\n",
      " 'SODDDWP12AB0188D17' 'SODDUUB12A58A7D052' 'SODEAJC12A58A7769F'\n",
      " 'SODEYDM12A58A77072' 'SODFDJT12A8C13A08E' 'SODKKNZ12A8C13E383'\n",
      " 'SODOZXB12A8C13CD55' 'SODQZCY12A6D4F9D11' 'SODSKZZ12AB0188524'\n",
      " 'SODTAHY12A8C13ACAF' 'SODTTMC12A8C14602A' 'SODVXIB12AF72A37F3'\n",
      " 'SODXGLW12AB017D72E' 'SODZOER12A8C1360FB' 'SOEANYI12A8C1426C6'\n",
      " 'SOEBOWM12AB017F279' 'SOEBQGA12A6D4F475E' 'SOEETHA12A8C13FC6D'\n",
      " 'SOEFCDJ12AB0185FA0' 'SOEGIYH12A6D4FC0E3' 'SOEHWGF12A6D4F8B2B'\n",
      " 'SOEIKRK12AB017D6E0' 'SOEJSHI12A6D4F6674' 'SOEOEJL12AB018352D'\n",
      " 'SOEOJHS12AB017F3DC' 'SOERCAY12A58A7999A' 'SOERYLG12A6701F07F'\n",
      " 'SOETMYW12A6D4FD28B' 'SOEUJFC12A8159E8AC' 'SOEXCZJ12A8C138919'\n",
      " 'SOEXWRK12AAF3B26AE' 'SOEZMXE12A6701DF63' 'SOEZONZ12AB0184D29'\n",
      " 'SOFAFXU12A8C141523' 'SOFBXEF12A6701F3EB' 'SOFEGST12A58A7D682'\n",
      " 'SOFEKBM12A6D4FCFC3' 'SOFIPHI12AAF3B3DB2' 'SOFLJQZ12A6D4FADA6'\n",
      " 'SOFLMTG12A58A7D556' 'SOFOJRB12AAF3B3621' 'SOFQCFJ12AB01816E8'\n",
      " 'SOFRQTD12A81C233C0' 'SOFSZPD12A8C13DD73' 'SOFXTZV12A8C13ED94'\n",
      " 'SOFYCAM12A58A7A45B' 'SOGATSG12AB0180E56' 'SOGBZFA12A8C136DBB'\n",
      " 'SOGCRXY12A8C1439FC' 'SOGLMHC12A6702147C' 'SOGNFRF12A6D4F7535'\n",
      " 'SOGPBAW12A6D4F9F22' 'SOGPLBE12A58A80442' 'SOGRTRU12AB017E431'\n",
      " 'SOGTDJQ12A8C13324F' 'SOGTQNI12AB0184A5C' 'SOGUCOH12A6D4F6E5F'\n",
      " 'SOGUKDL12A6D4FAAB9' 'SOGWEOB12AB018A4D0' 'SOGXEYV12A8151DC7E'\n",
      " 'SOGXQGE12AB01872A3' 'SOHBIEQ12A8C13710F' 'SOHDNLD12A8C13D142'\n",
      " 'SOHEKND12A8AE481D0' 'SOHFJAQ12AB017E4AF' 'SOHFKGU12AB01819F3'\n",
      " 'SOHGGAH12A58A795BE' 'SOHJETX12A6D4F95C6' 'SOHMFHE12AAF3B3E07'\n",
      " 'SOHMLLJ12A8C131412' 'SOHNVHC12A6D4F95AB' 'SOHOTAA12A8AE45F43'\n",
      " 'SOHRGLV12A8C140C5C' 'SOHRVMG12A6701D226' 'SOHTKMO12AB01843B0'\n",
      " 'SOHXBKV12A6D4F820D' 'SOHXKGV12A8C13B5D7' 'SOHYDID12A6D4F781C'\n",
      " 'SOHYJRQ12A8C142535' 'SOHYLGT12AF72AAFCD' 'SOHYTES12AB017D997'\n",
      " 'SOHZPPT12A6D4F59FD' 'SOIBJYI12AB01850DF' 'SOIBLKQ12AB0183E85'\n",
      " 'SOIBSWV12A6D4F6AB3' 'SOIDFJR12A6D4F7EB0' 'SOIGJTR12A8C13D578'\n",
      " 'SOIHJML12A6D4F5944' 'SOIIOUS12A8AE47E20' 'SOILAAJ12A8C13B7CD'\n",
      " 'SOIMHXX12AB01885AF' 'SOIOESO12A6D4F621D' 'SOIOZHO12AB017FE5E'\n",
      " 'SOIPJAX12A8C141A2D' 'SOITRTA12A6D4F8261' 'SOIVZJE12A8C13D9D8'\n",
      " 'SOIWEDH12AF72AB132' 'SOIXDFM12A8C143021' 'SOIYBYP12A6D4F7761'\n",
      " 'SOJCNNO12A8C132705' 'SOJDNKW12A58A7B1B5' 'SOJGKMM12A6D4F98CD'\n",
      " 'SOJHCOH12A8AE45F4F' 'SOJHFJP12A6D4FD948' 'SOJJFEQ12A8C13BDA0'\n",
      " 'SOJNPGW12AB018896E' 'SOJOIWK12AF729FAA2' 'SOJSXTU12AAF3B464A'\n",
      " 'SOJSYAG12A8C13B415' 'SOJTEZD12AB0187773' 'SOJTNVA12A6D4F9A9F'\n",
      " 'SOJUYDG12A8C1345FF' 'SOJXRQY12B0B80AF75' 'SOJYINR12AB018C572'\n",
      " 'SOJYZEZ12A6D4F538E' 'SOJZBHH12AB017F611' 'SOJZOFG12A8C137BAE'\n",
      " 'SOKAJXI12AB017DEC7' 'SOKENKR12AB01828F7' 'SOKLRPJ12A8C13C3FE'\n",
      " 'SOKNWRZ12A8C13BF62' 'SOKOAYF12AB0183B82' 'SOKPSFX12A58A7B5CF'\n",
      " 'SOKQNYH12A6D4FA5D3' 'SOKQXKD12A67ADB467' 'SOKVZHI12A58A7A13E'\n",
      " 'SOKWSEA12A8C141C9D' 'SOLCGBW12A679D8B0C' 'SOLDMED12A8C1400E2'\n",
      " 'SOLEEUJ12A6701C787' 'SOLFXKT12AB017E3E0' 'SOLGPOU12A58A7EA20'\n",
      " 'SOLLNTU12A6701CFDC' 'SOLMEOG12A8C142046' 'SOLMGJL12A8C144168'\n",
      " 'SOLMIUU12A58A79C99' 'SOLRGVL12A8C143BC3' 'SOLXMZT12AF72A2E20'\n",
      " 'SOLZRQN12A8C138E34' 'SOMBNVR12AF72A736E' 'SOMCIUF12A6D4F8351'\n",
      " 'SOMCWAZ12A67ADBCE3' 'SOMEFTJ12A6D4F8CAC' 'SOMEUED12A6701DBEA'\n",
      " 'SOMGIYR12AB0187973' 'SOMGSFI12AB018898B' 'SOMGVYU12A8C1314FF'\n",
      " 'SOMKOEG12A6D4F6662' 'SOMKRGT12A8C132B92' 'SOMLKZO12AB017F4AE'\n",
      " 'SOMMONH12A6D4F41CD' 'SOMOBBZ12A8C144831' 'SOMOSML12A58A7B010'\n",
      " 'SOMOSXL12A6701E5DC' 'SOMPULY12A6D4F92A4' 'SOMQDUT12A81C21BDE'\n",
      " 'SOMRCAS12A58A7CB34' 'SOMRIBC12A8C1445BC' 'SOMVGYP12AF729E379'\n",
      " 'SOMWTWK12AB01860CD' 'SOMXAXD12A6D223ACF' 'SOMYDVM12A6D4F7935'\n",
      " 'SONDFYA12AB018897F' 'SONEJIJ12AB0185727' 'SONHLJN12A81C2169B'\n",
      " 'SONJVYU12A8AE44F9E' 'SONLXZV12AC960A0B1' 'SONMBPQ12A6D4F95A3'\n",
      " 'SONMWXV12AB01803B4' 'SONNSYV12A8C146BEC' 'SONPOAK12AC3DF67E7'\n",
      " 'SONQCXC12A6D4F6A37' 'SONSBFF12AB0184E61' 'SONSYDB12A8C13FA4A'\n",
      " 'SONSZRP12AF72A7930' 'SONVJFY12A8C138316' 'SONWUZV12AB0180BAD'\n",
      " 'SONXYJW12AB018898A' 'SONYKOW12AB01849C9' 'SONZTNP12A8C1321DF'\n",
      " 'SOOAVGC12AB01821EC' 'SOODQWW12A8C135E53' 'SOOFYTN12A6D4F9B35'\n",
      " 'SOOGDIF12AB018CDF0' 'SOOGNOZ12AAF3B2936' 'SOOJJCT12A6310E1C0'\n",
      " 'SOOKXXM12AF72A496C' 'SOONUTJ12A6701D7B4' 'SOOPUTL12A8C143381'\n",
      " 'SOOPVJI12AB0183957' 'SOOPWYG12AB0181160' 'SOOPXFG12A6D4FB80C'\n",
      " 'SOOQYDB12A8C13F328' 'SOORFBA12A8C13E49E' 'SOOSSHM12A8C13500B'\n",
      " 'SOOZFCC12A58A7D783' 'SOOZTJL12A58A80F4F' 'SOPABZM12A6D4FC668'\n",
      " 'SOPBFHP12A8C131F30' 'SOPDIDL12A58A7ABF0' 'SOPEXQH12AF72A05B6'\n",
      " 'SOPFVWP12A6D4FC636' 'SOPGCXT12A8C138AD1' 'SOPKGJJ12A8AE4883C'\n",
      " 'SOPOANU12A8AE48C9B' 'SOPPROJ12AB0184E18' 'SOPQLBY12A6310E992'\n",
      " 'SOPSOHT12A67AE0235' 'SOPSVVG12A8C13B444' 'SOPUCYA12A8C13A694'\n",
      " 'SOPVJNI12A81C219B9' 'SOPVQLJ12A67AE2281' 'SOPWKOX12A8C139D43'\n",
      " 'SOPXKYD12A6D4FA876' 'SOPYFWU12A8AE451B2' 'SOQAHCM12A67020123'\n",
      " 'SOQARNI12A8C141964' 'SOQBMFK12A8C13835B' 'SOQBPJO12A6D4F7A7A'\n",
      " 'SOQCGHN12AB0181246' 'SOQCTEC12AB0186D7E' 'SOQCXSH12AB017D717'\n",
      " 'SOQDMED12A67ADE731' 'SOQEGKQ12AB018AA2F' 'SOQGASJ12A58A76E18'\n",
      " 'SOQGYDJ12A6310F359' 'SOQHOUQ12A6D4F8DA9' 'SOQJAZE12A6D4F95A8'\n",
      " 'SOQJHUW12AB0188A24' 'SOQJNKS12A6D4FBF52' 'SOQLUTQ12A8AE48037'\n",
      " 'SOQMFWG12AB0186AD8' 'SOQMLVU12A6701F8ED' 'SOQRVLL12AB0184BD7'\n",
      " 'SOQTYTQ12A8C1377C8' 'SOQWYAQ12A6D4FB9A3' 'SOQZQNK12A81C1F9D0'\n",
      " 'SORALMO12AF729EBB4' 'SORCKFG12A6D4F8F04' 'SORFVMQ12AB0184135'\n",
      " 'SORGOSK12A8C134DBE' 'SORIWEH12A8C13D4A6' 'SORKDWS12A6701E6D9'\n",
      " 'SORKKEN12AF72AA5FA' 'SORKNEH12A67ADC6EE' 'SORNDWB12A6D4FB092'\n",
      " 'SORNKQU12A6D4FCDC0' 'SOROGIR12A8C137AA1' 'SOROKYZ12A8C134788'\n",
      " 'SORQQVH12A670215BB' 'SORSFFE12AB018B024' 'SORTERB12AB017F037'\n",
      " 'SORUMPR12AC468D4F7' 'SORVQZE12A58A7AE98' 'SORWLTW12A670208FA'\n",
      " 'SORYRWS12AB0186CD9' 'SORZHMB12A8C13D819' 'SOSASFL12A6D4F7B02'\n",
      " 'SOSCIZP12AB0181D2F' 'SOSDGUX12AB01802FE' 'SOSERCK12AB0186462'\n",
      " 'SOSHJHA12AB0181410' 'SOSIOGC12A8C13A800' 'SOSIZFO12A58A79934'\n",
      " 'SOSJSSU12A6D4F8F41' 'SOSKFED12A8C1343AB' 'SOSLWYM12AB018415D'\n",
      " 'SOSMONK12A8C139059' 'SOSNJIT12A8159E8DB' 'SOSOUKN12A8C13AB79'\n",
      " 'SOSPSPH12AF72A72D9' 'SOSTLVL12A8C1442DC' 'SOSXLTC12AF72A7F54'\n",
      " 'SOSYIDB12A8C1371F3' 'SOTCDXR12A679D7E5E' 'SOTEGWG12AB01897AC'\n",
      " 'SOTFATN12A6D4FA74D' 'SOTFFRI12AB0188953' 'SOTFMIJ12AB0183BC2'\n",
      " 'SOTIFJG12A6D4F786C' 'SOTIJUH12A58A7B37C' 'SOTJCCK12A58A7C1C8'\n",
      " 'SOTKJIZ12A6D4F733A' 'SOTKRZR12A8C136368' 'SOTNGRP12AB017E958'\n",
      " 'SOTNWCI12AAF3B2028' 'SOTNZHG12A6D4F8B82' 'SOTQBKC12A8C13E961'\n",
      " 'SOTVJCB12A8C136E46' 'SOTWNDJ12A8C143984' 'SOUAZDS12A8C13BA91'\n",
      " 'SOUDEUC12A6D4F95A7' 'SOUDGEV12A8C135FC9' 'SOUEWZB12A6701F949'\n",
      " 'SOUFNSM12A58A77715' 'SOUFPNI12A8C142D19' 'SOUFTBI12AB0183F65'\n",
      " 'SOUGACV12A6D4F84E0' 'SOUHJZY12A67021CC4' 'SOUIGCD12AB0186713'\n",
      " 'SOUIROO12A8C139C18' 'SOUKCML12A67020120' 'SOUKMKR12A8C141925'\n",
      " 'SOULTKQ12AB018A183' 'SOUMEQA12AB0189C4A' 'SOUONKG12A6D4F7302'\n",
      " 'SOUPSHP12AB0181B1A' 'SOUQERE12A58A75633' 'SOURUUS12AB0186719'\n",
      " 'SOUSMXX12AB0185C24' 'SOUSZSW12AB01800C2' 'SOUVGJL12AB017FC35'\n",
      " 'SOUVTSM12AC468F6A7' 'SOUVUHC12A67020E3B' 'SOUVYGS12A6D4F84CB'\n",
      " 'SOUYBJG12A6D4FCFEC' 'SOUZDWT12B0B80BC62' 'SOVAMBN12AB0187FEF'\n",
      " 'SOVDSJC12A58A7A271' 'SOVDTMK12AB01829D3' 'SOVIJFB12A6D4F98E2'\n",
      " 'SOVIZNF12AF72A710A' 'SOVMKNA12B35058484' 'SOVMSAW12A6D4F95A4'\n",
      " 'SOVOGGO12A8C1433B2' 'SOVOKZE12A6D4FABDE' 'SOVQVNI12A58A778B6'\n",
      " 'SOVRGOO12A58A7AB4E' 'SOVRNVZ12A6D4F9B22' 'SOVRVHA12A6D4FB283'\n",
      " 'SOVTJHR12AAF3B2D43' 'SOVUZGH12A8AE48797' 'SOVVBPK12A58A810CA'\n",
      " 'SOVVLKF12A8C1424F0' 'SOVXTZF12A670207D2' 'SOVYUYG12A8AE47BAB'\n",
      " 'SOWBCTJ12AB0188C06' 'SOWBPKR12A6D4F6664' 'SOWCKVR12A8C142411'\n",
      " 'SOWCMLA12A8C139762' 'SOWDNAY12A8C1354A4' 'SOWDRCH12A8159E8B4'\n",
      " 'SOWEHOM12A6BD4E09E' 'SOWEJXA12A6701C574' 'SOWIGII12A58A7A939'\n",
      " 'SOWINIH12AB018CC51' 'SOWKRSR12A8C13CA37' 'SOWLMMH12A81C22F5E'\n",
      " 'SOWONPQ12A8BED02A8' 'SOWOZGK12AB01843AB' 'SOWPRYI12A58A7B51A'\n",
      " 'SOWQJXZ12A8C13A81F' 'SOWQVMD12A8C14449A' 'SOWQXHG12AB0189D1A'\n",
      " 'SOWSYRS12AF72A46DF' 'SOWVDFR12A6D4F94E1' 'SOWZZMJ12A8C13FFB4'\n",
      " 'SOXADCS12AB018457A' 'SOXAQJS12AB018CBF7' 'SOXFXDH12A8C13326E'\n",
      " 'SOXGTRO12A8C143454' 'SOXGYRO12A58A7B4D4' 'SOXHVRT12A81C2320D'\n",
      " 'SOXJKXF12A67020F50' 'SOXKBAI12A8C133E4F' 'SOXKCEX12AF729CFB5'\n",
      " 'SOXKWLD12A58A76894' 'SOXLOQG12AF72A2D55' 'SOXNXYQ12AB01852BF'\n",
      " 'SOXPJVO12A6D4FCC69' 'SOXQWUS12A58A7B236' 'SOXQXXU12A67021CC3'\n",
      " 'SOXVVSM12A8C142224' 'SOXWFJX12AB0185E19' 'SOXWYZP12AF72A42A6'\n",
      " 'SOXXSYL12A8C14292A' 'SOXYWEX12A6D4F6942' 'SOYAEZW12A58A819A8'\n",
      " 'SOYCESE12AB0180CDD' 'SOYDXEN12AF729D542' 'SOYELXR12A8C14153A'\n",
      " 'SOYFMNU12AB0181435' 'SOYFWRI12AB018BFFC' 'SOYIGCO12AB01816DD'\n",
      " 'SOYJUXS12AC95F02EF' 'SOYNVGY12A8C132EE5' 'SOYOMRA12A6D4F9975'\n",
      " 'SOYPGAR12A6D4F742E' 'SOYPQYA12A6D4FB8F4' 'SOYTJBQ12A8C140032'\n",
      " 'SOYVAUJ12AF72A052D' 'SOYXHAJ12A81C1FD0C' 'SOYYNFE12A8C13CD00'\n",
      " 'SOYZNYC12A8AE46BB8' 'SOZAKPS12A6D4F7B06' 'SOZCOVJ12A58A7D1C9'\n",
      " 'SOZDPRP12A6D4F8B68' 'SOZEVSH12AF72AC266' 'SOZHLFT12A8C13BA52'\n",
      " 'SOZKNSB12A8C140F11' 'SOZPZGN12A8C135B45' 'SOZQASV12A6D4F87CB'\n",
      " 'SOZQIUZ12A8C13CFBE' 'SOZVCRW12A67ADA0B7' 'SOZVHUQ12AB0182599'\n",
      " 'SOZVVRE12A8C143150' 'SOZZEID12A58A7AB89' 'SOZZTNF12A8C139916']\n",
      "(465,)\n"
     ]
    },
    {
     "data": {
      "text/plain": [
       "'unique_interests = sorted(list({ interest\\n                                 for user_interests in users_interests\\n                                 for interest in user_interests }))\\nunique_interests'"
      ]
     },
     "execution_count": 27,
     "metadata": {},
     "output_type": "execute_result"
    }
   ],
   "source": [
    "#### All songs and their count \n",
    "\n",
    "#\n",
    "# user-based filtering\n",
    "\n",
    "\n",
    "#1. Compute cosine similarity between all pairs of users. \n",
    "\n",
    "\n",
    "import numpy as np\n",
    "\n",
    "from pyspark.sql import SparkSession\n",
    "spark = SparkSession(sc)\n",
    "def dot(v,w):\n",
    "    \"\"\" v_1*w_1 + ... v_n*w_n\"\"\"\n",
    "    return sum(v_i *w_i\n",
    "              for v_i,w_i in zip(v,w))\n",
    "def cosine_similarity(v, w):\n",
    "    return dot(v, w) / math.sqrt(dot(v, v) * dot(w, w))\n",
    "\n",
    "\n",
    "\n",
    "\n",
    "#unique_interests = kaggle_songs_rdd.map(lambda x : x[0]).take(400)\n",
    "\n",
    "## We have taken a reduced version of the data named in file : reduced_data\n",
    "triplet_rdd_reduced = sc.textFile(r\"reduced_data.txt\")\\\n",
    "                        .map(lambda line: line.split(\"\\t\"))\n",
    "print(triplet_rdd_reduced.take(5))\n",
    "\n",
    "#taking all the songs from the data\n",
    "unique_interests = triplet_rdd_reduced.map(lambda x : x[1]).collect()\n",
    "\n",
    "#print(unique_interests)\n",
    "## Taking all the unique songs from the data\n",
    "unique_interests_arr = np.array(unique_interests)\n",
    "unique_interests_df_distict = np.unique(unique_interests_arr)\n",
    "\n",
    "unique_interests_df_distict\n",
    "print(unique_interests_df_distict)\n",
    "print(unique_interests_df_distict.shape)\n",
    "\n",
    "#unique_interests_df_distict_list = unique_interests_df_distict.rdd.map(lambda x:x[1]).collect()\n",
    "#print(type(unique_interests_df_distict_list))'''\n",
    "#top_unique_interests_df_distict =  unique_interests_df_distict.head(500)\n",
    "#print(top_unique_interests_df_distict)\n",
    "'''unique_interests = sorted(list({ interest\n",
    "                                 for user_interests in users_interests\n",
    "                                 for interest in user_interests }))\n",
    "unique_interests'''\n",
    "\n",
    "\n"
   ]
  },
  {
   "cell_type": "code",
   "execution_count": null,
   "metadata": {},
   "outputs": [],
   "source": [
    "\n",
    "def make_user_interest_vector(user_interests):\n",
    "    \"\"\"given a list of interests, produce a vector whose i-th element is 1\n",
    "    if unique_interests[i] is in the list, 0 otherwise\"\"\"\n",
    "    \n",
    "    return [1 if interest in user_interests else 0\n",
    "            for interest in unique_interests_df_distict]\n",
    "\n",
    "## Droping the song count information form the reduced data\n",
    "\n",
    "triplet_rdd_song_user=triplet_rdd_reduced.map(lambda x: (x[0],x[1]))\n",
    "# Grouping this data on the user as key\n",
    "\n",
    "triplet_rdd_song_user=triplet_rdd_song_user.groupByKey().map(lambda x: (x[0],list(x[1])))\n",
    "## Taking only top 400 of this data because of the memory restrictions\n",
    "\n",
    "# taking the songs data in one list\n",
    "triplet_rdd_song = triplet_rdd_song_user.map(lambda x: x[1]).take(400)\n",
    "\n",
    "# Taking the users data in another list\n",
    "triplet_rdd_user = triplet_rdd_song_user.map(lambda x : x[0]).take(400)\n",
    "#print(triplet_rdd_song.take(10))\n",
    "#print(triplet_rdd_key_as_user_grouped.collect())\n",
    "#users_interests = triplet_rdd_key_as_user_grouped.take(400)\n",
    "\n",
    "## Computing the user interests matrix\n",
    "user_interest_matrix = list(map(make_user_interest_vector, triplet_rdd_song))\n",
    "print(user_interest_matrix)\n",
    "\n"
   ]
  },
  {
   "cell_type": "code",
   "execution_count": null,
   "metadata": {},
   "outputs": [],
   "source": [
    "#pip install numpy"
   ]
  },
  {
   "cell_type": "code",
   "execution_count": null,
   "metadata": {},
   "outputs": [],
   "source": [
    "import math\n",
    "\n",
    "user_similarities = [[cosine_similarity(interest_vector_i, interest_vector_j)\n",
    "                      for interest_vector_j in user_interest_matrix]\n",
    "                     for interest_vector_i in user_interest_matrix]\n",
    "\n",
    "import numpy as np\n",
    "user_similarities_arr = np.array(user_similarities)\n",
    "print(user_similarities_arr.shape)\n",
    "\n",
    "## Make the diagnol points zero as every user has highest similarity to itself\n",
    "for i in range(0,user_similarities_arr.shape[0]):\n",
    "    for j in range(0, user_similarities_arr.shape[1]):\n",
    "        if i ==j:\n",
    "            user_similarities_arr[i][j] = 0.0\n",
    "#user_similarities_arr_reset = np.where(user_similarities_arr == 1.0)\n",
    "\n",
    "\n",
    "print(np.amax(user_similarities_arr))\n",
    "\n",
    "result = np.where(user_similarities_arr == np.amax(user_similarities_arr))\n",
    "print(result)\n",
    "## cosine matrix\n",
    "#print(user_similarities)\n",
    "\n",
    "arr_to_initialise = []\n",
    "## creating the user pair with similarity score\n",
    "\n",
    "for i in range(0,user_similarities_arr.shape[0]):\n",
    "    for j in range(0, user_similarities_arr.shape[1]):\n",
    "        if i < j:\n",
    "            arr_to_initialise.append((i, j, user_similarities_arr[i][j]))\n",
    "\n",
    "            #arr_to_initialise.append((triplet_rdd_user[i], triplet_rdd_user[j], user_similarities_arr[i][j]))\n",
    "#print(arr_to_initialise)\n",
    "\n"
   ]
  },
  {
   "cell_type": "code",
   "execution_count": null,
   "metadata": {},
   "outputs": [],
   "source": [
    "\n",
    "\n",
    "##  Creating an RDD with this data\n",
    "arr_to_pass_tosc = np.array(arr_to_initialise)\n",
    "print(type(arr_to_pass_tosc))\n",
    "newRDD = sc.parallelize(arr_to_pass_tosc)\n",
    "\n",
    "# sorting this rdd on the similarity score value\n",
    "\n",
    "users_sorted_with_similarity = newRDD.sortBy(lambda x : -x[2])\n",
    "# Take top 5\n",
    "top_users = users_sorted_with_similarity.take(5)\n",
    "top_users\n",
    "####  Top users\n"
   ]
  },
  {
   "cell_type": "code",
   "execution_count": null,
   "metadata": {},
   "outputs": [],
   "source": [
    "###3. If the top-5 user set has an user appearing more than once, \n",
    "#ignore that pair and take the next best pair from the sorted list.\n",
    "\n",
    "## I have already dropped the pair which were repeating now \n",
    "#I will drop any pair for which even one user already has a pair.\n",
    "## \n",
    "\n",
    "similarity_list = users_sorted_with_similarity.collect()\n",
    "similarity_list\n",
    "similarity_list_arr = np.array(similarity_list)\n",
    "similarity_list_arr\n",
    "already_taken = []\n",
    "print(similarity_list_arr.shape)\n",
    "\n",
    "\n",
    "\n",
    "unique_top_similar = []\n",
    "\n",
    "\n",
    "for i in range(0, similarity_list_arr.shape[0]):\n",
    "    \n",
    "    ## Dropping the user pair if user already been considered \n",
    "    if similarity_list_arr[i][0] in already_taken:\n",
    "        continue\n",
    "    if similarity_list_arr[i][1] in already_taken:\n",
    "        continue\n",
    "   \n",
    "    unique_top_similar.append(similarity_list_arr[i])\n",
    "    already_taken.append(similarity_list_arr[i][0])\n",
    "    already_taken.append(similarity_list_arr[i][1])\n",
    "    \n",
    "    \n",
    "## Get only 5 top distinct wiuthout any user repetition\n",
    "\n",
    "unique_top_similar_top_five = unique_top_similar[:5]\n",
    "print(unique_top_similar_top_five)\n",
    "    \n",
    "        "
   ]
  },
  {
   "cell_type": "code",
   "execution_count": null,
   "metadata": {},
   "outputs": [],
   "source": [
    "##4. For a given user_id, identify the top-5 similar users and hence song recommendations from other user's list. \n",
    "\n",
    "\n",
    "\n",
    "given_user_sid = 1\n",
    "## Part 4 \n",
    "user_similarities = [[cosine_similarity(interest_vector_i, interest_vector_j)\n",
    "                      for interest_vector_j in user_interest_matrix]\n",
    "                     for interest_vector_i in user_interest_matrix]\n",
    "\n",
    "def most_similar_users_to(user_id):\n",
    "    pairs = [(other_user_id, similarity)              # find other\n",
    "             for other_user_id, similarity in         # users with\n",
    "                enumerate(user_similarities[user_id]) # nonzero\n",
    "             if user_id != other_user_id and similarity > 0]  # similarity\n",
    "\n",
    "    return sorted(pairs,                              # sort them\n",
    "                  key=lambda pair: pair[1],           # most similar\n",
    "                  reverse=True) \n",
    "\n",
    "#print(user_similarities)\n",
    "most_similar_users_to_id = most_similar_users_to(given_user_sid)\n",
    "most_similar_users_to_id"
   ]
  },
  {
   "cell_type": "code",
   "execution_count": null,
   "metadata": {},
   "outputs": [],
   "source": [
    "given_user_sid = triplet_rdd_user[int(given_user_sid)]\n",
    "given_user_sid"
   ]
  },
  {
   "cell_type": "code",
   "execution_count": null,
   "metadata": {},
   "outputs": [],
   "source": [
    "\n",
    "\n",
    "a = users_sorted_with_similarity.filter(lambda x : x[0]== giveuser_id).map(lambda x:x[1])\n",
    "top_5_similar = a.take(5)\n",
    "print(top_5_similar)\n",
    "user_similar_id_str = []\n",
    "\n",
    "## Top 5 similar users :\n",
    "for i in range(0, len(most_similar_users_to_id)):\n",
    "    print(most_similar_users_to_id[i][0])\n",
    "    print(triplet_rdd_user[int(most_similar_users_to_id[i][0])])\n",
    "    \n",
    "    ## Getting the str version of the similar  user ids\n",
    "    user_similar_id_str.append(triplet_rdd_user[int(most_similar_users_to_id[i][0])])\n",
    " \n",
    "\n"
   ]
  },
  {
   "cell_type": "code",
   "execution_count": null,
   "metadata": {},
   "outputs": [],
   "source": [
    "print(user_similar_id_str)\n",
    "#print(triplet_rdd_song_user.collect())\n",
    "\n",
    "similar_user_songs = triplet_rdd_song_user.filter(lambda x : x[0] in user_similar_id_str).flatMap(lambda x : x[1]).collect()\n",
    "\n",
    "## users alreday liked songs\n",
    "user_already_liked_songs = triplet_rdd_song_user.filter(lambda x : x[0] == given_user_sid).flatMap(lambda x : x[1]).collect()\n",
    "\n",
    "similar_user_songs\n",
    "new_song_suggestions = []\n",
    "for i in range(0, len(similar_user_songs)):\n",
    "    \n",
    "    # Adding the new recommendations\n",
    "    if similar_user_songs[i] not in user_already_liked_songs:\n",
    "        \n",
    "        print(similar_user_songs[i])\n",
    "        new_song_suggestions.append(similar_user_songs[i])\n",
    "new_song_suggestions\n",
    "\n"
   ]
  }
 ],
 "metadata": {
  "kernelspec": {
   "display_name": "Python 3",
   "language": "python",
   "name": "python3"
  },
  "language_info": {
   "codemirror_mode": {
    "name": "ipython",
    "version": 3
   },
   "file_extension": ".py",
   "mimetype": "text/x-python",
   "name": "python",
   "nbconvert_exporter": "python",
   "pygments_lexer": "ipython3",
   "version": "3.8.8"
  }
 },
 "nbformat": 4,
 "nbformat_minor": 2
}
