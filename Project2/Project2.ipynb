{
 "cells": [
  {
   "cell_type": "markdown",
   "metadata": {
    "colab_type": "text",
    "id": "R_VO3LAhDknB"
   },
   "source": [
    "##### <p style=\"text-align: center;\">MIS 285N - Big Data and Distributed Programming</p>\n",
    "## <p style=\"text-align: center;\">Project 2 - Machine Learning using Scikit and AWS</p>\n",
    "## <p style=\"text-align: center;\">Total points: 100</p>\n",
    "## <p style=\"text-align: center;\">Due: Friday, October 8 submitted via Canvas by 11:59 pm</p>\n",
    "\n",
    "Your homework should be written in a **Jupyter notebook**. You may work in groups of two if you wish. Only one student per team needs to submit the assignment on Canvas.  But be sure to include name and UTID for both students.\n",
    "\n",
    "Also, please make sure your code runs and the graphics (and anything else) are displayed in your notebook before submitting. (%matplotlib inline)\n",
    "\n",
    "This project is about giving exposure about Machine learning, its usage, Cloud services and why they are helpful in analyzing Big Data.\n",
    "\n",
    "In this Project, we are trying to analyze the crime data. This data is taken from <a href=https://data.cityofchicago.org/Public-Safety/Crimes-2001-to-present/ijzp-q8t2/data> here </a>. You have to download data from here, it should be around 1.6 GB in size. You will predict the type of crime that can happen given the features.\n",
    "\n",
    "You have to complete all the four tasks and report your observations for each if any.\n",
    "\n",
    "Note: Please post clarification questions on Piazza. "
   ]
  },
  {
   "cell_type": "markdown",
   "metadata": {
    "colab_type": "text",
    "id": "m97e7PEFEFwE"
   },
   "source": [
    "# Task 1 - Read the data and filter the data you need\n",
    "\n",
    "This is open ended, you can use any features you want and drop any one of them. The 'Primary Type' is our target variable which we will be predicting for.\n",
    "\n",
    "This task is split into multiple parts:\n",
    "\n",
    "\n",
    "1.   Print the Histogram of variable 'Primary Type'. The x-axis should be each primary type, and the y-axis will be the count of each Primary type.\n",
    "2. Sort the histogram in decreasing order. This will help you to understand which Primary Type of crime occured more than the rest. \n",
    "3. Now, 'K' is the total number of classes in Primary Type. Experiment with K=2,3,4,5 as the most popular Primary Type data to be used and predicted. \n",
    "    4.  For a given K, filter the dataset to extract the most popular K Primary Types and report what percentage of the total dataset this amounts to. Lets call this percentage, F. Now, find what fraction of this filtered data can be supported in your analysis on your local machine. Lets call this P. For example, of the approximately 7 million entries, say for K=3, we find that the top three types of crime add up to around 3.5 million, which makes F be 50%. Now see if your machine can handle all 3.5 million entries in you ML analysis. Say you find out that you can only handle 60% of this, which means your working dataset will be 2.1 million entries.  \n",
    "5.  For each K=2,3,4,5 (and associated percentage 'P'), you should train a model and report the accuracy. (Refer to other tasks)\n",
    "\n",
    "Hint: Split the data into training and testing in the ratio of 80:20."
   ]
  },
  {
   "cell_type": "code",
   "execution_count": 1,
   "metadata": {},
   "outputs": [],
   "source": [
    "import pandas as pd\n",
    "import numpy as np\n",
    "from matplotlib.pyplot import figure"
   ]
  },
  {
   "cell_type": "code",
   "execution_count": 2,
   "metadata": {},
   "outputs": [
    {
     "data": {
      "text/html": [
       "<div>\n",
       "<style scoped>\n",
       "    .dataframe tbody tr th:only-of-type {\n",
       "        vertical-align: middle;\n",
       "    }\n",
       "\n",
       "    .dataframe tbody tr th {\n",
       "        vertical-align: top;\n",
       "    }\n",
       "\n",
       "    .dataframe thead th {\n",
       "        text-align: right;\n",
       "    }\n",
       "</style>\n",
       "<table border=\"1\" class=\"dataframe\">\n",
       "  <thead>\n",
       "    <tr style=\"text-align: right;\">\n",
       "      <th></th>\n",
       "      <th>ID</th>\n",
       "      <th>Case Number</th>\n",
       "      <th>Date</th>\n",
       "      <th>Block</th>\n",
       "      <th>IUCR</th>\n",
       "      <th>Primary Type</th>\n",
       "      <th>Description</th>\n",
       "      <th>Location Description</th>\n",
       "      <th>Arrest</th>\n",
       "      <th>Domestic</th>\n",
       "      <th>...</th>\n",
       "      <th>Ward</th>\n",
       "      <th>Community Area</th>\n",
       "      <th>FBI Code</th>\n",
       "      <th>X Coordinate</th>\n",
       "      <th>Y Coordinate</th>\n",
       "      <th>Year</th>\n",
       "      <th>Updated On</th>\n",
       "      <th>Latitude</th>\n",
       "      <th>Longitude</th>\n",
       "      <th>Location</th>\n",
       "    </tr>\n",
       "  </thead>\n",
       "  <tbody>\n",
       "    <tr>\n",
       "      <th>0</th>\n",
       "      <td>10224738</td>\n",
       "      <td>HY411648</td>\n",
       "      <td>09/05/2015 01:30:00 PM</td>\n",
       "      <td>043XX S WOOD ST</td>\n",
       "      <td>0486</td>\n",
       "      <td>BATTERY</td>\n",
       "      <td>DOMESTIC BATTERY SIMPLE</td>\n",
       "      <td>RESIDENCE</td>\n",
       "      <td>False</td>\n",
       "      <td>True</td>\n",
       "      <td>...</td>\n",
       "      <td>12.0</td>\n",
       "      <td>61.0</td>\n",
       "      <td>08B</td>\n",
       "      <td>1165074.0</td>\n",
       "      <td>1875917.0</td>\n",
       "      <td>2015</td>\n",
       "      <td>02/10/2018 03:50:01 PM</td>\n",
       "      <td>41.815117</td>\n",
       "      <td>-87.670000</td>\n",
       "      <td>(41.815117282, -87.669999562)</td>\n",
       "    </tr>\n",
       "    <tr>\n",
       "      <th>1</th>\n",
       "      <td>10224739</td>\n",
       "      <td>HY411615</td>\n",
       "      <td>09/04/2015 11:30:00 AM</td>\n",
       "      <td>008XX N CENTRAL AVE</td>\n",
       "      <td>0870</td>\n",
       "      <td>THEFT</td>\n",
       "      <td>POCKET-PICKING</td>\n",
       "      <td>CTA BUS</td>\n",
       "      <td>False</td>\n",
       "      <td>False</td>\n",
       "      <td>...</td>\n",
       "      <td>29.0</td>\n",
       "      <td>25.0</td>\n",
       "      <td>06</td>\n",
       "      <td>1138875.0</td>\n",
       "      <td>1904869.0</td>\n",
       "      <td>2015</td>\n",
       "      <td>02/10/2018 03:50:01 PM</td>\n",
       "      <td>41.895080</td>\n",
       "      <td>-87.765400</td>\n",
       "      <td>(41.895080471, -87.765400451)</td>\n",
       "    </tr>\n",
       "    <tr>\n",
       "      <th>2</th>\n",
       "      <td>11646166</td>\n",
       "      <td>JC213529</td>\n",
       "      <td>09/01/2018 12:01:00 AM</td>\n",
       "      <td>082XX S INGLESIDE AVE</td>\n",
       "      <td>0810</td>\n",
       "      <td>THEFT</td>\n",
       "      <td>OVER $500</td>\n",
       "      <td>RESIDENCE</td>\n",
       "      <td>False</td>\n",
       "      <td>True</td>\n",
       "      <td>...</td>\n",
       "      <td>8.0</td>\n",
       "      <td>44.0</td>\n",
       "      <td>06</td>\n",
       "      <td>NaN</td>\n",
       "      <td>NaN</td>\n",
       "      <td>2018</td>\n",
       "      <td>04/06/2019 04:04:43 PM</td>\n",
       "      <td>NaN</td>\n",
       "      <td>NaN</td>\n",
       "      <td>NaN</td>\n",
       "    </tr>\n",
       "    <tr>\n",
       "      <th>3</th>\n",
       "      <td>10224740</td>\n",
       "      <td>HY411595</td>\n",
       "      <td>09/05/2015 12:45:00 PM</td>\n",
       "      <td>035XX W BARRY AVE</td>\n",
       "      <td>2023</td>\n",
       "      <td>NARCOTICS</td>\n",
       "      <td>POSS: HEROIN(BRN/TAN)</td>\n",
       "      <td>SIDEWALK</td>\n",
       "      <td>True</td>\n",
       "      <td>False</td>\n",
       "      <td>...</td>\n",
       "      <td>35.0</td>\n",
       "      <td>21.0</td>\n",
       "      <td>18</td>\n",
       "      <td>1152037.0</td>\n",
       "      <td>1920384.0</td>\n",
       "      <td>2015</td>\n",
       "      <td>02/10/2018 03:50:01 PM</td>\n",
       "      <td>41.937406</td>\n",
       "      <td>-87.716650</td>\n",
       "      <td>(41.937405765, -87.716649687)</td>\n",
       "    </tr>\n",
       "    <tr>\n",
       "      <th>4</th>\n",
       "      <td>10224741</td>\n",
       "      <td>HY411610</td>\n",
       "      <td>09/05/2015 01:00:00 PM</td>\n",
       "      <td>0000X N LARAMIE AVE</td>\n",
       "      <td>0560</td>\n",
       "      <td>ASSAULT</td>\n",
       "      <td>SIMPLE</td>\n",
       "      <td>APARTMENT</td>\n",
       "      <td>False</td>\n",
       "      <td>True</td>\n",
       "      <td>...</td>\n",
       "      <td>28.0</td>\n",
       "      <td>25.0</td>\n",
       "      <td>08A</td>\n",
       "      <td>1141706.0</td>\n",
       "      <td>1900086.0</td>\n",
       "      <td>2015</td>\n",
       "      <td>02/10/2018 03:50:01 PM</td>\n",
       "      <td>41.881903</td>\n",
       "      <td>-87.755121</td>\n",
       "      <td>(41.881903443, -87.755121152)</td>\n",
       "    </tr>\n",
       "    <tr>\n",
       "      <th>...</th>\n",
       "      <td>...</td>\n",
       "      <td>...</td>\n",
       "      <td>...</td>\n",
       "      <td>...</td>\n",
       "      <td>...</td>\n",
       "      <td>...</td>\n",
       "      <td>...</td>\n",
       "      <td>...</td>\n",
       "      <td>...</td>\n",
       "      <td>...</td>\n",
       "      <td>...</td>\n",
       "      <td>...</td>\n",
       "      <td>...</td>\n",
       "      <td>...</td>\n",
       "      <td>...</td>\n",
       "      <td>...</td>\n",
       "      <td>...</td>\n",
       "      <td>...</td>\n",
       "      <td>...</td>\n",
       "      <td>...</td>\n",
       "      <td>...</td>\n",
       "    </tr>\n",
       "    <tr>\n",
       "      <th>7409404</th>\n",
       "      <td>12493745</td>\n",
       "      <td>JE387389</td>\n",
       "      <td>09/24/2021 03:50:00 PM</td>\n",
       "      <td>074XX W TALCOTT AVE</td>\n",
       "      <td>1513</td>\n",
       "      <td>PROSTITUTION</td>\n",
       "      <td>SOLICITING FOR BUSINESS</td>\n",
       "      <td>HOSPITAL BUILDING / GROUNDS</td>\n",
       "      <td>False</td>\n",
       "      <td>False</td>\n",
       "      <td>...</td>\n",
       "      <td>41.0</td>\n",
       "      <td>10.0</td>\n",
       "      <td>16</td>\n",
       "      <td>1125716.0</td>\n",
       "      <td>1938903.0</td>\n",
       "      <td>2021</td>\n",
       "      <td>10/01/2021 04:51:37 PM</td>\n",
       "      <td>41.988703</td>\n",
       "      <td>-87.812972</td>\n",
       "      <td>(41.988702804, -87.81297224)</td>\n",
       "    </tr>\n",
       "    <tr>\n",
       "      <th>7409405</th>\n",
       "      <td>12493068</td>\n",
       "      <td>JE386506</td>\n",
       "      <td>09/24/2021 10:00:00 AM</td>\n",
       "      <td>006XX E 131ST ST</td>\n",
       "      <td>0910</td>\n",
       "      <td>MOTOR VEHICLE THEFT</td>\n",
       "      <td>AUTOMOBILE</td>\n",
       "      <td>STREET</td>\n",
       "      <td>False</td>\n",
       "      <td>False</td>\n",
       "      <td>...</td>\n",
       "      <td>9.0</td>\n",
       "      <td>54.0</td>\n",
       "      <td>07</td>\n",
       "      <td>1182890.0</td>\n",
       "      <td>1818558.0</td>\n",
       "      <td>2021</td>\n",
       "      <td>10/01/2021 04:51:37 PM</td>\n",
       "      <td>41.657322</td>\n",
       "      <td>-87.606425</td>\n",
       "      <td>(41.657321724, -87.606425363)</td>\n",
       "    </tr>\n",
       "    <tr>\n",
       "      <th>7409406</th>\n",
       "      <td>12497289</td>\n",
       "      <td>JE391669</td>\n",
       "      <td>09/18/2021 04:30:00 AM</td>\n",
       "      <td>016XX N LA SALLE DR</td>\n",
       "      <td>1130</td>\n",
       "      <td>DECEPTIVE PRACTICE</td>\n",
       "      <td>FRAUD OR CONFIDENCE GAME</td>\n",
       "      <td>SIDEWALK</td>\n",
       "      <td>False</td>\n",
       "      <td>False</td>\n",
       "      <td>...</td>\n",
       "      <td>2.0</td>\n",
       "      <td>7.0</td>\n",
       "      <td>11</td>\n",
       "      <td>1174829.0</td>\n",
       "      <td>1911305.0</td>\n",
       "      <td>2021</td>\n",
       "      <td>10/01/2021 04:49:13 PM</td>\n",
       "      <td>41.912012</td>\n",
       "      <td>-87.633158</td>\n",
       "      <td>(41.912012179, -87.633158199)</td>\n",
       "    </tr>\n",
       "    <tr>\n",
       "      <th>7409407</th>\n",
       "      <td>12492677</td>\n",
       "      <td>JE385917</td>\n",
       "      <td>09/24/2021 04:13:00 PM</td>\n",
       "      <td>031XX N LAWNDALE AVE</td>\n",
       "      <td>0486</td>\n",
       "      <td>BATTERY</td>\n",
       "      <td>DOMESTIC BATTERY SIMPLE</td>\n",
       "      <td>RESIDENCE</td>\n",
       "      <td>False</td>\n",
       "      <td>True</td>\n",
       "      <td>...</td>\n",
       "      <td>30.0</td>\n",
       "      <td>21.0</td>\n",
       "      <td>08B</td>\n",
       "      <td>1151215.0</td>\n",
       "      <td>1920671.0</td>\n",
       "      <td>2021</td>\n",
       "      <td>10/01/2021 04:51:37 PM</td>\n",
       "      <td>41.938210</td>\n",
       "      <td>-87.719663</td>\n",
       "      <td>(41.938209503, -87.719663144)</td>\n",
       "    </tr>\n",
       "    <tr>\n",
       "      <th>7409408</th>\n",
       "      <td>12492283</td>\n",
       "      <td>JE385572</td>\n",
       "      <td>09/24/2021 11:30:00 AM</td>\n",
       "      <td>113XX S FRONT AVE</td>\n",
       "      <td>0820</td>\n",
       "      <td>THEFT</td>\n",
       "      <td>$500 AND UNDER</td>\n",
       "      <td>STREET</td>\n",
       "      <td>False</td>\n",
       "      <td>False</td>\n",
       "      <td>...</td>\n",
       "      <td>9.0</td>\n",
       "      <td>49.0</td>\n",
       "      <td>06</td>\n",
       "      <td>1181306.0</td>\n",
       "      <td>1829789.0</td>\n",
       "      <td>2021</td>\n",
       "      <td>10/01/2021 04:51:37 PM</td>\n",
       "      <td>41.688178</td>\n",
       "      <td>-87.611877</td>\n",
       "      <td>(41.688177753, -87.611877375)</td>\n",
       "    </tr>\n",
       "  </tbody>\n",
       "</table>\n",
       "<p>7409409 rows × 22 columns</p>\n",
       "</div>"
      ],
      "text/plain": [
       "               ID Case Number                    Date                  Block  \\\n",
       "0        10224738    HY411648  09/05/2015 01:30:00 PM        043XX S WOOD ST   \n",
       "1        10224739    HY411615  09/04/2015 11:30:00 AM    008XX N CENTRAL AVE   \n",
       "2        11646166    JC213529  09/01/2018 12:01:00 AM  082XX S INGLESIDE AVE   \n",
       "3        10224740    HY411595  09/05/2015 12:45:00 PM      035XX W BARRY AVE   \n",
       "4        10224741    HY411610  09/05/2015 01:00:00 PM    0000X N LARAMIE AVE   \n",
       "...           ...         ...                     ...                    ...   \n",
       "7409404  12493745    JE387389  09/24/2021 03:50:00 PM    074XX W TALCOTT AVE   \n",
       "7409405  12493068    JE386506  09/24/2021 10:00:00 AM       006XX E 131ST ST   \n",
       "7409406  12497289    JE391669  09/18/2021 04:30:00 AM    016XX N LA SALLE DR   \n",
       "7409407  12492677    JE385917  09/24/2021 04:13:00 PM   031XX N LAWNDALE AVE   \n",
       "7409408  12492283    JE385572  09/24/2021 11:30:00 AM      113XX S FRONT AVE   \n",
       "\n",
       "         IUCR         Primary Type               Description  \\\n",
       "0        0486              BATTERY   DOMESTIC BATTERY SIMPLE   \n",
       "1        0870                THEFT            POCKET-PICKING   \n",
       "2        0810                THEFT                 OVER $500   \n",
       "3        2023            NARCOTICS     POSS: HEROIN(BRN/TAN)   \n",
       "4        0560              ASSAULT                    SIMPLE   \n",
       "...       ...                  ...                       ...   \n",
       "7409404  1513         PROSTITUTION   SOLICITING FOR BUSINESS   \n",
       "7409405  0910  MOTOR VEHICLE THEFT                AUTOMOBILE   \n",
       "7409406  1130   DECEPTIVE PRACTICE  FRAUD OR CONFIDENCE GAME   \n",
       "7409407  0486              BATTERY   DOMESTIC BATTERY SIMPLE   \n",
       "7409408  0820                THEFT            $500 AND UNDER   \n",
       "\n",
       "                Location Description  Arrest  Domestic  ...  Ward  \\\n",
       "0                          RESIDENCE   False      True  ...  12.0   \n",
       "1                            CTA BUS   False     False  ...  29.0   \n",
       "2                          RESIDENCE   False      True  ...   8.0   \n",
       "3                           SIDEWALK    True     False  ...  35.0   \n",
       "4                          APARTMENT   False      True  ...  28.0   \n",
       "...                              ...     ...       ...  ...   ...   \n",
       "7409404  HOSPITAL BUILDING / GROUNDS   False     False  ...  41.0   \n",
       "7409405                       STREET   False     False  ...   9.0   \n",
       "7409406                     SIDEWALK   False     False  ...   2.0   \n",
       "7409407                    RESIDENCE   False      True  ...  30.0   \n",
       "7409408                       STREET   False     False  ...   9.0   \n",
       "\n",
       "         Community Area  FBI Code  X Coordinate Y Coordinate  Year  \\\n",
       "0                  61.0       08B     1165074.0    1875917.0  2015   \n",
       "1                  25.0        06     1138875.0    1904869.0  2015   \n",
       "2                  44.0        06           NaN          NaN  2018   \n",
       "3                  21.0        18     1152037.0    1920384.0  2015   \n",
       "4                  25.0       08A     1141706.0    1900086.0  2015   \n",
       "...                 ...       ...           ...          ...   ...   \n",
       "7409404            10.0        16     1125716.0    1938903.0  2021   \n",
       "7409405            54.0        07     1182890.0    1818558.0  2021   \n",
       "7409406             7.0        11     1174829.0    1911305.0  2021   \n",
       "7409407            21.0       08B     1151215.0    1920671.0  2021   \n",
       "7409408            49.0        06     1181306.0    1829789.0  2021   \n",
       "\n",
       "                     Updated On   Latitude  Longitude  \\\n",
       "0        02/10/2018 03:50:01 PM  41.815117 -87.670000   \n",
       "1        02/10/2018 03:50:01 PM  41.895080 -87.765400   \n",
       "2        04/06/2019 04:04:43 PM        NaN        NaN   \n",
       "3        02/10/2018 03:50:01 PM  41.937406 -87.716650   \n",
       "4        02/10/2018 03:50:01 PM  41.881903 -87.755121   \n",
       "...                         ...        ...        ...   \n",
       "7409404  10/01/2021 04:51:37 PM  41.988703 -87.812972   \n",
       "7409405  10/01/2021 04:51:37 PM  41.657322 -87.606425   \n",
       "7409406  10/01/2021 04:49:13 PM  41.912012 -87.633158   \n",
       "7409407  10/01/2021 04:51:37 PM  41.938210 -87.719663   \n",
       "7409408  10/01/2021 04:51:37 PM  41.688178 -87.611877   \n",
       "\n",
       "                              Location  \n",
       "0        (41.815117282, -87.669999562)  \n",
       "1        (41.895080471, -87.765400451)  \n",
       "2                                  NaN  \n",
       "3        (41.937405765, -87.716649687)  \n",
       "4        (41.881903443, -87.755121152)  \n",
       "...                                ...  \n",
       "7409404   (41.988702804, -87.81297224)  \n",
       "7409405  (41.657321724, -87.606425363)  \n",
       "7409406  (41.912012179, -87.633158199)  \n",
       "7409407  (41.938209503, -87.719663144)  \n",
       "7409408  (41.688177753, -87.611877375)  \n",
       "\n",
       "[7409409 rows x 22 columns]"
      ]
     },
     "execution_count": 2,
     "metadata": {},
     "output_type": "execute_result"
    }
   ],
   "source": [
    "data = pd.read_csv(\"Crimes_-_2001_to_Present.csv\")\n",
    "data"
   ]
  },
  {
   "cell_type": "code",
   "execution_count": 10,
   "metadata": {},
   "outputs": [
    {
     "data": {
      "text/plain": [
       "Index(['ID', 'Case Number', 'Date', 'Block', 'IUCR', 'Primary Type',\n",
       "       'Description', 'Location Description', 'Arrest', 'Domestic', 'Beat',\n",
       "       'District', 'Ward', 'Community Area', 'FBI Code', 'X Coordinate',\n",
       "       'Y Coordinate', 'Year', 'Updated On', 'Latitude', 'Longitude',\n",
       "       'Location'],\n",
       "      dtype='object')"
      ]
     },
     "execution_count": 10,
     "metadata": {},
     "output_type": "execute_result"
    }
   ],
   "source": [
    "data.keys()\n"
   ]
  },
  {
   "cell_type": "code",
   "execution_count": 11,
   "metadata": {},
   "outputs": [
    {
     "data": {
      "text/plain": [
       "0          1875917.0\n",
       "1          1904869.0\n",
       "2                NaN\n",
       "3          1920384.0\n",
       "4          1900086.0\n",
       "             ...    \n",
       "7409404    1938903.0\n",
       "7409405    1818558.0\n",
       "7409406    1911305.0\n",
       "7409407    1920671.0\n",
       "7409408    1829789.0\n",
       "Name: Y Coordinate, Length: 7409409, dtype: float64"
      ]
     },
     "execution_count": 11,
     "metadata": {},
     "output_type": "execute_result"
    }
   ],
   "source": [
    "\n",
    "'''['Primary Type','IUCR','Arrest','Domestic','Beat','District','Community Area','FBI Code',\n",
    "           'Zip Codes','Ward','Police Districts','Police Beats']'''\n",
    "\n",
    "data.keys()\n",
    "data['Latitude']\n",
    "data['Longitude']\n",
    "data['Location']\n",
    "data['X Coordinate']\n",
    "data['Y Coordinate']"
   ]
  },
  {
   "cell_type": "code",
   "execution_count": 16,
   "metadata": {},
   "outputs": [
    {
     "name": "stdout",
     "output_type": "stream",
     "text": [
      "36\n",
      "402\n",
      "2\n",
      "2\n",
      "304\n",
      "25\n",
      "79\n",
      "26\n",
      "51\n",
      "25\n",
      "304\n"
     ]
    },
    {
     "data": {
      "text/plain": [
       "\"['Primary Type','IUCR','Arrest','Domestic','Beat','District','Community Area','FBI Code',\\n           'Zip Codes','Wards','Police Districts','Police Beats']\""
      ]
     },
     "execution_count": 16,
     "metadata": {},
     "output_type": "execute_result"
    }
   ],
   "source": [
    "print(len(data[\"Primary Type\"].unique()))\n",
    "print(len(data[\"IUCR\"].unique()))\n",
    "print(len(data[\"Arrest\"].unique()))\n",
    "print(len(data[\"Domestic\"].unique()))\n",
    "print(len(data[\"Beat\"].unique()))\n",
    "print(len(data[\"District\"].unique()))\n",
    "print(len(data[\"Community Area\"].unique()))\n",
    "print(len(data[\"FBI Code\"].unique()))\n",
    "#len(data[\"Zip Codes\"].unique()))\n",
    "print(len(data[\"Ward\"].unique()))\n",
    "print(len(data[\"District\"].unique()))\n",
    "print(len(data[\"Beat\"].unique()))\n",
    "\n",
    "'''['Primary Type','IUCR','Arrest','Domestic','Beat','District','Community Area','FBI Code',\n",
    "           'Zip Codes','Wards','Police Districts','Police Beats']'''\n"
   ]
  },
  {
   "cell_type": "code",
   "execution_count": 69,
   "metadata": {},
   "outputs": [
    {
     "data": {
      "image/png": "[encoded data removed]",
      "text/plain": [
       "<Figure size 640x480 with 1 Axes>"
      ]
     },
     "metadata": {
      "needs_background": "light"
     },
     "output_type": "display_data"
    }
   ],
   "source": [
    "figure(figsize=(8, 6), dpi=80)\n",
    "import matplotlib.pyplot as plt\n",
    "plt.hist(data[\"Primary Type\"], bins =36)\n",
    "plt.xticks(rotation='vertical')\n",
    "\n",
    "plt.show()\n",
    "\n"
   ]
  },
  {
   "cell_type": "code",
   "execution_count": 70,
   "metadata": {},
   "outputs": [],
   "source": [
    "\n",
    "\n",
    "def count_elements(seq) -> dict:\n",
    "    \n",
    "    \"\"\"Tally elements from `seq`.\"\"\"\n",
    "    hist = {}\n",
    "    for i in seq:\n",
    "        hist[i] = hist.get(i, 0) + 1\n",
    "    return hist\n",
    "\n",
    "counted = count_elements(data[\"Primary Type\"])\n",
    "sorted_pair = {k: v for k, v in sorted(counted.items(), key=lambda item: -item[1])}"
   ]
  },
  {
   "cell_type": "code",
   "execution_count": 71,
   "metadata": {},
   "outputs": [
    {
     "data": {
      "text/plain": [
       "dict_keys(['THEFT', 'BATTERY', 'CRIMINAL DAMAGE', 'NARCOTICS', 'ASSAULT', 'OTHER OFFENSE', 'BURGLARY', 'MOTOR VEHICLE THEFT', 'DECEPTIVE PRACTICE', 'ROBBERY', 'CRIMINAL TRESPASS', 'WEAPONS VIOLATION', 'PROSTITUTION', 'OFFENSE INVOLVING CHILDREN', 'PUBLIC PEACE VIOLATION', 'SEX OFFENSE', 'CRIM SEXUAL ASSAULT', 'INTERFERENCE WITH PUBLIC OFFICER', 'GAMBLING', 'LIQUOR LAW VIOLATION', 'ARSON', 'HOMICIDE', 'KIDNAPPING', 'INTIMIDATION', 'STALKING', 'CRIMINAL SEXUAL ASSAULT', 'CONCEALED CARRY LICENSE VIOLATION', 'OBSCENITY', 'PUBLIC INDECENCY', 'NON-CRIMINAL', 'OTHER NARCOTIC VIOLATION', 'HUMAN TRAFFICKING', 'NON - CRIMINAL', 'RITUALISM', 'NON-CRIMINAL (SUBJECT SPECIFIED)', 'DOMESTIC VIOLENCE'])"
      ]
     },
     "execution_count": 71,
     "metadata": {},
     "output_type": "execute_result"
    }
   ],
   "source": [
    "sorted_pair.keys()"
   ]
  },
  {
   "cell_type": "code",
   "execution_count": 72,
   "metadata": {},
   "outputs": [
    {
     "data": {
      "text/plain": [
       "dict_values([1558882, 1359022, 844795, 739221, 474741, 460680, 412284, 341547, 317990, 278030, 207643, 92918, 69444, 52133, 51213, 28603, 27840, 17731, 14603, 14566, 12551, 11441, 7045, 4364, 4089, 3830, 806, 747, 187, 175, 140, 76, 38, 24, 9, 1])"
      ]
     },
     "execution_count": 72,
     "metadata": {},
     "output_type": "execute_result"
    }
   ],
   "source": [
    "sorted_pair.values()"
   ]
  },
  {
   "cell_type": "code",
   "execution_count": null,
   "metadata": {},
   "outputs": [],
   "source": []
  },
  {
   "cell_type": "code",
   "execution_count": 73,
   "metadata": {},
   "outputs": [
    {
     "data": {
      "image/png": "[encoded data removed]",
      "text/plain": [
       "<Figure size 640x480 with 1 Axes>"
      ]
     },
     "metadata": {
      "needs_background": "light"
     },
     "output_type": "display_data"
    }
   ],
   "source": [
    "figure(figsize=(8, 6), dpi=80)\n",
    "import matplotlib.pyplot as plt\n",
    "\n",
    "plt.bar(sorted_pair.keys(), sorted_pair.values())\n",
    "plt.xticks(rotation='vertical')\n",
    "plt.show()"
   ]
  },
  {
   "cell_type": "code",
   "execution_count": 75,
   "metadata": {},
   "outputs": [
    {
     "data": {
      "text/plain": [
       "\" \\nNow, 'K' is the total number of classes in Primary Type. \\nExperiment with K=2,3,4,5 as the most popular Primary Type data to be used and predicted.\\nFor a given K, filter the dataset to extract the most popular K Primary Types and report what \\npercentage of the total dataset this amounts to. Lets call this percentage, F.\\nNow, find what fraction of this filtered data can be supported in your analysis on your local machine.\\nLets call this P. \\n\\nFor example, of the approximately 7 million entries, \\nsay for K=3,\\nwe find that the top three types of crime add up to around 3.5 million, which makes F be 50%. \\nNow see if your machine can handle all 3.5 million entries in you ML analysis. \\nSay you find out that you can only handle 60% of this, which means your working \\ndataset will be 2.1 million entries.\""
      ]
     },
     "execution_count": 75,
     "metadata": {},
     "output_type": "execute_result"
    }
   ],
   "source": [
    "''' \n",
    "Now see if your machine can handle all 3.5 million entries in you ML analysis. \n",
    "Say you find out that you can only handle 60% of this, which means your working \n",
    "dataset will be 2.1 million entries.'''"
   ]
  },
  {
   "cell_type": "code",
   "execution_count": 98,
   "metadata": {},
   "outputs": [
    {
     "name": "stdout",
     "output_type": "stream",
     "text": [
      "F 39.38106264615707 %\n"
     ]
    }
   ],
   "source": [
    "## Percentage of the total dataset K top primary types amounts to\n",
    "\n",
    "K = 2\n",
    "a = list(sorted_pair.values())\n",
    "a_arr = np.array(a)\n",
    "F = a_arr[:K].sum()/a_arr.sum()\n",
    "print(\"F {} %\".format(F*100))"
   ]
  },
  {
   "cell_type": "markdown",
   "metadata": {
    "colab_type": "text",
    "id": "4wYum7PQFj1w"
   },
   "source": [
    "# Task 2 - Convert the features in a form that can be given as input to scikit library/functions\n",
    "\n",
    "Here you have to search a little bit. The data that we are using has data other than numerical values. The model takes values as numerical or categorical data. You need to convert the input data to either one of these forms. "
   ]
  },
  {
   "cell_type": "code",
   "execution_count": 65,
   "metadata": {},
   "outputs": [
    {
     "data": {
      "text/plain": [
       "\"Primary Type','IUCR','Arrest',\\n'Domestic','Beat','District','Community Area','FBI Code',\\n'Zip Codes','Wards','Police Districts','Police Beats\""
      ]
     },
     "execution_count": 65,
     "metadata": {},
     "output_type": "execute_result"
    }
   ],
   "source": [
    "\n",
    "data.dtypes\n",
    "\n",
    "'''Primary Type','IUCR','Arrest',\n",
    "'Domestic','Beat','District','Community Area','FBI Code',\n",
    "'Zip Codes','Wards','Police Districts','Police Beats'''"
   ]
  },
  {
   "cell_type": "code",
   "execution_count": 59,
   "metadata": {
    "scrolled": true
   },
   "outputs": [
    {
     "name": "stdout",
     "output_type": "stream",
     "text": [
      "36\n",
      "402\n",
      "2\n",
      "2\n",
      "304\n",
      "25\n",
      "79\n",
      "26\n",
      "51\n",
      "25\n"
     ]
    },
    {
     "data": {
      "text/html": [
       "<div>\n",
       "<style scoped>\n",
       "    .dataframe tbody tr th:only-of-type {\n",
       "        vertical-align: middle;\n",
       "    }\n",
       "\n",
       "    .dataframe tbody tr th {\n",
       "        vertical-align: top;\n",
       "    }\n",
       "\n",
       "    .dataframe thead th {\n",
       "        text-align: right;\n",
       "    }\n",
       "</style>\n",
       "<table border=\"1\" class=\"dataframe\">\n",
       "  <thead>\n",
       "    <tr style=\"text-align: right;\">\n",
       "      <th></th>\n",
       "      <th>ID</th>\n",
       "      <th>Case Number</th>\n",
       "      <th>Date</th>\n",
       "      <th>Block</th>\n",
       "      <th>IUCR</th>\n",
       "      <th>Primary Type</th>\n",
       "      <th>Description</th>\n",
       "      <th>Location Description</th>\n",
       "      <th>Arrest</th>\n",
       "      <th>Domestic</th>\n",
       "      <th>...</th>\n",
       "      <th>Ward</th>\n",
       "      <th>Community Area</th>\n",
       "      <th>FBI Code</th>\n",
       "      <th>X Coordinate</th>\n",
       "      <th>Y Coordinate</th>\n",
       "      <th>Year</th>\n",
       "      <th>Updated On</th>\n",
       "      <th>Latitude</th>\n",
       "      <th>Longitude</th>\n",
       "      <th>Location</th>\n",
       "    </tr>\n",
       "  </thead>\n",
       "  <tbody>\n",
       "    <tr>\n",
       "      <th>0</th>\n",
       "      <td>10224738</td>\n",
       "      <td>HY411648</td>\n",
       "      <td>09/05/2015 01:30:00 PM</td>\n",
       "      <td>043XX S WOOD ST</td>\n",
       "      <td>0486</td>\n",
       "      <td>BATTERY</td>\n",
       "      <td>DOMESTIC BATTERY SIMPLE</td>\n",
       "      <td>RESIDENCE</td>\n",
       "      <td>False</td>\n",
       "      <td>True</td>\n",
       "      <td>...</td>\n",
       "      <td>12.0</td>\n",
       "      <td>61.0</td>\n",
       "      <td>08B</td>\n",
       "      <td>1165074.0</td>\n",
       "      <td>1875917.0</td>\n",
       "      <td>2015</td>\n",
       "      <td>02/10/2018 03:50:01 PM</td>\n",
       "      <td>41.815117</td>\n",
       "      <td>-87.670000</td>\n",
       "      <td>(41.815117282, -87.669999562)</td>\n",
       "    </tr>\n",
       "    <tr>\n",
       "      <th>1</th>\n",
       "      <td>10224739</td>\n",
       "      <td>HY411615</td>\n",
       "      <td>09/04/2015 11:30:00 AM</td>\n",
       "      <td>008XX N CENTRAL AVE</td>\n",
       "      <td>0870</td>\n",
       "      <td>THEFT</td>\n",
       "      <td>POCKET-PICKING</td>\n",
       "      <td>CTA BUS</td>\n",
       "      <td>False</td>\n",
       "      <td>False</td>\n",
       "      <td>...</td>\n",
       "      <td>29.0</td>\n",
       "      <td>25.0</td>\n",
       "      <td>06</td>\n",
       "      <td>1138875.0</td>\n",
       "      <td>1904869.0</td>\n",
       "      <td>2015</td>\n",
       "      <td>02/10/2018 03:50:01 PM</td>\n",
       "      <td>41.895080</td>\n",
       "      <td>-87.765400</td>\n",
       "      <td>(41.895080471, -87.765400451)</td>\n",
       "    </tr>\n",
       "    <tr>\n",
       "      <th>2</th>\n",
       "      <td>11646166</td>\n",
       "      <td>JC213529</td>\n",
       "      <td>09/01/2018 12:01:00 AM</td>\n",
       "      <td>082XX S INGLESIDE AVE</td>\n",
       "      <td>0810</td>\n",
       "      <td>THEFT</td>\n",
       "      <td>OVER $500</td>\n",
       "      <td>RESIDENCE</td>\n",
       "      <td>False</td>\n",
       "      <td>True</td>\n",
       "      <td>...</td>\n",
       "      <td>8.0</td>\n",
       "      <td>44.0</td>\n",
       "      <td>06</td>\n",
       "      <td>NaN</td>\n",
       "      <td>NaN</td>\n",
       "      <td>2018</td>\n",
       "      <td>04/06/2019 04:04:43 PM</td>\n",
       "      <td>NaN</td>\n",
       "      <td>NaN</td>\n",
       "      <td>NaN</td>\n",
       "    </tr>\n",
       "    <tr>\n",
       "      <th>3</th>\n",
       "      <td>10224740</td>\n",
       "      <td>HY411595</td>\n",
       "      <td>09/05/2015 12:45:00 PM</td>\n",
       "      <td>035XX W BARRY AVE</td>\n",
       "      <td>2023</td>\n",
       "      <td>NARCOTICS</td>\n",
       "      <td>POSS: HEROIN(BRN/TAN)</td>\n",
       "      <td>SIDEWALK</td>\n",
       "      <td>True</td>\n",
       "      <td>False</td>\n",
       "      <td>...</td>\n",
       "      <td>35.0</td>\n",
       "      <td>21.0</td>\n",
       "      <td>18</td>\n",
       "      <td>1152037.0</td>\n",
       "      <td>1920384.0</td>\n",
       "      <td>2015</td>\n",
       "      <td>02/10/2018 03:50:01 PM</td>\n",
       "      <td>41.937406</td>\n",
       "      <td>-87.716650</td>\n",
       "      <td>(41.937405765, -87.716649687)</td>\n",
       "    </tr>\n",
       "    <tr>\n",
       "      <th>4</th>\n",
       "      <td>10224741</td>\n",
       "      <td>HY411610</td>\n",
       "      <td>09/05/2015 01:00:00 PM</td>\n",
       "      <td>0000X N LARAMIE AVE</td>\n",
       "      <td>0560</td>\n",
       "      <td>ASSAULT</td>\n",
       "      <td>SIMPLE</td>\n",
       "      <td>APARTMENT</td>\n",
       "      <td>False</td>\n",
       "      <td>True</td>\n",
       "      <td>...</td>\n",
       "      <td>28.0</td>\n",
       "      <td>25.0</td>\n",
       "      <td>08A</td>\n",
       "      <td>1141706.0</td>\n",
       "      <td>1900086.0</td>\n",
       "      <td>2015</td>\n",
       "      <td>02/10/2018 03:50:01 PM</td>\n",
       "      <td>41.881903</td>\n",
       "      <td>-87.755121</td>\n",
       "      <td>(41.881903443, -87.755121152)</td>\n",
       "    </tr>\n",
       "    <tr>\n",
       "      <th>...</th>\n",
       "      <td>...</td>\n",
       "      <td>...</td>\n",
       "      <td>...</td>\n",
       "      <td>...</td>\n",
       "      <td>...</td>\n",
       "      <td>...</td>\n",
       "      <td>...</td>\n",
       "      <td>...</td>\n",
       "      <td>...</td>\n",
       "      <td>...</td>\n",
       "      <td>...</td>\n",
       "      <td>...</td>\n",
       "      <td>...</td>\n",
       "      <td>...</td>\n",
       "      <td>...</td>\n",
       "      <td>...</td>\n",
       "      <td>...</td>\n",
       "      <td>...</td>\n",
       "      <td>...</td>\n",
       "      <td>...</td>\n",
       "      <td>...</td>\n",
       "    </tr>\n",
       "    <tr>\n",
       "      <th>7409404</th>\n",
       "      <td>12493745</td>\n",
       "      <td>JE387389</td>\n",
       "      <td>09/24/2021 03:50:00 PM</td>\n",
       "      <td>074XX W TALCOTT AVE</td>\n",
       "      <td>1513</td>\n",
       "      <td>PROSTITUTION</td>\n",
       "      <td>SOLICITING FOR BUSINESS</td>\n",
       "      <td>HOSPITAL BUILDING / GROUNDS</td>\n",
       "      <td>False</td>\n",
       "      <td>False</td>\n",
       "      <td>...</td>\n",
       "      <td>41.0</td>\n",
       "      <td>10.0</td>\n",
       "      <td>16</td>\n",
       "      <td>1125716.0</td>\n",
       "      <td>1938903.0</td>\n",
       "      <td>2021</td>\n",
       "      <td>10/01/2021 04:51:37 PM</td>\n",
       "      <td>41.988703</td>\n",
       "      <td>-87.812972</td>\n",
       "      <td>(41.988702804, -87.81297224)</td>\n",
       "    </tr>\n",
       "    <tr>\n",
       "      <th>7409405</th>\n",
       "      <td>12493068</td>\n",
       "      <td>JE386506</td>\n",
       "      <td>09/24/2021 10:00:00 AM</td>\n",
       "      <td>006XX E 131ST ST</td>\n",
       "      <td>0910</td>\n",
       "      <td>MOTOR VEHICLE THEFT</td>\n",
       "      <td>AUTOMOBILE</td>\n",
       "      <td>STREET</td>\n",
       "      <td>False</td>\n",
       "      <td>False</td>\n",
       "      <td>...</td>\n",
       "      <td>9.0</td>\n",
       "      <td>54.0</td>\n",
       "      <td>07</td>\n",
       "      <td>1182890.0</td>\n",
       "      <td>1818558.0</td>\n",
       "      <td>2021</td>\n",
       "      <td>10/01/2021 04:51:37 PM</td>\n",
       "      <td>41.657322</td>\n",
       "      <td>-87.606425</td>\n",
       "      <td>(41.657321724, -87.606425363)</td>\n",
       "    </tr>\n",
       "    <tr>\n",
       "      <th>7409406</th>\n",
       "      <td>12497289</td>\n",
       "      <td>JE391669</td>\n",
       "      <td>09/18/2021 04:30:00 AM</td>\n",
       "      <td>016XX N LA SALLE DR</td>\n",
       "      <td>1130</td>\n",
       "      <td>DECEPTIVE PRACTICE</td>\n",
       "      <td>FRAUD OR CONFIDENCE GAME</td>\n",
       "      <td>SIDEWALK</td>\n",
       "      <td>False</td>\n",
       "      <td>False</td>\n",
       "      <td>...</td>\n",
       "      <td>2.0</td>\n",
       "      <td>7.0</td>\n",
       "      <td>11</td>\n",
       "      <td>1174829.0</td>\n",
       "      <td>1911305.0</td>\n",
       "      <td>2021</td>\n",
       "      <td>10/01/2021 04:49:13 PM</td>\n",
       "      <td>41.912012</td>\n",
       "      <td>-87.633158</td>\n",
       "      <td>(41.912012179, -87.633158199)</td>\n",
       "    </tr>\n",
       "    <tr>\n",
       "      <th>7409407</th>\n",
       "      <td>12492677</td>\n",
       "      <td>JE385917</td>\n",
       "      <td>09/24/2021 04:13:00 PM</td>\n",
       "      <td>031XX N LAWNDALE AVE</td>\n",
       "      <td>0486</td>\n",
       "      <td>BATTERY</td>\n",
       "      <td>DOMESTIC BATTERY SIMPLE</td>\n",
       "      <td>RESIDENCE</td>\n",
       "      <td>False</td>\n",
       "      <td>True</td>\n",
       "      <td>...</td>\n",
       "      <td>30.0</td>\n",
       "      <td>21.0</td>\n",
       "      <td>08B</td>\n",
       "      <td>1151215.0</td>\n",
       "      <td>1920671.0</td>\n",
       "      <td>2021</td>\n",
       "      <td>10/01/2021 04:51:37 PM</td>\n",
       "      <td>41.938210</td>\n",
       "      <td>-87.719663</td>\n",
       "      <td>(41.938209503, -87.719663144)</td>\n",
       "    </tr>\n",
       "    <tr>\n",
       "      <th>7409408</th>\n",
       "      <td>12492283</td>\n",
       "      <td>JE385572</td>\n",
       "      <td>09/24/2021 11:30:00 AM</td>\n",
       "      <td>113XX S FRONT AVE</td>\n",
       "      <td>0820</td>\n",
       "      <td>THEFT</td>\n",
       "      <td>$500 AND UNDER</td>\n",
       "      <td>STREET</td>\n",
       "      <td>False</td>\n",
       "      <td>False</td>\n",
       "      <td>...</td>\n",
       "      <td>9.0</td>\n",
       "      <td>49.0</td>\n",
       "      <td>06</td>\n",
       "      <td>1181306.0</td>\n",
       "      <td>1829789.0</td>\n",
       "      <td>2021</td>\n",
       "      <td>10/01/2021 04:51:37 PM</td>\n",
       "      <td>41.688178</td>\n",
       "      <td>-87.611877</td>\n",
       "      <td>(41.688177753, -87.611877375)</td>\n",
       "    </tr>\n",
       "  </tbody>\n",
       "</table>\n",
       "<p>7409409 rows × 22 columns</p>\n",
       "</div>"
      ],
      "text/plain": [
       "               ID Case Number                    Date                  Block  \\\n",
       "0        10224738    HY411648  09/05/2015 01:30:00 PM        043XX S WOOD ST   \n",
       "1        10224739    HY411615  09/04/2015 11:30:00 AM    008XX N CENTRAL AVE   \n",
       "2        11646166    JC213529  09/01/2018 12:01:00 AM  082XX S INGLESIDE AVE   \n",
       "3        10224740    HY411595  09/05/2015 12:45:00 PM      035XX W BARRY AVE   \n",
       "4        10224741    HY411610  09/05/2015 01:00:00 PM    0000X N LARAMIE AVE   \n",
       "...           ...         ...                     ...                    ...   \n",
       "7409404  12493745    JE387389  09/24/2021 03:50:00 PM    074XX W TALCOTT AVE   \n",
       "7409405  12493068    JE386506  09/24/2021 10:00:00 AM       006XX E 131ST ST   \n",
       "7409406  12497289    JE391669  09/18/2021 04:30:00 AM    016XX N LA SALLE DR   \n",
       "7409407  12492677    JE385917  09/24/2021 04:13:00 PM   031XX N LAWNDALE AVE   \n",
       "7409408  12492283    JE385572  09/24/2021 11:30:00 AM      113XX S FRONT AVE   \n",
       "\n",
       "         IUCR         Primary Type               Description  \\\n",
       "0        0486              BATTERY   DOMESTIC BATTERY SIMPLE   \n",
       "1        0870                THEFT            POCKET-PICKING   \n",
       "2        0810                THEFT                 OVER $500   \n",
       "3        2023            NARCOTICS     POSS: HEROIN(BRN/TAN)   \n",
       "4        0560              ASSAULT                    SIMPLE   \n",
       "...       ...                  ...                       ...   \n",
       "7409404  1513         PROSTITUTION   SOLICITING FOR BUSINESS   \n",
       "7409405  0910  MOTOR VEHICLE THEFT                AUTOMOBILE   \n",
       "7409406  1130   DECEPTIVE PRACTICE  FRAUD OR CONFIDENCE GAME   \n",
       "7409407  0486              BATTERY   DOMESTIC BATTERY SIMPLE   \n",
       "7409408  0820                THEFT            $500 AND UNDER   \n",
       "\n",
       "                Location Description  Arrest  Domestic  ...  Ward  \\\n",
       "0                          RESIDENCE   False      True  ...  12.0   \n",
       "1                            CTA BUS   False     False  ...  29.0   \n",
       "2                          RESIDENCE   False      True  ...   8.0   \n",
       "3                           SIDEWALK    True     False  ...  35.0   \n",
       "4                          APARTMENT   False      True  ...  28.0   \n",
       "...                              ...     ...       ...  ...   ...   \n",
       "7409404  HOSPITAL BUILDING / GROUNDS   False     False  ...  41.0   \n",
       "7409405                       STREET   False     False  ...   9.0   \n",
       "7409406                     SIDEWALK   False     False  ...   2.0   \n",
       "7409407                    RESIDENCE   False      True  ...  30.0   \n",
       "7409408                       STREET   False     False  ...   9.0   \n",
       "\n",
       "         Community Area  FBI Code  X Coordinate Y Coordinate  Year  \\\n",
       "0                  61.0       08B     1165074.0    1875917.0  2015   \n",
       "1                  25.0        06     1138875.0    1904869.0  2015   \n",
       "2                  44.0        06           NaN          NaN  2018   \n",
       "3                  21.0        18     1152037.0    1920384.0  2015   \n",
       "4                  25.0       08A     1141706.0    1900086.0  2015   \n",
       "...                 ...       ...           ...          ...   ...   \n",
       "7409404            10.0        16     1125716.0    1938903.0  2021   \n",
       "7409405            54.0        07     1182890.0    1818558.0  2021   \n",
       "7409406             7.0        11     1174829.0    1911305.0  2021   \n",
       "7409407            21.0       08B     1151215.0    1920671.0  2021   \n",
       "7409408            49.0        06     1181306.0    1829789.0  2021   \n",
       "\n",
       "                     Updated On   Latitude  Longitude  \\\n",
       "0        02/10/2018 03:50:01 PM  41.815117 -87.670000   \n",
       "1        02/10/2018 03:50:01 PM  41.895080 -87.765400   \n",
       "2        04/06/2019 04:04:43 PM        NaN        NaN   \n",
       "3        02/10/2018 03:50:01 PM  41.937406 -87.716650   \n",
       "4        02/10/2018 03:50:01 PM  41.881903 -87.755121   \n",
       "...                         ...        ...        ...   \n",
       "7409404  10/01/2021 04:51:37 PM  41.988703 -87.812972   \n",
       "7409405  10/01/2021 04:51:37 PM  41.657322 -87.606425   \n",
       "7409406  10/01/2021 04:49:13 PM  41.912012 -87.633158   \n",
       "7409407  10/01/2021 04:51:37 PM  41.938210 -87.719663   \n",
       "7409408  10/01/2021 04:51:37 PM  41.688178 -87.611877   \n",
       "\n",
       "                              Location  \n",
       "0        (41.815117282, -87.669999562)  \n",
       "1        (41.895080471, -87.765400451)  \n",
       "2                                  NaN  \n",
       "3        (41.937405765, -87.716649687)  \n",
       "4        (41.881903443, -87.755121152)  \n",
       "...                                ...  \n",
       "7409404   (41.988702804, -87.81297224)  \n",
       "7409405  (41.657321724, -87.606425363)  \n",
       "7409406  (41.912012179, -87.633158199)  \n",
       "7409407  (41.938209503, -87.719663144)  \n",
       "7409408  (41.688177753, -87.611877375)  \n",
       "\n",
       "[7409409 rows x 22 columns]"
      ]
     },
     "execution_count": 59,
     "metadata": {},
     "output_type": "execute_result"
    }
   ],
   "source": [
    "print(len(data[\"Primary Type\"].unique()))\n",
    "print(len(data[\"IUCR\"].unique()))\n",
    "print(len(data[\"Arrest\"].unique()))\n",
    "print(len(data[\"Domestic\"].unique()))\n",
    "print(len(data[\"Beat\"].unique()))\n",
    "print(len(data[\"District\"].unique()))\n",
    "print(len(data[\"Community Area\"].unique()))\n",
    "print(len(data[\"FBI Code\"].unique()))\n",
    "print(len(data[\"Ward\"].unique()))\n",
    "print(len(data[\"District\"].unique()))\n",
    "data"
   ]
  },
  {
   "cell_type": "code",
   "execution_count": 56,
   "metadata": {},
   "outputs": [
    {
     "name": "stdout",
     "output_type": "stream",
     "text": [
      "['08B' '06' '18' '08A' '05' '03' '11' '26' '04B' '14' '15' '10' '07' '17'\n",
      " '04A' '24' '20' '02' '16' '19' '22' '09' '12' '13' '01A' '01B']\n"
     ]
    },
    {
     "data": {
      "text/plain": [
       "\"Primary Type','IUCR','Arrest',\\n'Domestic','Beat','District','Community Area','FBI Code',\\n'Zip Codes','Wards','Police Districts','Police Beats\""
      ]
     },
     "execution_count": 56,
     "metadata": {},
     "output_type": "execute_result"
    }
   ],
   "source": [
    "from sklearn.preprocessing import LabelEncoder\n",
    "\n",
    "import pandas as pd\n",
    "# creating instance of labelencoder\n",
    "labelencoder = LabelEncoder()\n",
    "\n",
    "data_cat = pd.DataFrame(data[\"Primary Type\"], columns=['Primary Type'])\n",
    "# Assigning numerical values and storing in another column\n",
    "data_cat['Primary_Type_Cat'] = labelencoder.fit_transform(data_cat['Primary Type'])\n",
    "## IUCR categorize\n",
    "data_cat['IUCR_Cat'] = labelencoder.fit_transform(data['IUCR'])\n",
    " \n",
    "data_cat['FBI_Code_Cat'] = labelencoder.fit_transform(data['FBI Code'])\n",
    "\n",
    "data_cat['Beat_Cat'] = labelencoder.fit_transform(data['Beat'])\n",
    "print(data[\"FBI Code\"].unique())\n",
    "\n",
    "data.keys()\n",
    "'''Primary Type','IUCR','Arrest',\n",
    "'Domestic','Beat','District','Community Area','FBI Code',\n",
    "'Zip Codes','Wards','Police Districts','Police Beats'''"
   ]
  },
  {
   "cell_type": "code",
   "execution_count": 50,
   "metadata": {},
   "outputs": [
    {
     "name": "stdout",
     "output_type": "stream",
     "text": [
      "[ 9. 15.  6. 14. 10. 12.  8. 16.  5.  2.  4. 22.  3.  1.  7. 11. 17. 20.\n",
      " 25. 18. 19. 24. 31. nan 21.]\n",
      "[12. 29.  8. 35. 28. 21. 32. 25. 27. 15. 13. 45. 34.  4.  1. 10. 38.  5.\n",
      "  7.  2. 20. 39. 24. 40.  6. 37. 16.  3. 42. 46. 23.  9. 19. 50. 44. 47.\n",
      " 11. 48. 49. 26. 33. 22. 30. 18. 43. 31. 36. 17. 14. 41. nan]\n",
      "[61. 25. 44. 21. 71. 24. 31. 27. 63. 65. 11. 49. 39. 51. 15. 52. 12. 43.\n",
      " 46. 32. 68. 14. 29.  2. 69. 23. 35.  8.  3.  6. 56. 28. 53. 50. 33. 13.\n",
      " 74. 19. 45. 72. 22. 64.  7.  5. 26. 66. 59. 77.  1. 10. 67. 38. 41. 60.\n",
      " 30. 54. 58. 48. 73. 70. 40. 34. 16. 18.  4. 17. 42. 37. 75. 62. 20. 57.\n",
      " 76. 47. nan  9. 36. 55.  0.]\n",
      "['08B' '06' '18' '08A' '05' '03' '11' '26' '04B' '14' '15' '10' '07' '17'\n",
      " '04A' '24' '20' '02' '16' '19' '22' '09' '12' '13' '01A' '01B']\n",
      "[ 924 1511  631 1412 1522  614 1434 1034 1222  824  833 1623  512  222\n",
      " 1424  612 1531  434 2221 1633  432  331  421  422  123  711 1213 1124\n",
      " 1722 1014 2011  722 2534  712  213 1831  723 1134  323 1135 1913 1925\n",
      "  633  811 1712 1821  113 1112  523  531  513  423  131 1711  522  211\n",
      "  414  532 1822 2211 2512 1224  933  932 1215 2412 1223  412 2213 1824\n",
      " 1411 1634  812 1932 1924 1921 1132 1212 2515 2531 1524  832  623  624\n",
      "  511 1933 2212 1431  124 1123 1523  122  912 2023  622 2533 2424 1533\n",
      " 1611 1221  714  613  634  333  221  234 1713  914 1011 1024  533  235\n",
      "  215  214 1131  424 1023 1234 1423  831  922  934 2431  132  713 2222\n",
      "  332  935 1915 2422  834 1814 2523 2413 2524  915 1021 1032 1022 1133\n",
      " 1923 1914  715  732 1225  411 1031 1432  413  311  632 2032 2432 1231\n",
      "  911 1732 1723  825  731 1724 1122 1931 2511 1214  735 2535  725 2031\n",
      " 2033  823 1012 2514  225 2433  231  233  232  312 1113  324  322 1125\n",
      "  313 2522 2521  734  621 1622  224  334  524  726 1631 1624  114  133\n",
      " 1812 1833  611 2234  822  431 1235  835 1823 1121 1834 1111  121 1922\n",
      "  814  813  733  223  925  321  212 2022 1233 1733 2223 1813 1033  913\n",
      "  921 1232 1433  815  724 1612 1114 1911  821 1512 2013  931 1935 1912\n",
      " 1513 1532 1013 2233 2232  111 1421 1211 1115 2525 2411  923 2024 2513\n",
      " 2423 1651 1413 1934 1632 1654 1422 1832 1614 2532 1811  112  314  433\n",
      " 1613 1653 1414 2012 1621 1731 1652 1655 2124 1313 2313 2311 1323 2333\n",
      " 1332 2132 2113 1311 2331 2112 2122 2123 2323 2312 2133 2111 1322 1312\n",
      " 2131 1333 1324 1331 2332 2324 2322  134  430  310]\n"
     ]
    }
   ],
   "source": [
    "'''Primary Type','IUCR','Arrest',\n",
    "'Domestic','Beat','District','Community Area','FBI Code',\n",
    "'Zip Codes','Wards','Police Districts','Police Beats'''\n",
    "\n",
    "print(data[\"District\"].unique())\n",
    "print(data[\"Ward\"].unique())\n",
    "print(data[\"Community Area\"].unique())\n",
    "print(data[\"FBI Code\"].unique())\n",
    "print(data[\"Beat\"].unique())\n",
    "\n"
   ]
  },
  {
   "cell_type": "code",
   "execution_count": 60,
   "metadata": {},
   "outputs": [
    {
     "data": {
      "text/plain": [
       "Index(['ID', 'Case Number', 'Date', 'Block', 'IUCR', 'Primary Type',\n",
       "       'Description', 'Location Description', 'Arrest', 'Domestic', 'Beat',\n",
       "       'District', 'Ward', 'Community Area', 'FBI Code', 'X Coordinate',\n",
       "       'Y Coordinate', 'Year', 'Updated On', 'Latitude', 'Longitude',\n",
       "       'Location'],\n",
       "      dtype='object')"
      ]
     },
     "execution_count": 60,
     "metadata": {},
     "output_type": "execute_result"
    }
   ],
   "source": [
    "data.keys()"
   ]
  },
  {
   "cell_type": "code",
   "execution_count": 63,
   "metadata": {},
   "outputs": [
    {
     "data": {
      "text/plain": [
       "ID                           0\n",
       "Case Number                  4\n",
       "Date                         0\n",
       "Block                        0\n",
       "IUCR                         0\n",
       "Primary Type                 0\n",
       "Description                  0\n",
       "Location Description      8573\n",
       "Arrest                       0\n",
       "Domestic                     0\n",
       "Beat                         0\n",
       "District                    47\n",
       "Ward                    614837\n",
       "Community Area          613479\n",
       "FBI Code                     0\n",
       "X Coordinate             74251\n",
       "Y Coordinate             74251\n",
       "Year                         0\n",
       "Updated On                   0\n",
       "Latitude                 74251\n",
       "Longitude                74251\n",
       "Location                 74251\n",
       "dtype: int64"
      ]
     },
     "execution_count": 63,
     "metadata": {},
     "output_type": "execute_result"
    }
   ],
   "source": [
    "data.isnull().sum()"
   ]
  },
  {
   "cell_type": "code",
   "execution_count": 64,
   "metadata": {},
   "outputs": [
    {
     "name": "stdout",
     "output_type": "stream",
     "text": [
      "61766\n"
     ]
    }
   ],
   "source": [
    "print(len(data['Block'].unique()))\n"
   ]
  },
  {
   "cell_type": "code",
   "execution_count": 121,
   "metadata": {},
   "outputs": [
    {
     "name": "stdout",
     "output_type": "stream",
     "text": [
      "61766\n",
      "402\n",
      "0820    602415\n",
      "0486    579259\n",
      "0460    540814\n",
      "1320    395791\n",
      "1310    391036\n",
      "         ...  \n",
      "1633         1\n",
      "1624         1\n",
      "1521         1\n",
      "0830         1\n",
      "9901         1\n",
      "Name: IUCR, Length: 402, dtype: int64\n",
      "215\n"
     ]
    }
   ],
   "source": [
    "print(len(data['Block'].unique()))\n",
    "print(len(data['IUCR'].unique()))\n",
    "print(data['IUCR'].value_counts())\n",
    "print(len(data['Location Description'].unique()))"
   ]
  },
  {
   "cell_type": "code",
   "execution_count": 122,
   "metadata": {},
   "outputs": [
    {
     "data": {
      "text/plain": [
       "ID                         int64\n",
       "Case Number               object\n",
       "Date                      object\n",
       "Block                     object\n",
       "IUCR                    category\n",
       "Primary Type              object\n",
       "Description               object\n",
       "Location Description      object\n",
       "Arrest                      bool\n",
       "Domestic                    bool\n",
       "Beat                       int64\n",
       "District                 float64\n",
       "Ward                     float64\n",
       "Community Area           float64\n",
       "FBI Code                  object\n",
       "X Coordinate             float64\n",
       "Y Coordinate             float64\n",
       "Year                       int64\n",
       "Updated On                object\n",
       "Latitude                 float64\n",
       "Longitude                float64\n",
       "Location                  object\n",
       "IUCR_cat                   int16\n",
       "dtype: object"
      ]
     },
     "execution_count": 122,
     "metadata": {},
     "output_type": "execute_result"
    }
   ],
   "source": []
  },
  {
   "cell_type": "code",
   "execution_count": 129,
   "metadata": {},
   "outputs": [
    {
     "data": {
      "text/plain": [
       "0          35600\n",
       "1           7903\n",
       "2          54582\n",
       "3          30564\n",
       "4            427\n",
       "           ...  \n",
       "7409404    52338\n",
       "7409405     5968\n",
       "7409406    14937\n",
       "7409407    27217\n",
       "7409408    60218\n",
       "Name: Block, Length: 7409409, dtype: category\n",
       "Categories (61766, int64): [0, 1, 2, 3, ..., 61762, 61763, 61764, 61765]"
      ]
     },
     "execution_count": 129,
     "metadata": {},
     "output_type": "execute_result"
    }
   ],
   "source": []
  },
  {
   "cell_type": "markdown",
   "metadata": {
    "colab_type": "text",
    "id": "HFSaB7L9HhFS"
   },
   "source": [
    "# Task 3 - Build the model\n",
    "\n",
    "Once the features are converted to the form accepted by scikit library, you have to build a machine learning model. Given the features predict the type of crime. \n",
    "Report the accuracy, F1, Precision and Recall of the model."
   ]
  },
  {
   "cell_type": "code",
   "execution_count": 130,
   "metadata": {},
   "outputs": [
    {
     "name": "stdout",
     "output_type": "stream",
     "text": [
      "61766\n"
     ]
    },
    {
     "data": {
      "text/plain": [
       "0          35600\n",
       "1           7903\n",
       "2          54582\n",
       "3          30564\n",
       "4            427\n",
       "           ...  \n",
       "7409404    52338\n",
       "7409405     5968\n",
       "7409406    14937\n",
       "7409407    27217\n",
       "7409408    60218\n",
       "Name: Block, Length: 7409409, dtype: int32"
      ]
     },
     "execution_count": 130,
     "metadata": {},
     "output_type": "execute_result"
    }
   ],
   "source": [
    "data['Block'] = data['Block'].astype('category')\n",
    "data['Block'] = data['Block'].cat.codes\n",
    "print(len(data['Block'].unique()))\n",
    "data['Block']"
   ]
  },
  {
   "cell_type": "code",
   "execution_count": null,
   "metadata": {},
   "outputs": [],
   "source": []
  },
  {
   "cell_type": "markdown",
   "metadata": {
    "colab_type": "text",
    "id": "ggNL0Ri7HttZ"
   },
   "source": [
    "# Task 4 - Run the model on your laptop and AWS cloud and observe the time taken for reading the data, training and testing, report the same.  \n",
    "\n",
    "Report your observations. Due to more RAM needed for the same, it might be the case that it doesn't run on your laptop, so in that case report your laptop configuration and state it didnt run."
   ]
  },
  {
   "cell_type": "code",
   "execution_count": null,
   "metadata": {
    "colab": {},
    "colab_type": "code",
    "id": "8CAdueTcDjkZ"
   },
   "outputs": [],
   "source": []
  },
  {
   "cell_type": "markdown",
   "metadata": {
    "colab_type": "text",
    "id": "CJ_EFqHcrQ8u"
   },
   "source": [
    "# Task 5 - Run K-fold cross validation and report the accuracy for a cv = 5. \n",
    "Report the total amount of time taken to run it on your laptop and AWS"
   ]
  },
  {
   "cell_type": "code",
   "execution_count": null,
   "metadata": {
    "colab": {},
    "colab_type": "code",
    "id": "bh2Q-xwIu4Ok"
   },
   "outputs": [],
   "source": []
  },
  {
   "cell_type": "code",
   "execution_count": null,
   "metadata": {},
   "outputs": [],
   "source": []
  },
  {
   "cell_type": "code",
   "execution_count": null,
   "metadata": {},
   "outputs": [],
   "source": []
  },
  {
   "cell_type": "code",
   "execution_count": null,
   "metadata": {},
   "outputs": [],
   "source": []
  },
  {
   "cell_type": "code",
   "execution_count": null,
   "metadata": {},
   "outputs": [],
   "source": []
  },
  {
   "cell_type": "code",
   "execution_count": null,
   "metadata": {},
   "outputs": [],
   "source": []
  }
 ],
 "metadata": {
  "colab": {
   "collapsed_sections": [],
   "name": "Project2.ipynb",
   "provenance": []
  },
  "kernelspec": {
   "display_name": "Python 3 (ipykernel)",
   "language": "python",
   "name": "python3"
  },
  "language_info": {
   "codemirror_mode": {
    "name": "ipython",
    "version": 3
   },
   "file_extension": ".py",
   "mimetype": "text/x-python",
   "name": "python",
   "nbconvert_exporter": "python",
   "pygments_lexer": "ipython3",
   "version": "3.7.3"
  }
 },
 "nbformat": 4,
 "nbformat_minor": 1
}
