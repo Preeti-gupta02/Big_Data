{
  "nbformat": 4,
  "nbformat_minor": 0,
  "metadata": {
    "colab": {
      "name": "Project3_LSTM_GPU_withoutCUDA_CPU.ipynb",
      "provenance": [],
      "collapsed_sections": []
    },
    "kernelspec": {
      "display_name": "Python 3",
      "language": "python",
      "name": "python3"
    },
    "language_info": {
      "codemirror_mode": {
        "name": "ipython",
        "version": 3
      },
      "file_extension": ".py",
      "mimetype": "text/x-python",
      "name": "python",
      "nbconvert_exporter": "python",
      "pygments_lexer": "ipython3",
      "version": "3.7.3"
    }
  },
  "cells": [
    {
      "cell_type": "markdown",
      "metadata": {
        "id": "Tbfz3zSXBt3H"
      },
      "source": [
        "# <p style=\"text-align: center;\">MIS 284N - Big Data and Distributed Programming</p>\n",
        "## <p style=\"text-align: center;\">Project 3 - Machine Learning using Tensorflow and Google Colab</p>\n",
        "## <p style=\"text-align: center;\">Total points: 100</p>\n",
        "## <p style=\"text-align: center;\">Due: Sunday, October 17th submitted via Canvas by 11:59 pm</p>\n",
        "\n",
        "This will be a in-class project done in teams of 2. \n",
        "\n",
        "In this Project, we will work with CIFAR10 image dataset. \n",
        "The starter code to download the database using keras is given below. \n",
        "Test the project on Google Colab running on a CPU, GPU and TPU\n",
        " \n",
        "\n",
        "# In every line of code, please write a comment to briefly explain what that line is doing.\n",
        "Your grades will be based on your understanding of the code you write! \n"
      ]
    },
    {
      "cell_type": "markdown",
      "metadata": {
        "id": "RnHTzAuvxxQT"
      },
      "source": [
        "# Task 1\n",
        "Convert the features in a form that can be given as input to tensorflow library/functions\n",
        "\n",
        "In this task you will perform data augmentation. That is, pre-process the data to make the model more robust. Experiment with data augmentation techniques like rotation, translation, horizontal-flip, scaling, ZCA whitening and histogram equalization. \n",
        "You can choose any two or more augmentation technique(s) of your choice. "
      ]
    },
    {
      "cell_type": "markdown",
      "metadata": {
        "id": "M6c8xzloyoUD"
      },
      "source": [
        "# Task 2\n",
        "Try to build a Neural Network model, train on the features and report the accuracy.\n",
        "Report your observations on the time taken on CPU and GPU (with and without CuDNN kernel) \n",
        "\n",
        "\n",
        "\n",
        "1.   Create a CNN based model with 4 hidden layers with 64, 128, 256 and 512 units in each succesive layer. Use a 5x5 convolution kernel and change as necessary. (Use at least 2 augmentations on your input) \n",
        "2.   Create an LSTM based model with 1 LSTM layer with 256 units. \n",
        "\n"
      ]
    },
    {
      "cell_type": "code",
      "metadata": {
        "id": "fn1sdZqMK8l4"
      },
      "source": [
        "from __future__ import absolute_import, division, print_function, unicode_literals\n",
        "\n",
        "import collections\n",
        "import matplotlib.pyplot as plt\n",
        "import numpy as np\n",
        "\n",
        "try:\n",
        "  # %tensorflow_version only exists in Colab.\n",
        "  %tensorflow_version 2.x\n",
        "except Exception:\n",
        "  pass\n",
        "import tensorflow as tf\n",
        "import time\n",
        "from keras.preprocessing.image import ImageDataGenerator\n",
        "from tensorflow.keras import layers"
      ],
      "execution_count": null,
      "outputs": []
    },
    {
      "cell_type": "code",
      "metadata": {
        "id": "q1G_vqbjFDBH"
      },
      "source": [
        "batch_size = 64\n",
        "input_dim = 3\n",
        "units = 256\n",
        "output_size = 10\n",
        "\n",
        "def build_model(allow_cudnn_kernel=True):\n",
        "  if allow_cudnn_kernel:\n",
        "    lstm_layer = tf.keras.layers.LSTM(units, input_shape=(None, input_dim))\n",
        "  else:\n",
        "    lstm_layer =  tf.keras.layers.RNN(\n",
        "        tf.keras.layers.LSTMCell(units),\n",
        "        input_shape=(None, input_dim))\n",
        "  model = tf.keras.models.Sequential([\n",
        "      lstm_layer,\n",
        "      tf.keras.layers.BatchNormalization(),\n",
        "      tf.keras.layers.Dense(output_size, activation='softmax')]\n",
        "  )\n",
        "  return model"
      ],
      "execution_count": null,
      "outputs": []
    },
    {
      "cell_type": "code",
      "metadata": {
        "colab": {
          "base_uri": "https://localhost:8080/"
        },
        "id": "l4MVVNu3LILX",
        "outputId": "8b750053-d9ad-415c-f02d-72e3b83c9115"
      },
      "source": [
        "from keras.datasets import cifar10\n",
        "\n",
        "(x_train, y_train), (x_test, y_test) = cifar10.load_data()"
      ],
      "execution_count": null,
      "outputs": [
        {
          "output_type": "stream",
          "name": "stdout",
          "text": [
            "Downloading data from https://www.cs.toronto.edu/~kriz/cifar-10-python.tar.gz\n",
            "170500096/170498071 [==============================] - 4s 0us/step\n",
            "170508288/170498071 [==============================] - 4s 0us/step\n"
          ]
        }
      ]
    },
    {
      "cell_type": "code",
      "metadata": {
        "colab": {
          "base_uri": "https://localhost:8080/"
        },
        "id": "1MGL3vR9LYS9",
        "outputId": "40521648-9747-45b7-d5a5-784e97c0944b"
      },
      "source": [
        "x_train.shape"
      ],
      "execution_count": null,
      "outputs": [
        {
          "output_type": "execute_result",
          "data": {
            "text/plain": [
              "(50000, 32, 32, 3)"
            ]
          },
          "metadata": {},
          "execution_count": 5
        }
      ]
    },
    {
      "cell_type": "code",
      "metadata": {
        "id": "PNJWF7W6QozR"
      },
      "source": [
        "x_train = x_train.reshape(50000, 1024, 3)\n",
        "x_train = x_train / 255.0\n",
        "\n",
        "x_test = x_test.reshape(10000, 1024, 3)\n",
        "x_test = x_test / 255.0"
      ],
      "execution_count": null,
      "outputs": []
    },
    {
      "cell_type": "code",
      "metadata": {
        "colab": {
          "base_uri": "https://localhost:8080/"
        },
        "id": "GeCIUpH-RWi9",
        "outputId": "4a16b8ec-a740-487b-91d2-00cc9382c6ce"
      },
      "source": [
        "x_train.shape"
      ],
      "execution_count": null,
      "outputs": [
        {
          "output_type": "execute_result",
          "data": {
            "text/plain": [
              "(50000, 1024, 3)"
            ]
          },
          "metadata": {},
          "execution_count": 7
        }
      ]
    },
    {
      "cell_type": "code",
      "metadata": {
        "colab": {
          "base_uri": "https://localhost:8080/"
        },
        "id": "EZ13RnN8SVnN",
        "outputId": "df0d3ac3-feb0-454a-bb38-30d086b9b1e4"
      },
      "source": [
        "x_train.shape"
      ],
      "execution_count": null,
      "outputs": [
        {
          "output_type": "execute_result",
          "data": {
            "text/plain": [
              "(50000, 1024, 3)"
            ]
          },
          "metadata": {},
          "execution_count": 50
        }
      ]
    },
    {
      "cell_type": "code",
      "metadata": {
        "colab": {
          "base_uri": "https://localhost:8080/"
        },
        "id": "L4gzp_51WQwT",
        "outputId": "38c59694-31fd-4857-a458-aaf0843d46c0"
      },
      "source": [
        "\n",
        "# Check if GPU is being used\n",
        "device_name = tf.test.gpu_device_name()\n",
        "if device_name != '/device:GPU:0':\n",
        "  raise SystemError('GPU device not found')\n",
        "print('Found GPU at: {}'.format(device_name))"
      ],
      "execution_count": null,
      "outputs": [
        {
          "output_type": "stream",
          "name": "stdout",
          "text": [
            "Found GPU at: /device:GPU:0\n"
          ]
        }
      ]
    },
    {
      "cell_type": "markdown",
      "metadata": {
        "id": "MoHFkGO9XEw5"
      },
      "source": [
        "# With CudNN with GPU"
      ]
    },
    {
      "cell_type": "code",
      "metadata": {
        "colab": {
          "base_uri": "https://localhost:8080/"
        },
        "id": "ip1kW_8mWci1",
        "outputId": "f0bb6da4-02c3-4c30-d28c-f59956b9b4d5"
      },
      "source": [
        "start = time.time()\n",
        "with tf.device('/device:GPU:0'):\n",
        "  #Build and complie the model.\n",
        "  model_gpu = build_model(allow_cudnn_kernel=True)\n",
        "\n",
        "  model_gpu.compile(loss='sparse_categorical_crossentropy', \n",
        "              optimizer='sgd',\n",
        "              metrics=['accuracy'])\n",
        "  \n",
        "  model_gpu.fit(x_train, y_train,\n",
        "          validation_data=(x_test, y_test),\n",
        "          batch_size=batch_size, steps_per_epoch = 100,\n",
        "          epochs=10)\n",
        "stop = time.time()\n",
        "print(f\"Training time: {stop - start}s\")"
      ],
      "execution_count": null,
      "outputs": [
        {
          "output_type": "stream",
          "name": "stdout",
          "text": [
            "Epoch 1/10\n",
            "100/100 [==============================] - 43s 360ms/step - loss: 2.2397 - accuracy: 0.1739 - val_loss: 2.2895 - val_accuracy: 0.1571\n",
            "Epoch 2/10\n",
            "100/100 [==============================] - 35s 352ms/step - loss: 2.1798 - accuracy: 0.2008 - val_loss: 2.2766 - val_accuracy: 0.1797\n",
            "Epoch 3/10\n",
            "100/100 [==============================] - 35s 353ms/step - loss: 2.1798 - accuracy: 0.1978 - val_loss: 2.2628 - val_accuracy: 0.1600\n",
            "Epoch 4/10\n",
            "100/100 [==============================] - 35s 353ms/step - loss: 2.1766 - accuracy: 0.2017 - val_loss: 2.2365 - val_accuracy: 0.1868\n",
            "Epoch 5/10\n",
            "100/100 [==============================] - 35s 354ms/step - loss: 2.1680 - accuracy: 0.1986 - val_loss: 2.2045 - val_accuracy: 0.1948\n",
            "Epoch 6/10\n",
            "100/100 [==============================] - 35s 352ms/step - loss: 2.1678 - accuracy: 0.2113 - val_loss: 2.2103 - val_accuracy: 0.1860\n",
            "Epoch 7/10\n",
            "100/100 [==============================] - ETA: 0s - loss: 2.1773 - accuracy: 0.2005Epoch 8/10\n",
            "100/100 [==============================] - 35s 351ms/step - loss: 2.1646 - accuracy: 0.2017 - val_loss: 2.1631 - val_accuracy: 0.2011\n",
            "Epoch 9/10\n",
            "100/100 [==============================] - 35s 353ms/step - loss: 2.1663 - accuracy: 0.1964 - val_loss: 2.2390 - val_accuracy: 0.1700\n",
            "Epoch 10/10\n",
            "100/100 [==============================] - 35s 353ms/step - loss: 2.1699 - accuracy: 0.2073 - val_loss: 2.2281 - val_accuracy: 0.1660\n",
            "Training time: 385.4026517868042s\n"
          ]
        }
      ]
    },
    {
      "cell_type": "code",
      "metadata": {
        "id": "3Wgyi1TktOmu"
      },
      "source": [
        "print(\"GPU with CuDNN LSTM test accuracy\")\n",
        "scores = model_gpu.evaluate(x_test, y_test, verbose=1)\n",
        "print('Test loss:', scores[0])\n",
        "print('Test accuracy:', scores[1])"
      ],
      "execution_count": null,
      "outputs": []
    },
    {
      "cell_type": "markdown",
      "metadata": {
        "id": "l_Xx7RoBXTwk"
      },
      "source": [
        "# Without CudNN with GPU"
      ]
    },
    {
      "cell_type": "code",
      "metadata": {
        "colab": {
          "base_uri": "https://localhost:8080/"
        },
        "id": "EOfQb2m1XhAK",
        "outputId": "6b8fd311-4644-44b2-b883-95f47f30768c"
      },
      "source": [
        "start = time.time()\n",
        "with tf.device('/device:GPU:0'):\n",
        "  slow_model = build_model(allow_cudnn_kernel=False)\n",
        "  slow_model.set_weights(slow_model.get_weights())\n",
        "  slow_model.compile(loss='sparse_categorical_crossentropy', \n",
        "                    optimizer='sgd', \n",
        "                    metrics=['accuracy'])\n",
        "  slow_model.fit(x_train, y_train, \n",
        "                validation_data=(x_test, y_test),\n",
        "                verbose=1, steps_per_epoch = 100,\n",
        "                batch_size=batch_size,\n",
        "                epochs=5)\n",
        "stop = time.time()\n",
        "print(f\"Training time: {stop - start}s\")"
      ],
      "execution_count": null,
      "outputs": [
        {
          "output_type": "stream",
          "name": "stdout",
          "text": [
            "Epoch 1/5\n",
            "100/100 [==============================] - 251s 2s/step - loss: 2.2275 - accuracy: 0.1703 - val_loss: 2.2886 - val_accuracy: 0.1803\n",
            "Epoch 2/5\n",
            "100/100 [==============================] - 246s 2s/step - loss: 2.1737 - accuracy: 0.2044 - val_loss: 2.2757 - val_accuracy: 0.1765\n",
            "Epoch 3/5\n",
            "100/100 [==============================] - 247s 2s/step - loss: 2.1774 - accuracy: 0.1997 - val_loss: 2.2618 - val_accuracy: 0.1751\n",
            "Epoch 4/5\n",
            "100/100 [==============================] - 246s 2s/step - loss: 2.1736 - accuracy: 0.2061 - val_loss: 2.2445 - val_accuracy: 0.1802\n",
            "Epoch 5/5\n",
            "100/100 [==============================] - 242s 2s/step - loss: 2.1719 - accuracy: 0.2075 - val_loss: 2.2142 - val_accuracy: 0.1819\n",
            "Training time: 1232.570172071457s\n"
          ]
        }
      ]
    },
    {
      "cell_type": "code",
      "metadata": {
        "id": "SQGW5_uVtXvI"
      },
      "source": [
        "print(\"GPU without CuDNN LSTM test accuracy\")\n",
        "scores = slow_model.evaluate(x_test, y_test, verbose=1)\n",
        "print('Test loss:', scores[0])\n",
        "print('Test accuracy:', scores[1])"
      ],
      "execution_count": null,
      "outputs": []
    },
    {
      "cell_type": "markdown",
      "metadata": {
        "id": "FpTNVVWBYFbs"
      },
      "source": [
        "# without CudNN and with CPU"
      ]
    },
    {
      "cell_type": "code",
      "metadata": {
        "colab": {
          "base_uri": "https://localhost:8080/"
        },
        "id": "v_zf7QzSMnRG",
        "outputId": "9f907caf-ad6b-4fb6-b6a4-19881c43310a"
      },
      "source": [
        "start = time.time()\n",
        "slow_model = build_model(allow_cudnn_kernel=False)\n",
        "slow_model.set_weights(slow_model.get_weights())\n",
        "slow_model.compile(loss='sparse_categorical_crossentropy', \n",
        "                   optimizer='sgd', \n",
        "                   metrics=['accuracy'])\n",
        "slow_model.fit(x_train, y_train, \n",
        "               validation_data=(x_test, y_test),\n",
        "               verbose=1,steps_per_epoch = 100,\n",
        "               batch_size=batch_size,\n",
        "               epochs=5) \n",
        "stop = time.time()\n",
        "print(f\"Training time: {stop - start}s\")"
      ],
      "execution_count": null,
      "outputs": [
        {
          "output_type": "stream",
          "name": "stdout",
          "text": [
            "Epoch 1/5\n",
            "100/100 [==============================] - 533s 5s/step - loss: 2.2272 - accuracy: 0.1747 - val_loss: 2.2876 - val_accuracy: 0.1628\n",
            "Epoch 2/5\n",
            "100/100 [==============================] - 530s 5s/step - loss: 2.1866 - accuracy: 0.1977 - val_loss: 2.2766 - val_accuracy: 0.1711\n",
            "Epoch 3/5\n",
            "100/100 [==============================] - 529s 5s/step - loss: 2.1728 - accuracy: 0.2042 - val_loss: 2.2611 - val_accuracy: 0.2001\n",
            "Epoch 4/5\n",
            " 65/100 [==================>...........] - ETA: 2:04 - loss: 2.1583 - accuracy: 0.2060"
          ]
        }
      ]
    },
    {
      "cell_type": "code",
      "metadata": {
        "id": "DkSOXL9qtfzi"
      },
      "source": [
        "print(\"CPU without CuDNN LSTM test accuracy\")\n",
        "scores = slow_model.evaluate(x_test, y_test, verbose=1)\n",
        "print('Test loss:', scores[0])\n",
        "print('Test accuracy:', scores[1])"
      ],
      "execution_count": null,
      "outputs": []
    }
  ]
}