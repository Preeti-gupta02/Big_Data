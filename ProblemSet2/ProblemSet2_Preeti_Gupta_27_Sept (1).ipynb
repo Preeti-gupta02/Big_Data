{
 "cells": [
  {
   "cell_type": "markdown",
   "metadata": {},
   "source": [
    "\n",
    "## <p style=\"text-align: center;\">MIS 285N - Big Data and Distributed Programming</p>\n",
    "## <p style=\"text-align: center;\">Problem Set 2: Machine Learning Experiments</p>\n",
    "## <p style=\"text-align: center;\">Total points: 50</p>\n",
    "## <p style=\"text-align: center;\">Due: Tuesday, 21th September submitted via Canvas by 11:59 pm</p>\n",
    "\n",
    "Your homework should be written in a **Jupyter notebook**.\n",
    "\n",
    "Also, please make sure your code runs and the graphics (and anything else) are displayed in your notebook before submitting."
   ]
  },
  {
   "cell_type": "markdown",
   "metadata": {},
   "source": [
    "## Task 1: Logistic Regression on PCA components\n",
    "\n",
    "In the following code, you have to add a few lines to apply logistic regression to the PCA components. More specifically:\n",
    "\n",
    " 0. Load the Iris Dataset\n",
    " 1. Implement Standard Scalar based feature extraction\n",
    " 2. Implement PCA and use all components and compute the explained variance of each PCA component\n",
    " 3. Implement PCA and use two components that explain maximum variance. Implement logistic regression model to train and test and give a visual display of the performance by showing a plot of the decision regions along with the test data. Print the test accuracy."
   ]
  },
  {
   "cell_type": "code",
   "execution_count": 1,
   "metadata": {},
   "outputs": [],
   "source": [
    "from sklearn.decomposition import PCA\n",
    "from sklearn.model_selection import train_test_split\n",
    "import pandas as pd\n",
    "from sklearn.preprocessing import StandardScaler\n",
    "import numpy as np\n",
    "\n",
    "## Load Iris Dataset and use all four features\n",
    "### Playing around with missing values\n",
    "\n",
    "\n",
    "import numpy as np\n",
    "import pandas as pd"
   ]
  },
  {
   "cell_type": "code",
   "execution_count": 2,
   "metadata": {},
   "outputs": [],
   "source": [
    "from matplotlib.colors import ListedColormap\n",
    "import matplotlib.pyplot as plt\n",
    "import warnings\n",
    "\n",
    "\n",
    "def versiontuple(v):\n",
    "    return tuple(map(int, (v.split(\".\"))))\n",
    "\n",
    "\n",
    "def plot_decision_regions(X, y, classifier, test_idx=None, resolution=0.02):\n",
    "\n",
    "    # setup marker generator and color map\n",
    "    markers = ('s', 'x', 'o', '^', 'v')\n",
    "    colors = ('red', 'blue', 'lightgreen', 'gray', 'cyan')\n",
    "    cmap = ListedColormap(colors[:len(np.unique(y))])\n",
    "\n",
    "    # plot the decision surface\n",
    "    x1_min, x1_max = X[:, 0].min() - 1, X[:, 0].max() + 1\n",
    "    x2_min, x2_max = X[:, 1].min() - 1, X[:, 1].max() + 1\n",
    "    xx1, xx2 = np.meshgrid(np.arange(x1_min, x1_max, resolution),\n",
    "                           np.arange(x2_min, x2_max, resolution))\n",
    "    Z = classifier.predict(np.array([xx1.ravel(), xx2.ravel()]).T)\n",
    "    Z = Z.reshape(xx1.shape)\n",
    "    plt.contourf(xx1, xx2, Z, alpha=0.4, cmap=cmap)\n",
    "    plt.xlim(xx1.min(), xx1.max())\n",
    "    plt.ylim(xx2.min(), xx2.max())\n",
    "\n",
    "    for idx, cl in enumerate(np.unique(y)):\n",
    "        plt.scatter(x=X[y == cl, 0], \n",
    "                    y=X[y == cl, 1],\n",
    "                    alpha=0.6, \n",
    "                    color=cmap(idx),\n",
    "                    edgecolor='black',\n",
    "                    marker=markers[idx], \n",
    "                    label=cl)\n",
    "\n",
    "    # highlight test samples\n",
    "    if test_idx:\n",
    "        # plot all samples\n",
    "        if not versiontuple(np.__version__) >= versiontuple('1.9.0'):\n",
    "            X_test, y_test = X[list(test_idx), :], y[list(test_idx)]\n",
    "            warnings.warn('Please update to NumPy 1.9.0 or newer')\n",
    "        else:\n",
    "            X_test, y_test = X[test_idx, :], y[test_idx]\n",
    "\n",
    "        plt.scatter(X_test[:, 0],\n",
    "                    X_test[:, 1],\n",
    "                    color='green',\n",
    "                    alpha=1.0,\n",
    "                    edgecolor='black',\n",
    "                    linewidths=1,\n",
    "                    marker='o',\n",
    "                    s=55, label='test set')"
   ]
  },
  {
   "cell_type": "code",
   "execution_count": null,
   "metadata": {},
   "outputs": [],
   "source": []
  },
  {
   "cell_type": "code",
   "execution_count": 3,
   "metadata": {},
   "outputs": [
    {
     "name": "stdout",
     "output_type": "stream",
     "text": [
      "test accuracy unstandadize data: 0.8222222222222222\n"
     ]
    },
    {
     "name": "stderr",
     "output_type": "stream",
     "text": [
      "/Library/Frameworks/Python.framework/Versions/3.7/lib/python3.7/site-packages/ipykernel_launcher.py:35: UserWarning: You passed a edgecolor/edgecolors ('black') for an unfilled marker ('x').  Matplotlib is ignoring the edgecolor in favor of the facecolor.  This behavior may change in the future.\n"
     ]
    },
    {
     "data": {
      "text/plain": [
       "<matplotlib.legend.Legend at 0x7f89b2ae2cf8>"
      ]
     },
     "execution_count": 3,
     "metadata": {},
     "output_type": "execute_result"
    },
    {
     "data": {
      "image/png": "[encoded data removed]",
      "text/plain": [
       "<Figure size 432x288 with 1 Axes>"
      ]
     },
     "metadata": {
      "needs_background": "light"
     },
     "output_type": "display_data"
    }
   ],
   "source": [
    "\n",
    "iris = pd.read_csv('Iris.csv')\n",
    "# The first 50 entries are setosa and the next 50 are versicolor\n",
    "# extract sepal length and petal length\n",
    "X_iris = iris.iloc[:, 1:5].values\n",
    "y_iris = iris.iloc[:, 5].values\n",
    "\n",
    "#y_iris_categorical = {i:j for i, j in enumerate(y_iris)}\n",
    "y_iris[y_iris == 'Iris-setosa'] = 0\n",
    "y_iris[y_iris == 'Iris-versicolor'] = 1\n",
    "y_iris[y_iris == 'Iris-virginica'] = 2\n",
    "\n",
    "from sklearn import preprocessing\n",
    "X_train, X_test, y_train, y_test = train_test_split(\n",
    "    X_iris, y_iris, test_size=0.3, random_state=0)\n",
    "\n",
    "y_train=y_train.astype('int')\n",
    "y_test=y_test.astype('int')\n",
    "\n",
    "\n",
    "## Case 1: Use Un standardised data to train logistic regression to scale the features\n",
    "from sklearn.linear_model import LogisticRegression\n",
    "clf_un_std = LogisticRegression(random_state=0).fit(X_train[:, :2], y_train)\n",
    "predictions = clf_un_std.predict(X_test[:, :2])\n",
    "test_score_un_std = clf_un_std.score(X_test[:, :2], y_test)\n",
    "print(\"test accuracy unstandadize data: {}\".format(test_score_un_std))\n",
    "\n",
    "X_combined = np.vstack((X_train[:, :2], X_test[:, :2]))\n",
    "y_combined = np.hstack((y_train, y_test))\n",
    "plot_decision_regions(X=X_combined, y=y_combined, classifier=clf_un_std, test_idx=range(105, 150))\n",
    "plt.title('Unstandardized data Logistic regression')\n",
    "plt.xlabel('feature 1')\n",
    "plt.ylabel('feature 2 ')\n",
    "plt.legend(loc='upper left')\n",
    "\n"
   ]
  },
  {
   "cell_type": "code",
   "execution_count": 4,
   "metadata": {},
   "outputs": [
    {
     "name": "stdout",
     "output_type": "stream",
     "text": [
      "test accuracy standadized data: 0.8222222222222222\n"
     ]
    }
   ],
   "source": [
    "## Standardize : \n",
    "#Since here i am using first two feature I am standardising on them only\n",
    "\n",
    "scaler = preprocessing.StandardScaler().fit(X_train[:, :2])\n",
    "X_train_std_2 = scaler.transform(X_train[:, :2])\n",
    "X_test_std_2 = scaler.transform(X_test[:, :2])\n",
    "\n",
    "# perform logistic regression on this data \n",
    "from sklearn.linear_model import LogisticRegression\n",
    "clf_std = LogisticRegression(random_state=6).fit(X_train_std_2, y_train)\n",
    "predictions = clf_std.predict(X_test_std_2)\n",
    "test_score_std = clf_std.score(X_test_std_2, y_test)\n",
    "print(\"test accuracy standadized data: {}\".format(test_score_std))\n"
   ]
  },
  {
   "cell_type": "code",
   "execution_count": 5,
   "metadata": {},
   "outputs": [
    {
     "name": "stderr",
     "output_type": "stream",
     "text": [
      "/Library/Frameworks/Python.framework/Versions/3.7/lib/python3.7/site-packages/ipykernel_launcher.py:35: UserWarning: You passed a edgecolor/edgecolors ('black') for an unfilled marker ('x').  Matplotlib is ignoring the edgecolor in favor of the facecolor.  This behavior may change in the future.\n"
     ]
    },
    {
     "data": {
      "text/plain": [
       "<matplotlib.legend.Legend at 0x7f89b30e7588>"
      ]
     },
     "execution_count": 5,
     "metadata": {},
     "output_type": "execute_result"
    },
    {
     "data": {
      "image/png": "[encoded data removed]",
      "text/plain": [
       "<Figure size 432x288 with 1 Axes>"
      ]
     },
     "metadata": {
      "needs_background": "light"
     },
     "output_type": "display_data"
    }
   ],
   "source": [
    "X_combined = np.vstack((X_train_std_2, X_test_std_2))\n",
    "y_combined = np.hstack((y_train, y_test))\n",
    "plot_decision_regions(X=X_combined, y=y_combined, classifier=clf_std, test_idx=range(105, 150))\n",
    "plt.title('standardized data Logistic regression')\n",
    "plt.xlabel('feature 1')\n",
    "plt.ylabel('feature 2 ')\n",
    "plt.legend(loc='upper left')\n",
    "\n"
   ]
  },
  {
   "cell_type": "code",
   "execution_count": 6,
   "metadata": {},
   "outputs": [],
   "source": [
    "y_train=y_train.astype('int')\n",
    "y_test=y_test.astype('int')\n"
   ]
  },
  {
   "cell_type": "code",
   "execution_count": null,
   "metadata": {},
   "outputs": [],
   "source": []
  },
  {
   "cell_type": "code",
   "execution_count": 7,
   "metadata": {},
   "outputs": [
    {
     "name": "stdout",
     "output_type": "stream",
     "text": [
      "\n",
      "Eigenvalues \n",
      "[0.01681717 0.13476983 0.98710977 2.89976476]\n",
      "\n",
      "Eigenvalues sorted  \n",
      "[2.899764762828678, 0.9871097709928653, 0.13476983332506137, 0.016817171314929602]\n"
     ]
    }
   ],
   "source": [
    "## Implement PCA and use all components \n",
    "## giving the explained variance of each Principal Component\n",
    "\n",
    "import numpy as np\n",
    "\n",
    "scaler = preprocessing.StandardScaler().fit(X_train)\n",
    "X_train_std = scaler.transform(X_train)\n",
    "X_test_std = scaler.transform(X_test)\n",
    "cov_mat = np.cov(X_train_std.T)\n",
    "eigen_vals, eigen_vecs = np.linalg.eigh(cov_mat)\n",
    "print('\\nEigenvalues \\n%s' % eigen_vals)\n",
    "print('\\nEigenvalues sorted  \\n%s' % sorted(eigen_vals, reverse=True))"
   ]
  },
  {
   "cell_type": "code",
   "execution_count": 8,
   "metadata": {},
   "outputs": [
    {
     "data": {
      "text/plain": [
       "[0.7180369888909115,\n",
       " 0.24442718138870978,\n",
       " 0.03337157777572952,\n",
       " 0.00416425194464924]"
      ]
     },
     "execution_count": 8,
     "metadata": {},
     "output_type": "execute_result"
    }
   ],
   "source": [
    "tot = sum(eigen_vals)\n",
    "var_exp = [(i / tot) for i in sorted(eigen_vals, reverse=True)]\n",
    "\n",
    "##explained variance of each Principal Component in sorted order\n",
    "var_exp"
   ]
  },
  {
   "cell_type": "code",
   "execution_count": 9,
   "metadata": {},
   "outputs": [
    {
     "data": {
      "text/plain": [
       "[(2.899764762828678,\n",
       "  array([-0.5355004 ,  0.20419539, -0.58617426, -0.57266334])),\n",
       " (0.9871097709928653,\n",
       "  array([ 3.25611548e-01,  9.44913832e-01, -9.09058855e-04,  3.33787741e-02])),\n",
       " (0.13476983332506137,\n",
       "  array([ 0.73204127, -0.23026338, -0.13706186, -0.62634528])),\n",
       " (0.016817171314929602,\n",
       "  array([ 0.26708056, -0.11144895, -0.7985067 ,  0.52785808]))]"
      ]
     },
     "execution_count": 9,
     "metadata": {},
     "output_type": "execute_result"
    }
   ],
   "source": [
    "# Make a list of (eigenvalue, eigenvector) tuples\n",
    "eigen_pairs = [(np.abs(eigen_vals[i]), eigen_vecs[:, i])\n",
    "               for i in range(len(eigen_vals))]\n",
    "\n",
    "# Sort the (eigenvalue, eigenvector) tuples from high to low\n",
    "eigen_pairs.sort(key=lambda k: k[0], reverse=True)\n",
    "\n",
    "eigen_pairs"
   ]
  },
  {
   "cell_type": "code",
   "execution_count": 10,
   "metadata": {},
   "outputs": [
    {
     "name": "stdout",
     "output_type": "stream",
     "text": [
      "Matrix W:\n",
      " [[-5.35500399e-01  3.25611548e-01  7.32041268e-01  2.67080558e-01]\n",
      " [ 2.04195389e-01  9.44913832e-01 -2.30263378e-01 -1.11448955e-01]\n",
      " [-5.86174262e-01 -9.09058855e-04 -1.37061857e-01 -7.98506703e-01]\n",
      " [-5.72663340e-01  3.33787741e-02 -6.26345277e-01  5.27858078e-01]]\n"
     ]
    }
   ],
   "source": [
    "W = []\n",
    "for i in range(0, len(eigen_pairs)):\n",
    "    #W = np.concatenate((W, eigen_pairs[i][1][:, np.newaxis], 1))\n",
    "    W.append(eigen_pairs[i][1])\n",
    "    \n",
    "all_principal_componenets = np.array(W).T\n",
    "#print('Matrix W:\\n', W)\n",
    "print('Matrix W:\\n', all_principal_componenets)"
   ]
  },
  {
   "cell_type": "code",
   "execution_count": 11,
   "metadata": {},
   "outputs": [
    {
     "data": {
      "text/plain": [
       "[array([-0.5355004 ,  0.20419539, -0.58617426, -0.57266334]),\n",
       " array([ 3.25611548e-01,  9.44913832e-01, -9.09058855e-04,  3.33787741e-02])]"
      ]
     },
     "execution_count": 11,
     "metadata": {},
     "output_type": "execute_result"
    }
   ],
   "source": [
    "W[0:2]"
   ]
  },
  {
   "cell_type": "code",
   "execution_count": 12,
   "metadata": {},
   "outputs": [
    {
     "data": {
      "image/png": "[encoded data removed]",
      "text/plain": [
       "<Figure size 432x288 with 1 Axes>"
      ]
     },
     "metadata": {
      "needs_background": "light"
     },
     "output_type": "display_data"
    }
   ],
   "source": [
    "import matplotlib.pyplot as plt\n",
    "X_train_pca = X_train_std.dot(all_principal_componenets)\n",
    "colors = ['r', 'b', 'g']\n",
    "markers = ['s', 'x', 'o']\n",
    "## Plotting the first two componenets\n",
    "for l, c, m in zip(np.unique(y_train), colors, markers):\n",
    "    plt.scatter(X_train_pca[y_train == l, 0], \n",
    "                X_train_pca[y_train == l, 1], \n",
    "                c=c, label=l, marker=m)\n",
    "\n",
    "plt.xlabel('PC 1')\n",
    "plt.ylabel('PC 2')\n",
    "plt.legend(loc='lower left')\n",
    "plt.tight_layout()\n",
    "plt.show()"
   ]
  },
  {
   "cell_type": "code",
   "execution_count": 13,
   "metadata": {},
   "outputs": [
    {
     "data": {
      "image/png": "[encoded data removed]",
      "text/plain": [
       "<Figure size 432x288 with 1 Axes>"
      ]
     },
     "metadata": {
      "needs_background": "light"
     },
     "output_type": "display_data"
    }
   ],
   "source": [
    "## Plotting the next two componenets These components do not capture much of the information as can be seen in the plots\n",
    "\n",
    "for l, c, m in zip(np.unique(y_train), colors, markers):\n",
    "    plt.scatter(X_train_pca[y_train == l, 2], \n",
    "                X_train_pca[y_train == l, 3], \n",
    "                c=c, label=l, marker=m)\n",
    "\n",
    "plt.xlabel('PC 3')\n",
    "plt.ylabel('PC 4')\n",
    "plt.legend(loc='lower left')\n",
    "plt.tight_layout()\n",
    "plt.show()"
   ]
  },
  {
   "cell_type": "code",
   "execution_count": 14,
   "metadata": {},
   "outputs": [
    {
     "data": {
      "text/plain": [
       "array([[ 3.36649813e-01, -2.59032124e+00,  5.93813676e-03,\n",
       "        -1.60852822e-02],\n",
       "       [-1.36078228e+00,  1.53828650e-01, -5.69508839e-02,\n",
       "        -1.56966954e-01],\n",
       "       [-1.92477606e+00,  9.03740358e-01, -6.25477916e-01,\n",
       "         2.14325095e-01],\n",
       "       [-1.04175988e+00, -1.76627422e+00,  2.22769346e-01,\n",
       "        -8.83306409e-02],\n",
       "       [-1.81385443e+00, -8.47276350e-01,  3.50026300e-01,\n",
       "        -1.02281641e-01],\n",
       "       [-3.28396878e-03, -1.28678596e+00,  1.36073046e-01,\n",
       "        -6.92887177e-02],\n",
       "       [-2.66114315e+00,  6.22723850e-01,  5.01175182e-01,\n",
       "         2.82892482e-01],\n",
       "       [-6.90218611e-01,  7.16372211e-01, -1.59851077e-01,\n",
       "        -7.43507833e-02],\n",
       "       [ 4.42308167e-02, -1.53916218e+00,  1.12241515e-01,\n",
       "        -3.00599585e-02],\n",
       "       [-1.18168497e+00, -5.65836576e-01, -2.16663977e-02,\n",
       "         1.24707761e-01],\n",
       "       [-9.79568332e-01, -3.63698556e-01,  1.52264813e-01,\n",
       "        -1.93210384e-01],\n",
       "       [-2.11391709e-01, -1.52251867e+00, -9.80136113e-01,\n",
       "        -1.43041286e-01],\n",
       "       [-1.38093186e+00, -9.91825709e-01, -4.99488673e-03,\n",
       "         1.98865014e-01],\n",
       "       [-1.01897136e+00,  7.53853967e-01,  6.40834964e-01,\n",
       "         2.95040849e-02],\n",
       "       [-1.41013833e+00,  1.62564505e-01, -1.95132777e-01,\n",
       "         1.12165954e-01],\n",
       "       [-3.94367578e-01,  8.19653981e-01, -4.48660666e-01,\n",
       "        -1.02613873e-01],\n",
       "       [ 2.17994214e+00, -3.32050828e-01,  5.08505920e-02,\n",
       "        -5.46180890e-02],\n",
       "       [-1.01378490e+00, -7.48203678e-01, -5.36888424e-01,\n",
       "        -4.93630840e-02],\n",
       "       [-1.55498471e-01, -8.48123288e-01, -1.52740585e-01,\n",
       "        -1.17667613e-01],\n",
       "       [ 1.33305162e-01, -4.17589067e-01, -2.11792162e-01,\n",
       "         9.83561182e-02],\n",
       "       [-1.21831475e-01, -1.31556415e+00, -1.16519607e-01,\n",
       "        -8.60554130e-03],\n",
       "       [-5.27042270e-01, -1.21301036e-02, -1.64805770e-03,\n",
       "        -1.50731566e-01],\n",
       "       [-1.86054024e+00,  8.44987104e-01,  3.87237338e-01,\n",
       "        -2.15785589e-01],\n",
       "       [ 2.18468555e+00,  1.14524922e+00,  1.63377499e-01,\n",
       "        -9.36613534e-03],\n",
       "       [ 2.67709704e+00, -7.37762877e-01, -1.97451912e-01,\n",
       "        -2.78368777e-02],\n",
       "       [-1.44723736e+00, -5.24435467e-01, -4.88475442e-02,\n",
       "         4.53416479e-02],\n",
       "       [-3.76637106e-03, -1.69757937e-01, -1.45580564e-01,\n",
       "        -2.31053626e-01],\n",
       "       [ 1.91858708e+00,  5.37113779e-01,  3.89260665e-01,\n",
       "         8.43188327e-03],\n",
       "       [ 2.11736775e+00,  2.80888633e+00, -2.91090761e-02,\n",
       "         7.11969766e-02],\n",
       "       [-1.14300788e+00,  5.05617901e-01,  5.13569926e-01,\n",
       "         3.22347250e-03],\n",
       "       [ 2.33530580e+00, -4.06623360e-01, -1.09285808e-01,\n",
       "        -7.13659014e-02],\n",
       "       [-8.62052803e-01, -6.98383279e-02, -5.29728404e-01,\n",
       "        -1.62749097e-01],\n",
       "       [ 5.97275466e-01, -1.47288828e+00, -2.14662034e-01,\n",
       "         1.77840166e-01],\n",
       "       [ 2.43376741e+00,  2.43065038e-01, -3.39455081e-01,\n",
       "        -3.51461488e-02],\n",
       "       [-1.00129249e+00, -1.69139799e+00,  4.28695826e-01,\n",
       "         1.95184939e-01],\n",
       "       [-2.22268407e+00,  1.73544154e+00, -3.93846923e-01,\n",
       "         1.13386630e-01],\n",
       "       [-1.23888454e-01, -3.80581195e-01, -1.73698202e-01,\n",
       "        -1.37807096e-01],\n",
       "       [ 2.27236865e+00, -5.51356856e-01,  1.99073247e-01,\n",
       "        -8.19799392e-03],\n",
       "       [-2.08041911e+00,  3.90371634e-01,  1.74211236e-01,\n",
       "         5.24387252e-02],\n",
       "       [-1.94671593e+00,  7.54664243e-01, -2.44212075e-01,\n",
       "         1.65157196e-01],\n",
       "       [-1.75324094e+00,  1.70844808e-01, -4.01999790e-01,\n",
       "        -1.88527891e-02],\n",
       "       [-1.64593816e+00, -3.00888054e-01, -2.85240346e-01,\n",
       "         2.23347706e-02],\n",
       "       [ 2.32125849e+00,  1.28569071e+00, -6.44430897e-02,\n",
       "        -1.40408555e-01],\n",
       "       [ 2.31940103e+00,  3.13294950e-01, -1.06411894e-01,\n",
       "        -1.30734143e-01],\n",
       "       [-1.28452723e+00,  5.92845641e-01, -2.92342755e-01,\n",
       "         1.05883212e-01],\n",
       "       [-1.63023291e+00,  8.86572349e-01, -3.03324050e-01,\n",
       "        -5.71729540e-02],\n",
       "       [ 2.01641923e+00, -2.16046377e+00,  1.60921676e-01,\n",
       "         2.57802791e-01],\n",
       "       [-1.32628980e+00,  9.23865593e-01, -9.13346972e-01,\n",
       "         3.35651687e-02],\n",
       "       [ 2.13737029e+00, -5.09753280e-01,  2.02418821e-01,\n",
       "         9.02810719e-02],\n",
       "       [-1.08639220e+00, -1.21140315e+00, -5.88837593e-01,\n",
       "         8.31122056e-02],\n",
       "       [-1.74801513e+00,  5.31116830e-01, -7.81927287e-03,\n",
       "         1.88164073e-01],\n",
       "       [ 2.56979426e+00, -2.66030015e-01, -3.14211357e-01,\n",
       "        -6.90244373e-02],\n",
       "       [ 2.35492549e+00,  8.18249851e-01, -2.82221122e-02,\n",
       "        -3.13464832e-02],\n",
       "       [-1.74096425e+00,  4.06273815e-01,  6.68419289e-01,\n",
       "        -2.11867988e-01],\n",
       "       [ 2.17344083e+00,  6.44738168e-01,  2.75442899e-02,\n",
       "         9.25046007e-02],\n",
       "       [ 2.47682166e+00, -6.96260534e-01, -2.09369699e-01,\n",
       "        -1.82804011e-02],\n",
       "       [ 2.00374698e+00,  1.62127408e+00, -3.39204119e-02,\n",
       "         1.73208173e-02],\n",
       "       [-2.14804067e-01, -1.74579467e+00, -1.16779495e-02,\n",
       "         4.21384949e-02],\n",
       "       [-1.95063037e+00,  7.17251435e-01, -3.43359474e-01,\n",
       "         4.56300530e-02],\n",
       "       [-2.61570153e+00,  5.76575187e-01,  5.40209676e-01,\n",
       "        -1.05767569e-01],\n",
       "       [ 2.24707662e+00,  6.40446166e-01,  1.08082757e-01,\n",
       "         2.46300884e-02],\n",
       "       [ 2.22485386e+00, -2.98980639e-01,  2.22904778e-01,\n",
       "        -4.74267531e-02],\n",
       "       [ 2.13922775e+00,  4.62642481e-01,  2.44387625e-01,\n",
       "         8.06066600e-02],\n",
       "       [-2.68290270e-01, -5.95848305e-01, -1.44172413e-01,\n",
       "        -2.45818962e-01],\n",
       "       [-7.68578129e-01,  1.74529001e-01,  4.33035502e-01,\n",
       "         9.12137908e-02],\n",
       "       [ 2.23425732e+00, -4.21099527e-02,  1.96724563e-01,\n",
       "         1.59064178e-01],\n",
       "       [ 1.83528114e+00,  2.22939803e-01, -5.15860255e-02,\n",
       "         1.45613778e-01],\n",
       "       [-5.86064982e-01, -1.19450792e-01,  4.05858397e-01,\n",
       "         3.19634842e-02],\n",
       "       [ 1.83659252e+00,  5.45799017e-01,  2.43447092e-01,\n",
       "         2.33103497e-01],\n",
       "       [-3.10819638e+00, -2.38142123e-01,  6.49805058e-01,\n",
       "         2.86901972e-02],\n",
       "       [ 6.49234585e-01, -1.76707054e+00, -2.72365858e-01,\n",
       "        -5.92553189e-02],\n",
       "       [-2.28898609e+00,  2.40524122e+00,  4.68296992e-01,\n",
       "        -1.95881977e-01],\n",
       "       [-7.83454407e-01,  4.26955835e-01,  4.64498713e-01,\n",
       "         9.64463262e-02],\n",
       "       [ 2.50562910e+00,  1.96410668e+00, -4.96513896e-02,\n",
       "        -2.09333274e-01],\n",
       "       [-8.25499856e-01, -3.23749030e-02, -4.22949324e-01,\n",
       "         1.23934031e-03],\n",
       "       [ 2.11524709e+00,  1.97730472e+00,  4.48430252e-01,\n",
       "         2.00924462e-01],\n",
       "       [-2.72903942e+00,  1.79313623e-01,  8.01842160e-01,\n",
       "        -1.36754787e-01],\n",
       "       [ 2.28026121e+00,  1.29003333e+00, -1.37349876e-01,\n",
       "        -2.80727482e-02],\n",
       "       [ 2.28779101e+00, -1.54247143e-01, -8.54542767e-02,\n",
       "        -1.10594661e-01],\n",
       "       [-2.27548487e+00,  6.33906000e-02,  6.76518587e-01,\n",
       "        -2.96751918e-02],\n",
       "       [ 2.21546660e+00,  1.72904073e-01,  1.29040374e-01,\n",
       "         4.47695711e-02],\n",
       "       [-1.52656517e+00,  9.65367935e-01, -9.25264758e-01,\n",
       "         4.31216452e-02],\n",
       "       [-1.37736243e-01, -5.95645837e-01, -1.13645693e-01,\n",
       "        -6.79737832e-02],\n",
       "       [-1.06672313e-01, -7.77640291e-01,  1.18461002e-01,\n",
       "         9.05086541e-03],\n",
       "       [ 1.86029567e-01, -1.03844866e+00,  2.78601443e-01,\n",
       "         4.59144839e-02],\n",
       "       [-1.50934903e+00,  5.68308839e-01, -6.33105554e-01,\n",
       "         1.89979607e-01],\n",
       "       [-1.75377084e+00,  2.50063660e-01, -2.68980097e-01,\n",
       "         3.76998598e-01],\n",
       "       [-1.05375021e+00, -1.00894310e+00,  3.24790660e-01,\n",
       "        -2.81717400e-02],\n",
       "       [-1.24667910e+00,  2.24412881e-01,  2.29514062e-01,\n",
       "         5.86741135e-02],\n",
       "       [ 2.01073070e+00, -4.72542939e-01,  2.71039501e-01,\n",
       "         3.19630362e-02],\n",
       "       [ 1.50505110e-01, -1.54340356e+00,  2.00411661e-01,\n",
       "        -5.34731762e-02],\n",
       "       [-1.91147436e+00,  4.69268454e-01, -4.32466112e-01,\n",
       "         2.41655914e-01],\n",
       "       [-1.01378490e+00, -7.48203678e-01, -5.36888424e-01,\n",
       "        -4.93630840e-02],\n",
       "       [ 2.16795181e+00,  4.25280290e-01,  1.52871905e-01,\n",
       "         5.54081192e-03],\n",
       "       [-8.06705652e-01, -4.49794940e-02,  5.50731437e-01,\n",
       "        -4.02112926e-02],\n",
       "       [ 1.65989236e-02, -2.02726892e-01, -3.02371391e-01,\n",
       "        -1.49322373e-01],\n",
       "       [-6.71164690e-01,  3.60544042e-01, -6.11675021e-01,\n",
       "        -8.01092494e-02],\n",
       "       [-8.36258690e-01, -1.44750454e+00,  6.28867650e-01,\n",
       "         1.09129745e-01],\n",
       "       [ 2.03426483e+00,  7.89743080e-01,  4.51250596e-01,\n",
       "         1.91509597e-01],\n",
       "       [ 2.16013913e+00,  1.07921007e+00, -1.65467514e-01,\n",
       "         6.51737822e-02],\n",
       "       [ 2.22485386e+00, -2.98980639e-01,  2.22904778e-01,\n",
       "        -4.74267531e-02],\n",
       "       [-1.31718193e+00, -1.35960375e-01, -1.79929815e-01,\n",
       "        -2.37265338e-01],\n",
       "       [-2.46777530e-02, -7.86325529e-01,  2.64274575e-01,\n",
       "        -2.15620748e-01],\n",
       "       [-2.41144803e+00,  2.33905022e+00,  1.16556939e-01,\n",
       "        -2.54725943e-01],\n",
       "       [ 2.41443060e+00, -1.91457484e-01, -1.54074957e-01,\n",
       "        -5.22766249e-02]])"
      ]
     },
     "execution_count": 14,
     "metadata": {},
     "output_type": "execute_result"
    }
   ],
   "source": [
    "X_train_pca"
   ]
  },
  {
   "cell_type": "code",
   "execution_count": 15,
   "metadata": {},
   "outputs": [
    {
     "data": {
      "image/png": "[encoded data removed]",
      "text/plain": [
       "<Figure size 432x288 with 1 Axes>"
      ]
     },
     "metadata": {
      "needs_background": "light"
     },
     "output_type": "display_data"
    }
   ],
   "source": [
    "#Implement PCA and use two components that explain maximum variance. \n",
    "#Implement logistic regression model to train and test and give a visual display of the performance \n",
    "#by showing a plot of the decision regions along with the test data. Print the test accuracy.\n",
    "\n",
    "\n",
    "## Use 2 components that explain maximum variance and perform a \n",
    "## ML study using Logistic Regression model\n",
    "import matplotlib.pyplot as plt\n",
    "principal_componenets_first_two = all_principal_componenets[:, :2]\n",
    "#print('Matrix W:\\n', W)\n",
    "X_train_pca_two_componenets = X_train_std.dot(principal_componenets_first_two)\n",
    "\n",
    "colors = ['r', 'b', 'g']\n",
    "markers = ['s', 'x', 'o']\n",
    "\n",
    "for l, c, m in zip(np.unique(y_train), colors, markers):\n",
    "    plt.scatter(X_train_pca_two_componenets[y_train == l, 0], \n",
    "                X_train_pca_two_componenets[y_train == l, 1], \n",
    "                c=c, label=l, marker=m)\n",
    "\n",
    "plt.xlabel('PC 1')\n",
    "plt.ylabel('PC 2')\n",
    "plt.legend(loc='lower left')\n",
    "plt.tight_layout()\n",
    "plt.savefig('pca-raschka.png', dpi=300)\n",
    "plt.show()\n",
    "from sklearn.linear_model import LogisticRegression\n",
    "clf = LogisticRegression(random_state=0).fit(X_train_pca_two_componenets, y_train)"
   ]
  },
  {
   "cell_type": "code",
   "execution_count": 16,
   "metadata": {},
   "outputs": [
    {
     "name": "stdout",
     "output_type": "stream",
     "text": [
      "test accuracy\n"
     ]
    },
    {
     "data": {
      "text/plain": [
       "0.8666666666666667"
      ]
     },
     "execution_count": 16,
     "metadata": {},
     "output_type": "execute_result"
    }
   ],
   "source": [
    "X_test_pca = X_test_std.dot(principal_componenets_first_two)\n",
    "predictions = clf.predict(X_test_pca)\n",
    "test_score = clf.score(X_test_pca, y_test)\n",
    "print(\"test accuracy\")\n",
    "\n",
    "test_score"
   ]
  },
  {
   "cell_type": "code",
   "execution_count": 17,
   "metadata": {},
   "outputs": [
    {
     "name": "stderr",
     "output_type": "stream",
     "text": [
      "/Library/Frameworks/Python.framework/Versions/3.7/lib/python3.7/site-packages/ipykernel_launcher.py:35: UserWarning: You passed a edgecolor/edgecolors ('black') for an unfilled marker ('x').  Matplotlib is ignoring the edgecolor in favor of the facecolor.  This behavior may change in the future.\n"
     ]
    },
    {
     "data": {
      "text/plain": [
       "<matplotlib.legend.Legend at 0x7f89a0546ba8>"
      ]
     },
     "execution_count": 17,
     "metadata": {},
     "output_type": "execute_result"
    },
    {
     "data": {
      "image/png": "[encoded data removed]",
      "text/plain": [
       "<Figure size 432x288 with 1 Axes>"
      ]
     },
     "metadata": {
      "needs_background": "light"
     },
     "output_type": "display_data"
    }
   ],
   "source": [
    "# Lets plot our decision regions to visualize how well the classification worked\n",
    "#give a visual display of the performance \n",
    "#by showing a plot of the decision regions along with the test data.\n",
    "#\n",
    "\n",
    "        \n",
    "X_combined = np.vstack((X_train_pca_two_componenets, X_test_pca))\n",
    "y_combined = np.hstack((y_train, y_test))\n",
    "plot_decision_regions(X=X_combined, y=y_combined, classifier=clf, test_idx=range(105, 150))\n",
    "plt.title('PCA  - two components')\n",
    "plt.xlabel('PC1')\n",
    "plt.ylabel('PC2')\n",
    "plt.legend(loc='upper left')\n"
   ]
  },
  {
   "cell_type": "code",
   "execution_count": null,
   "metadata": {},
   "outputs": [],
   "source": []
  },
  {
   "cell_type": "code",
   "execution_count": null,
   "metadata": {},
   "outputs": [],
   "source": []
  },
  {
   "cell_type": "code",
   "execution_count": null,
   "metadata": {},
   "outputs": [],
   "source": []
  },
  {
   "cell_type": "markdown",
   "metadata": {},
   "source": [
    "### Explain what you observed?\n",
    " "
   ]
  },
  {
   "cell_type": "markdown",
   "metadata": {},
   "source": [
    "# Task 2 "
   ]
  },
  {
   "cell_type": "markdown",
   "metadata": {},
   "source": [
    "In this exercise, we will take two features from the iris dataset and train using AdalineGD vs. AdalineSGD based on the implementation provided below and the perceptron model implementations from scikit-learn and one provided below.  \n",
    "You should have three plots (Adaline Rule vs. AdalineSGD vs. scikit Perceptron) along with performance comparison between these four methods. What do you observe in terms of performance difference? Please explain your interpretation.\n",
    "\n",
    "However, you are free to use any combination of two features out of 4 features given in this dataset. \n"
   ]
  },
  {
   "cell_type": "code",
   "execution_count": 18,
   "metadata": {},
   "outputs": [],
   "source": [
    "# Lets plot our decision regions to visualize how well the classification worked\n",
    "from matplotlib.colors import ListedColormap\n",
    "import matplotlib.pyplot as plt\n",
    "import warnings\n",
    "\n",
    "\n",
    "def versiontuple(v):\n",
    "    return tuple(map(int, (v.split(\".\"))))\n",
    "\n",
    "\n",
    "def plot_decision_regions(X, y, classifier, test_idx=None, resolution=0.02):\n",
    "\n",
    "    # setup marker generator and color map\n",
    "    markers = ('s', 'x', 'o', '^', 'v')\n",
    "    colors = ('red', 'blue', 'lightgreen', 'gray', 'cyan')\n",
    "    cmap = ListedColormap(colors[:len(np.unique(y))])\n",
    "\n",
    "    # plot the decision surface\n",
    "    x1_min, x1_max = X[:, 0].min() - 1, X[:, 0].max() + 1\n",
    "    x2_min, x2_max = X[:, 1].min() - 1, X[:, 1].max() + 1\n",
    "    xx1, xx2 = np.meshgrid(np.arange(x1_min, x1_max, resolution),\n",
    "                           np.arange(x2_min, x2_max, resolution))\n",
    "    Z = classifier.predict(np.array([xx1.ravel(), xx2.ravel()]).T)\n",
    "    Z = Z.reshape(xx1.shape)\n",
    "    plt.contourf(xx1, xx2, Z, alpha=0.4, cmap=cmap)\n",
    "    plt.xlim(xx1.min(), xx1.max())\n",
    "    plt.ylim(xx2.min(), xx2.max())\n",
    "\n",
    "    for idx, cl in enumerate(np.unique(y)):\n",
    "        plt.scatter(x=X[y == cl, 0], \n",
    "                    y=X[y == cl, 1],\n",
    "                    alpha=0.6, \n",
    "                    edgecolor='black',\n",
    "                    marker=markers[idx], \n",
    "                    label=cl)\n",
    "\n",
    "    # highlight test samples\n",
    "    if test_idx:\n",
    "        # plot all samples\n",
    "        if not versiontuple(np.__version__) >= versiontuple('1.9.0'):\n",
    "            X_test, y_test = X[list(test_idx), :], y[list(test_idx)]\n",
    "            warnings.warn('Please update to NumPy 1.9.0 or newer')\n",
    "        else:\n",
    "            X_test, y_test = X[test_idx, :], y[test_idx]\n",
    "\n",
    "        plt.scatter(X_test[:, 0],\n",
    "                    X_test[:, 1],\n",
    "                    alpha=1.0,\n",
    "                    edgecolor='black',\n",
    "                    linewidths=1,\n",
    "                    marker='o',\n",
    "                    s=55, label='test set')"
   ]
  },
  {
   "cell_type": "code",
   "execution_count": 19,
   "metadata": {},
   "outputs": [
    {
     "name": "stdout",
     "output_type": "stream",
     "text": [
      "Initial Weights: [0. 0. 0.]\n",
      "New Weights: [ 1.1         0.69020908 -0.31243069]\n",
      "Cost: 94.0\n",
      "New Weights: [ 1.045       0.64380998 -0.27054524]\n",
      "Cost: 10.080493236312245\n",
      "New Weights: [ 1.04775     0.64772377 -0.2744051 ]\n",
      "Cost: 9.758605734625782\n",
      "New Weights: [ 1.0476125   0.6473812  -0.27406318]\n",
      "Cost: 9.7568687298414\n",
      "New Weights: [ 1.04761937  0.64741134 -0.27409331]\n",
      "Cost: 9.756857150124144\n",
      "New Weights: [ 1.04761903  0.64740869 -0.27409066]\n",
      "Cost: 9.756857065062238\n",
      "New Weights: [ 1.04761905  0.64740892 -0.27409089]\n",
      "Cost: 9.75685706441453\n",
      "New Weights: [ 1.04761905  0.6474089  -0.27409087]\n",
      "Cost: 9.756857064409541\n",
      "New Weights: [ 1.04761905  0.6474089  -0.27409087]\n",
      "Cost: 9.7568570644095\n",
      "New Weights: [ 1.04761905  0.6474089  -0.27409087]\n",
      "Cost: 9.7568570644095\n",
      "Misclassified samples: 27\n",
      "Accuracy: 0.40\n"
     ]
    }
   ],
   "source": [
    "# Sebastian Raschka's implementation of the Adaline Rule\n",
    "class AdalineGD(object):\n",
    "    \"\"\"ADAptive LInear Neuron classifier.\n",
    "\n",
    "    Parameters\n",
    "    ------------\n",
    "    eta : float\n",
    "        Learning rate (between 0.0 and 1.0)\n",
    "    n_iter : int\n",
    "        Passes over the training dataset.\n",
    "\n",
    "    Attributes\n",
    "    -----------\n",
    "    w_ : 1d-array\n",
    "        Weights after fitting.\n",
    "    cost_ : list\n",
    "        Sum-of-squares cost function value in each epoch.\n",
    "        (After training, we can look at this to see if our algorithm converged)\n",
    "    \"\"\"\n",
    "    def __init__(self, eta=0.01, n_iter=50, debug=False):\n",
    "        self.eta = eta\n",
    "        self.n_iter = n_iter\n",
    "        self.debug = debug\n",
    "\n",
    "    def fit(self, X, y):\n",
    "        \"\"\" Fit training data.\n",
    "\n",
    "        Parameters\n",
    "        ----------\n",
    "        X : {array-like}, shape = [n_samples, n_features]\n",
    "            Training vectors, where n_samples is the number of samples and\n",
    "            n_features is the number of features.\n",
    "        y : array-like, shape = [n_samples]\n",
    "            Target values.\n",
    "\n",
    "        Returns\n",
    "        -------\n",
    "        self : object\n",
    "\n",
    "        \"\"\"\n",
    "        self.w_ = np.zeros(1 + X.shape[1])\n",
    "        self.cost_ = []\n",
    "        if self.debug: print(\"Initial Weights:\", self.w_)\n",
    "        for i in range(self.n_iter):\n",
    "            net_input = self.net_input(X)\n",
    "            # Please note that the \"activation\" method has no effect\n",
    "            # in the code since it is simply an identity function. We\n",
    "            # could write `output = self.net_input(X)` directly instead.\n",
    "            # The purpose of the activation is more conceptual, i.e.,  \n",
    "            # in the case of logistic regression, we could change it to\n",
    "            # a sigmoid function to implement a logistic regression classifier.\n",
    "            output = self.activation(X)\n",
    "            errors = (y - output)\n",
    "            self.w_[1:] =self.w_[1:] + (self.eta * X.T.dot(errors))\n",
    "            self.w_[0] = self.w_[0] + (self.eta * errors.sum())\n",
    "            cost = (errors**2).sum() / 2.0\n",
    "            self.cost_.append(cost)\n",
    "            if self.debug: print(\"New Weights:\", self.w_)\n",
    "            if self.debug: print(\"Cost:\", cost)\n",
    "        return self\n",
    "\n",
    "    def net_input(self, X):\n",
    "        \"\"\"Calculate net input\"\"\"\n",
    "        return np.dot(X, self.w_[1:]) + self.w_[0]\n",
    "\n",
    "    def activation(self, X):\n",
    "        \"\"\"Compute linear activation\"\"\"\n",
    "        return self.net_input(X)\n",
    "\n",
    "    def predict(self, X):\n",
    "        \"\"\"Return class label after unit step\"\"\"\n",
    "        return np.where(self.activation(X) >= 0.0, 1, -1)\n",
    "    \n",
    "    \n",
    "## your code here\n",
    "X_iris_2features = X_iris[:,:2]\n",
    "X_train_2features, X_test_2features, y_train, y_test = train_test_split(\n",
    "    X_iris_2features, y_iris, test_size=0.3, random_state=0)\n",
    "scaler = preprocessing.StandardScaler().fit(X_train_2features)\n",
    "X_train_2features_std = scaler.transform(X_train_2features)\n",
    "X_test_2features_std = scaler.transform(X_test_2features)\n",
    "y_train=y_train.astype('int')\n",
    "y_test=y_test.astype('int')\n",
    "#X_train, X_test, y_train, y_test = train_test_split(X, y, test_size=0.3, random_state=0)\n",
    "ada = AdalineGD(n_iter=10,eta=0.01, debug=True)\n",
    "ada.fit(X_train_2features_std,y_train)\n",
    "# Step3: Use the model to predict the test data\n",
    "y_pred = ada.predict(X_test_2features_std)\n",
    "# Lets see how good we did\n",
    "print('Misclassified samples: %d' %(y_test != y_pred).sum())\n",
    "from sklearn.metrics import accuracy_score\n",
    "print('Accuracy: %.2f' % accuracy_score(np.array(y_test),np.array(y_pred)))"
   ]
  },
  {
   "cell_type": "code",
   "execution_count": 20,
   "metadata": {},
   "outputs": [
    {
     "name": "stderr",
     "output_type": "stream",
     "text": [
      "/Library/Frameworks/Python.framework/Versions/3.7/lib/python3.7/site-packages/ipykernel_launcher.py:35: UserWarning: You passed a edgecolor/edgecolors ('black') for an unfilled marker ('x').  Matplotlib is ignoring the edgecolor in favor of the facecolor.  This behavior may change in the future.\n"
     ]
    },
    {
     "data": {
      "image/png": "[encoded data removed]",
      "text/plain": [
       "<Figure size 432x288 with 1 Axes>"
      ]
     },
     "metadata": {
      "needs_background": "light"
     },
     "output_type": "display_data"
    },
    {
     "data": {
      "image/png": "[encoded data removed]",
      "text/plain": [
       "<Figure size 432x288 with 1 Axes>"
      ]
     },
     "metadata": {
      "needs_background": "light"
     },
     "output_type": "display_data"
    }
   ],
   "source": [
    "X_combined = np.vstack((X_train_2features_std, X_test_2features_std))\n",
    "y_combined = np.hstack((y_train, y_test))\n",
    "plot_decision_regions(X=X_combined, y=y_combined, classifier=ada,test_idx=range(105, 150))\n",
    "plt.title('Adaline - Gradient Descent')\n",
    "plt.xlabel('sepal length [standardized]')\n",
    "plt.ylabel('petal length [standardized]')\n",
    "plt.legend(loc='upper left')\n",
    "plt.tight_layout()\n",
    "plt.savefig('./adalineGD.png', dpi=300)\n",
    "plt.show()\n",
    "plt.plot(range(1, len(ada.cost_) + 1), ada.cost_, marker='o')\n",
    "plt.xlabel('Epochs')\n",
    "plt.ylabel('Sum-squared-error')\n",
    "\n",
    "plt.tight_layout()\n",
    "# plt.savefig('./adaline_3.png', dpi=300)\n",
    "plt.show()"
   ]
  },
  {
   "cell_type": "code",
   "execution_count": 21,
   "metadata": {},
   "outputs": [
    {
     "data": {
      "text/plain": [
       "array([2, 1, 0, 2, 0, 2, 0, 1, 1, 1, 2, 1, 1, 1, 1, 0, 1, 1, 0, 0, 2, 1,\n",
       "       0, 0, 2, 0, 0, 1, 1, 0, 2, 1, 0, 2, 2, 1, 0, 1, 1, 1, 2, 0, 2, 0,\n",
       "       0])"
      ]
     },
     "execution_count": 21,
     "metadata": {},
     "output_type": "execute_result"
    }
   ],
   "source": [
    "y_test"
   ]
  },
  {
   "cell_type": "code",
   "execution_count": null,
   "metadata": {},
   "outputs": [],
   "source": []
  },
  {
   "cell_type": "code",
   "execution_count": 22,
   "metadata": {},
   "outputs": [
    {
     "data": {
      "text/plain": [
       "array([ 1,  1,  1,  1,  1,  1,  1,  1,  1,  1,  1,  1,  1,  1,  1,  1,  1,\n",
       "        1,  1,  1,  1,  1,  1,  1,  1, -1, -1,  1,  1,  1,  1,  1,  1,  1,\n",
       "        1,  1,  1,  1,  1,  1,  1,  1,  1,  1,  1])"
      ]
     },
     "execution_count": 22,
     "metadata": {},
     "output_type": "execute_result"
    }
   ],
   "source": [
    "y_pred"
   ]
  },
  {
   "cell_type": "code",
   "execution_count": 23,
   "metadata": {},
   "outputs": [],
   "source": [
    "## I observe that Adaline algorithm assigns everythings a negative category . SInce I am trying to perform a binary \n",
    "##classification on a data set which has 3 classes."
   ]
  },
  {
   "cell_type": "code",
   "execution_count": 24,
   "metadata": {},
   "outputs": [
    {
     "name": "stderr",
     "output_type": "stream",
     "text": [
      "/Library/Frameworks/Python.framework/Versions/3.7/lib/python3.7/site-packages/ipykernel_launcher.py:35: UserWarning: You passed a edgecolor/edgecolors ('black') for an unfilled marker ('x').  Matplotlib is ignoring the edgecolor in favor of the facecolor.  This behavior may change in the future.\n"
     ]
    },
    {
     "data": {
      "image/png": "[encoded data removed]",
      "text/plain": [
       "<Figure size 432x288 with 1 Axes>"
      ]
     },
     "metadata": {
      "needs_background": "light"
     },
     "output_type": "display_data"
    }
   ],
   "source": [
    "from numpy.random import seed\n",
    "\n",
    "class AdalineSGD(object):\n",
    "    \"\"\"ADAptive LInear NEuron classifier.\n",
    "\n",
    "    Parameters\n",
    "    ------------\n",
    "    eta : float\n",
    "        Learning rate (between 0.0 and 1.0)\n",
    "    n_iter : int\n",
    "        Passes over the training dataset.\n",
    "\n",
    "    Attributes\n",
    "    -----------\n",
    "    w_ : 1d-array\n",
    "        Weights after fitting.\n",
    "    cost_ : list\n",
    "        Sum-of-squares cost function value averaged over all\n",
    "        training samples in each epoch.\n",
    "    shuffle : bool (default: True)\n",
    "        Shuffles training data every epoch if True to prevent cycles.\n",
    "    random_state : int (default: None)\n",
    "        Set random state for shuffling and initializing the weights.\n",
    "        \n",
    "    \"\"\"\n",
    "    def __init__(self, eta=0.01, n_iter=10, shuffle=True, random_state=None):\n",
    "        self.eta = eta\n",
    "        self.n_iter = n_iter\n",
    "        self.w_initialized = False\n",
    "        self.shuffle = shuffle\n",
    "        if random_state:\n",
    "            seed(random_state)\n",
    "        \n",
    "    def fit(self, X, y):\n",
    "        \"\"\" Fit training data.\n",
    "\n",
    "        Parameters\n",
    "        ----------\n",
    "        X : {array-like}, shape = [n_samples, n_features]\n",
    "            Training vectors, where n_samples is the number of samples and\n",
    "            n_features is the number of features.\n",
    "        y : array-like, shape = [n_samples]\n",
    "            Target values.\n",
    "\n",
    "        Returns\n",
    "        -------\n",
    "        self : object\n",
    "\n",
    "        \"\"\"\n",
    "        self._initialize_weights(X.shape[1])\n",
    "        self.cost_ = []\n",
    "        for i in range(self.n_iter):\n",
    "            if self.shuffle:\n",
    "                X, y = self._shuffle(X, y)\n",
    "            cost = []\n",
    "            for xi, target in zip(X, y):\n",
    "                cost.append(self._update_weights(xi, target))\n",
    "            avg_cost = sum(cost) / len(y)\n",
    "            self.cost_.append(avg_cost)\n",
    "        return self\n",
    "\n",
    "    def partial_fit(self, X, y):\n",
    "        \"\"\"Fit training data without reinitializing the weights\"\"\"\n",
    "        if not self.w_initialized:\n",
    "            self._initialize_weights(X.shape[1])\n",
    "        if y.ravel().shape[0] > 1:\n",
    "            for xi, target in zip(X, y):\n",
    "                self._update_weights(xi, target)\n",
    "        else:\n",
    "            self._update_weights(X, y)\n",
    "        return self\n",
    "\n",
    "    def _shuffle(self, X, y):\n",
    "        \"\"\"Shuffle training data\"\"\"\n",
    "        r = np.random.permutation(len(y))\n",
    "        return X[r], y[r]\n",
    "    \n",
    "    def _initialize_weights(self, m):\n",
    "        \"\"\"Initialize weights to zeros\"\"\"\n",
    "        self.w_ = np.zeros(1 + m)\n",
    "        self.w_initialized = True\n",
    "        \n",
    "    def _update_weights(self, xi, target):\n",
    "        \"\"\"Apply Adaline learning rule to update the weights\"\"\"\n",
    "        output = self.net_input(xi)\n",
    "        error = (target - output)\n",
    "        self.w_[1:] += self.eta * xi.dot(error)\n",
    "        self.w_[0] += self.eta * error\n",
    "        cost = 0.5 * error**2\n",
    "        return cost\n",
    "    \n",
    "    def net_input(self, X):\n",
    "        \"\"\"Calculate net input\"\"\"\n",
    "        return np.dot(X, self.w_[1:]) + self.w_[0]\n",
    "\n",
    "    def activation(self, X):\n",
    "        \"\"\"Compute linear activation\"\"\"\n",
    "        return self.net_input(X)\n",
    "\n",
    "    def predict(self, X):\n",
    "        \"\"\"Return class label after unit step\"\"\"\n",
    "        return np.where(self.activation(X) >= 0.0, 1, -1)\n",
    "    \n",
    "    \n",
    "## your code here\n",
    "\n",
    "adasgd = AdalineSGD(n_iter=5, eta=0.01, random_state=1)\n",
    "# We are using all but the first input sample to train (no split)\n",
    "\n",
    "\n",
    "adasgd.fit(X_train_2features_std[1:, :], y_train[1:])\n",
    "\n",
    "plot_decision_regions(X_train_2features_std[1:, :], y_train[1:], classifier=adasgd)\n",
    "plt.title('Adaline - Stochastic Gradient Descent')\n",
    "plt.xlabel('sepal length [standardized]')\n",
    "plt.ylabel('petal length [standardized]')\n",
    "plt.legend(loc='upper left')\n",
    "\n",
    "plt.tight_layout()\n",
    "plt.savefig('adalineSGD.png', dpi=300)\n",
    "plt.show()"
   ]
  },
  {
   "cell_type": "code",
   "execution_count": 25,
   "metadata": {},
   "outputs": [
    {
     "data": {
      "text/plain": [
       "<__main__.AdalineSGD at 0x7f89a0977940>"
      ]
     },
     "execution_count": 25,
     "metadata": {},
     "output_type": "execute_result"
    }
   ],
   "source": [
    "## Partial fitting Adaline SGD\n",
    "\n",
    "adasgd.partial_fit(X_train_2features_std[0, :], y_train[0])"
   ]
  },
  {
   "cell_type": "code",
   "execution_count": 26,
   "metadata": {},
   "outputs": [],
   "source": [
    "\n",
    "y_pred = adasgd.predict(X_test_2features_std)\n"
   ]
  },
  {
   "cell_type": "code",
   "execution_count": 27,
   "metadata": {},
   "outputs": [
    {
     "name": "stdout",
     "output_type": "stream",
     "text": [
      "Adaline SGD \n",
      "Misclassified samples: 27\n",
      "Accuracy: 0.40\n"
     ]
    }
   ],
   "source": [
    "# Lets see how good we did\n",
    "print(\"Adaline SGD \")\n",
    "## Adaline SGD accuracy\n",
    "print('Misclassified samples: %d' %(y_test != y_pred).sum())\n",
    "from sklearn.metrics import accuracy_score\n",
    "print('Accuracy: %.2f' % accuracy_score(np.array(y_test),np.array(y_pred)))"
   ]
  },
  {
   "cell_type": "code",
   "execution_count": null,
   "metadata": {},
   "outputs": [],
   "source": []
  },
  {
   "cell_type": "code",
   "execution_count": null,
   "metadata": {},
   "outputs": [],
   "source": []
  },
  {
   "cell_type": "code",
   "execution_count": 28,
   "metadata": {},
   "outputs": [
    {
     "name": "stdout",
     "output_type": "stream",
     "text": [
      "Scikit perceptron\n",
      "\n",
      "Misclassified samples: 9\n",
      "Accuracy: 0.80\n"
     ]
    }
   ],
   "source": [
    "## Scikit perceptron\n",
    "\n",
    "## Scikit perceptron\n",
    "print(\"Scikit perceptron\")\n",
    "from sklearn.linear_model import Perceptron\n",
    "from sklearn.metrics import accuracy_score\n",
    "print()\n",
    "ppn = Perceptron(max_iter=200, eta0=0.01, random_state=3)\n",
    "ppn.fit(X_train_2features_std, y_train)\n",
    "y_pred = ppn.predict(X_test_2features_std)\n",
    "print('Misclassified samples: %d' % (y_test != y_pred).sum())\n",
    "print('Accuracy: %.2f' % accuracy_score(y_test, y_pred))"
   ]
  },
  {
   "cell_type": "code",
   "execution_count": 29,
   "metadata": {},
   "outputs": [
    {
     "name": "stderr",
     "output_type": "stream",
     "text": [
      "/Library/Frameworks/Python.framework/Versions/3.7/lib/python3.7/site-packages/ipykernel_launcher.py:35: UserWarning: You passed a edgecolor/edgecolors ('black') for an unfilled marker ('x').  Matplotlib is ignoring the edgecolor in favor of the facecolor.  This behavior may change in the future.\n"
     ]
    },
    {
     "data": {
      "image/png": "[encoded data removed]",
      "text/plain": [
       "<Figure size 432x288 with 1 Axes>"
      ]
     },
     "metadata": {
      "needs_background": "light"
     },
     "output_type": "display_data"
    }
   ],
   "source": [
    "X_combined_std = np.vstack((X_train_2features_std, X_test_2features_std))\n",
    "y_combined = np.hstack((y_train, y_test))\n",
    "\n",
    "plot_decision_regions(X=X_combined_std, y=y_combined,\n",
    "                      classifier=ppn, test_idx=range(105, 150))\n",
    "plt.title('Perceptron - on Iris Dataset')\n",
    "plt.xlabel('petal length [standardized]')\n",
    "plt.ylabel('petal width [standardized]')\n",
    "plt.legend(loc='upper left')\n",
    "\n",
    "plt.tight_layout()\n",
    "plt.savefig('iris_perceptron_scikit.png', dpi=300)\n",
    "plt.show()"
   ]
  },
  {
   "cell_type": "code",
   "execution_count": 30,
   "metadata": {},
   "outputs": [],
   "source": [
    "# Sebastian Raschka's implementation of the Perceptron Learning rule\n",
    "import numpy as np\n",
    "\n",
    "class Perceptron_2(object):\n",
    "    \"\"\"Perceptron classifier.\n",
    "\n",
    "    Parameters\n",
    "    ------------\n",
    "    eta : float\n",
    "        Learning rate (between 0.0 and 1.0)\n",
    "    n_iter : int\n",
    "        Passes over the training dataset.\n",
    "\n",
    "    Attributes\n",
    "    -----------\n",
    "    w_ : 1d-array\n",
    "        Weights after fitting.\n",
    "    errors_ : list\n",
    "        Number of misclassifications (updates) in each epoch.\n",
    "\n",
    "    \"\"\"\n",
    "    def __init__(self, eta=0.01,n_iter=10,debug=False,random_seed=1):\n",
    "        self.eta = eta\n",
    "        self.n_iter = n_iter\n",
    "        self.random_seed = random_seed\n",
    "        self.debug = debug\n",
    "\n",
    "    def fit(self, X, y):\n",
    "        \"\"\"Fit training data.\n",
    "\n",
    "        Parameters\n",
    "        ----------\n",
    "        X : {array-like}, shape = [n_samples, n_features]\n",
    "            Training vectors, where n_samples is the number of samples and\n",
    "            n_features is the number of features.\n",
    "        y : array-like, shape = [n_samples]\n",
    "            Target values.\n",
    "\n",
    "        Returns\n",
    "        -------\n",
    "        self : object\n",
    "\n",
    "        \"\"\"\n",
    "        rgen = np.random.RandomState(self.random_seed) \n",
    "        self.w_ = rgen.normal(loc=0.0, scale=0.01, size=1 + X.shape[1])\n",
    "        self.errors_ = []\n",
    "        if self.debug: print(\"Initial Weights:\", self.w_)\n",
    "        for iter in range(self.n_iter):\n",
    "            errors = 0\n",
    "            if self.debug: print(\"Iteration:\", iter)\n",
    "            for xi, target in zip(X, y):\n",
    "                update = self.eta * (target - self.predict(xi))\n",
    "                if self.debug: print(xi, target, self.predict(xi), update)\n",
    "                self.w_[1:] += update * xi\n",
    "                self.w_[0] += update\n",
    "                errors += int(update != 0.0)\n",
    "                if self.debug: print(\"New Weights:\", self.w_)\n",
    "            self.errors_.append(errors) \n",
    "        return self\n",
    "\n",
    "    def net_input(self, X):\n",
    "        \"\"\"Calculate net input\"\"\"\n",
    "        return np.dot(X, self.w_[1:]) + self.w_[0]\n",
    "\n",
    "    def predict(self, X):\n",
    "        \"\"\"Return class label after unit step\"\"\"\n",
    "        return np.where(self.net_input(X) >= 0.0, 1, -1)\n",
    "    \n",
    "    \n",
    "  \n"
   ]
  },
  {
   "cell_type": "code",
   "execution_count": null,
   "metadata": {},
   "outputs": [],
   "source": []
  },
  {
   "cell_type": "code",
   "execution_count": 31,
   "metadata": {},
   "outputs": [
    {
     "name": "stdout",
     "output_type": "stream",
     "text": [
      "Sebastian Raschka's perceptron\n",
      "Misclassified samples: 27\n",
      "Accuracy: 0.40\n"
     ]
    }
   ],
   "source": [
    "## Our perceptron \n",
    "print(\"Sebastian Raschka's perceptron\")\n",
    "ppn = Perceptron_2(n_iter=400, eta=0.1, random_seed=1)\n",
    "ppn.fit(X_train_2features_std, y_train)\n",
    "y_pred = ppn.predict(X_test_2features_std)\n",
    "print('Misclassified samples: %d' % (y_test != y_pred).sum())\n",
    "print('Accuracy: %.2f' % accuracy_score(y_test, y_pred))"
   ]
  },
  {
   "cell_type": "code",
   "execution_count": 32,
   "metadata": {},
   "outputs": [
    {
     "data": {
      "text/plain": [
       "array([ 1,  1,  1,  1, -1,  1, -1,  1,  1,  1,  1,  1,  1,  1,  1,  1,  1,\n",
       "        1, -1,  1,  1,  1, -1, -1,  1, -1, -1,  1,  1, -1,  1,  1,  1,  1,\n",
       "        1,  1,  1,  1,  1,  1,  1, -1,  1, -1,  1])"
      ]
     },
     "execution_count": 32,
     "metadata": {},
     "output_type": "execute_result"
    }
   ],
   "source": [
    "y_pred"
   ]
  },
  {
   "cell_type": "code",
   "execution_count": 33,
   "metadata": {},
   "outputs": [
    {
     "name": "stderr",
     "output_type": "stream",
     "text": [
      "/Library/Frameworks/Python.framework/Versions/3.7/lib/python3.7/site-packages/ipykernel_launcher.py:35: UserWarning: You passed a edgecolor/edgecolors ('black') for an unfilled marker ('x').  Matplotlib is ignoring the edgecolor in favor of the facecolor.  This behavior may change in the future.\n"
     ]
    },
    {
     "data": {
      "image/png": "[encoded data removed]",
      "text/plain": [
       "<Figure size 432x288 with 1 Axes>"
      ]
     },
     "metadata": {
      "needs_background": "light"
     },
     "output_type": "display_data"
    }
   ],
   "source": [
    "\n",
    "X_combined_std = np.vstack((X_train_2features_std, X_test_2features_std))\n",
    "y_combined = np.hstack((y_train, y_test))\n",
    "\n",
    "plot_decision_regions(X=X_combined_std, y=y_combined,\n",
    "                      classifier=ppn, test_idx=range(105, 150))\n",
    "plt.title(' Sebastian Raschka Perceptron - on Iris Dataset')\n",
    "plt.xlabel('petal length [standardized]')\n",
    "plt.ylabel('petal width [standardized]')\n",
    "plt.legend(loc='upper left')\n",
    "\n",
    "plt.tight_layout()\n",
    "plt.savefig('iris_perceptron_scikit.png', dpi=300)\n",
    "plt.show()"
   ]
  },
  {
   "cell_type": "code",
   "execution_count": 34,
   "metadata": {},
   "outputs": [
    {
     "data": {
      "text/plain": [
       "'\\nWhat I observed:\\n\\nAdaline : accuracy 0.40\\nAdaline SGD : accuracy 0.40\\nScikit Perceptron : accuracy : 0.80\\nSebastian Perceptron : accuracy : 0.40\\n SInce the Adaline,  Adaline SGD , and Sebastian Perceptron does not take into account that we are dealing with 3 classes\\n instead of 2, they give bad accuracy . They classify  everything as -1 negative class and hence the accuracy is same for all three\\n .\\n Whereas scikit-perceptron gives a good relative accuarcy as it is internally running three binary models and then \\n predicting on the basis of the model with the highest probability. Hence it perfoms much better .\\n\\n'"
      ]
     },
     "execution_count": 34,
     "metadata": {},
     "output_type": "execute_result"
    }
   ],
   "source": [
    "#You should have three plots (Adaline Rule vs. AdalineSGD vs. scikit Perceptron) \n",
    "#along with performance comparison between these four methods. \n",
    "#What do you observe in terms of performance difference? Please explain your interpretation.\n",
    "'''\n",
    "What I observed:\n",
    "\n",
    "Adaline : accuracy 0.40\n",
    "Adaline SGD : accuracy 0.40\n",
    "Scikit Perceptron : accuracy : 0.80\n",
    "Sebastian Perceptron : accuracy : 0.40\n",
    " SInce the Adaline,  Adaline SGD , and Sebastian Perceptron does not take into account that we are dealing with 3 classes\n",
    " instead of 2, they give bad accuracy . They classify  everything as -1 negative class and hence the accuracy is same for all three\n",
    " .\n",
    " Whereas scikit-perceptron gives a good relative accuarcy as it is internally running three binary models and then \n",
    " predicting on the basis of the model with the highest probability. Hence it perfoms much better .\n",
    "\n",
    "'''"
   ]
  },
  {
   "cell_type": "raw",
   "metadata": {},
   "source": [
    "## Task 3 Explore parameter tuning in Scikit Logistic regression"
   ]
  },
  {
   "cell_type": "code",
   "execution_count": null,
   "metadata": {},
   "outputs": [],
   "source": []
  },
  {
   "cell_type": "code",
   "execution_count": null,
   "metadata": {},
   "outputs": [],
   "source": [
    "\n",
    "\n",
    "\n"
   ]
  },
  {
   "cell_type": "markdown",
   "metadata": {},
   "source": [
    "We have seen that the 'C' parameter in logistic regression determines the strength of logistic regression. In this exercise, you will tune the 'C' parameter to get best performance from the model for iris data classification. \n",
    "Write the code to run logistic regression on iris data and report the performance for 10 different values of 'C' (just Accuracy will do)."
   ]
  },
  {
   "cell_type": "code",
   "execution_count": 35,
   "metadata": {},
   "outputs": [],
   "source": [
    "X_train, X_test, y_train, y_test = train_test_split(\n",
    "    X_iris, y_iris, test_size=0.3, random_state=0)\n",
    "y_train=y_train.astype('int')\n",
    "y_test=y_test.astype('int')"
   ]
  },
  {
   "cell_type": "code",
   "execution_count": 36,
   "metadata": {},
   "outputs": [
    {
     "name": "stdout",
     "output_type": "stream",
     "text": [
      "Misclassified samples: 17\n",
      "value of C : 0.005\n",
      "Accuracy: 0.62\n",
      "Misclassified samples: 11\n",
      "value of C : 0.1\n",
      "Accuracy: 0.76\n",
      "Misclassified samples: 5\n",
      "value of C : 0.5\n",
      "Accuracy: 0.89\n",
      "Misclassified samples: 4\n",
      "value of C : 1.0\n",
      "Accuracy: 0.91\n",
      "Misclassified samples: 2\n",
      "value of C : 5.0\n",
      "Accuracy: 0.96\n",
      "Misclassified samples: 2\n",
      "value of C : 10\n",
      "Accuracy: 0.96\n",
      "Misclassified samples: 1\n",
      "value of C : 50.0\n",
      "Accuracy: 0.98\n",
      "Misclassified samples: 1\n",
      "value of C : 100.0\n",
      "Accuracy: 0.98\n",
      "Misclassified samples: 1\n",
      "value of C : 500.0\n",
      "Accuracy: 0.98\n",
      "Misclassified samples: 1\n",
      "value of C : 1000.0\n",
      "Accuracy: 0.98\n"
     ]
    }
   ],
   "source": [
    "from sklearn.linear_model import LogisticRegression\n",
    "from sklearn.metrics import accuracy_score\n",
    "\n",
    "scaler = preprocessing.StandardScaler().fit(X_train)\n",
    "X_train_std = scaler.transform(X_train)\n",
    "X_test_std = scaler.transform(X_test)\n",
    "\n",
    "C_samples = [0.005, 0.1, 0.5, 1., 5., 10, 50., 100., 500., 1000.]\n",
    "accuracy = []\n",
    "for c in C_samples:\n",
    "    lr = LogisticRegression(C=c, random_state=0, multi_class=\"ovr\") \n",
    "    lr.fit(X_train_std, y_train) # Learning from the training data\n",
    "    # predict on the test data\n",
    "    y_pred = lr.predict(X_test_std)\n",
    "    # Lets see how good we did\n",
    "    print('Misclassified samples: %d' %(y_test != y_pred).sum())\n",
    "    from sklearn.metrics import accuracy_score\n",
    "    print(\"value of C : {}\".format(c)) \n",
    "    \n",
    "    print('Accuracy: %.2f' % accuracy_score(y_test,y_pred))\n",
    "    accuracy.append(accuracy_score(y_test,y_pred))"
   ]
  },
  {
   "cell_type": "markdown",
   "metadata": {},
   "source": [
    "## Task 4 Explore parameter tuning in SVM"
   ]
  },
  {
   "cell_type": "markdown",
   "metadata": {},
   "source": [
    "Similar to the previous task, use the SVM model for various kernels: ‘linear’, ‘poly’, ‘rbf’, ‘sigmoid’ and report the performance (just Accuracy will do). "
   ]
  },
  {
   "cell_type": "code",
   "execution_count": 37,
   "metadata": {},
   "outputs": [
    {
     "name": "stdout",
     "output_type": "stream",
     "text": [
      "Misclassified samples: 1\n",
      "Accuracy: 0.98\n",
      "Misclassified samples: 2\n",
      "Accuracy: 0.96\n",
      "Misclassified samples: 1\n",
      "Accuracy: 0.98\n",
      "Misclassified samples: 3\n",
      "Accuracy: 0.93\n"
     ]
    }
   ],
   "source": [
    "from sklearn.svm import SVC\n",
    "kernel_samples = ['linear', 'poly', 'rbf', 'sigmoid']\n",
    "accuracy = []\n",
    "for kernel in kernel_samples:               \n",
    "    svm = SVC(kernel=kernel, C=10.0, random_state=0)\n",
    "    svm.fit(X_train_std, y_train)\n",
    "    # Use the SVM model to predict the test data\n",
    "    y_pred = svm.predict(X_test_std)\n",
    "    # Lets see how good we did\n",
    "    print('Misclassified samples: %d' %(y_test != y_pred).sum())\n",
    "    from sklearn.metrics import accuracy_score\n",
    "    print('Accuracy: %.2f' % accuracy_score(y_test,y_pred))\n",
    "    accuracy.append(accuracy_score(y_test,y_pred))\n"
   ]
  },
  {
   "cell_type": "code",
   "execution_count": 38,
   "metadata": {},
   "outputs": [
    {
     "name": "stdout",
     "output_type": "stream",
     "text": [
      "Accuracy: 0.98\n",
      "Accuracy: 0.96\n",
      "Accuracy: 0.98\n",
      "Accuracy: 0.93\n"
     ]
    }
   ],
   "source": [
    "for acc in accuracy:\n",
    "    print('Accuracy: %.2f' % acc)"
   ]
  },
  {
   "cell_type": "code",
   "execution_count": null,
   "metadata": {},
   "outputs": [],
   "source": []
  }
 ],
 "metadata": {
  "kernelspec": {
   "display_name": "Python 3 (ipykernel)",
   "language": "python",
   "name": "python3"
  },
  "language_info": {
   "codemirror_mode": {
    "name": "ipython",
    "version": 3
   },
   "file_extension": ".py",
   "mimetype": "text/x-python",
   "name": "python",
   "nbconvert_exporter": "python",
   "pygments_lexer": "ipython3",
   "version": "3.7.3"
  }
 },
 "nbformat": 4,
 "nbformat_minor": 2
}
